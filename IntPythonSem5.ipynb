{
 "cells": [
  {
   "cell_type": "markdown",
   "id": "musical-grace",
   "metadata": {},
   "source": [
    "## Data Analysis in Python\n",
    "_Author: Ioann Dovgopoliy_"
   ]
  },
  {
   "cell_type": "markdown",
   "id": "retained-comment",
   "metadata": {},
   "source": [
    "## Seminar 5"
   ]
  },
  {
   "cell_type": "markdown",
   "id": "available-reliance",
   "metadata": {},
   "source": [
    "### Seminar outline"
   ]
  },
  {
   "cell_type": "markdown",
   "id": "under-strap",
   "metadata": {},
   "source": [
    "* Multiple assignment\n",
    "* Split & join\n",
    "* For loop & list comprehension, range and enumerate\n",
    "* While loop\n",
    "* Map & reduce\n",
    "* Summary\n",
    "* Practice"
   ]
  },
  {
   "cell_type": "markdown",
   "id": "german-immigration",
   "metadata": {},
   "source": [
    "### Multiple assignment\n",
    "Multiple assignment is the way to define a few variables simultaneously. For instance, you want to define `a = 5` and `b = 2`. How can you do it? In traditional way:"
   ]
  },
  {
   "cell_type": "code",
   "execution_count": null,
   "id": "similar-hearts",
   "metadata": {},
   "outputs": [],
   "source": [
    "a = 5\n",
    "b = 2"
   ]
  },
  {
   "cell_type": "markdown",
   "id": "designed-designation",
   "metadata": {},
   "source": [
    "But another option is possible:"
   ]
  },
  {
   "cell_type": "code",
   "execution_count": null,
   "id": "gentle-showcase",
   "metadata": {},
   "outputs": [],
   "source": [
    "a, b = 5, 2 # you can specify any number of variables"
   ]
  },
  {
   "cell_type": "markdown",
   "id": "convinced-status",
   "metadata": {},
   "source": [
    "Why is it useful? Why do not to use a traditional way? Imagine you have a list `some_list = [5, 2]`. You would like to store the first element as variable `a` and the second as variable `b`. Possible way to do it:"
   ]
  },
  {
   "cell_type": "code",
   "execution_count": null,
   "id": "paperback-pleasure",
   "metadata": {},
   "outputs": [],
   "source": [
    "some_list = [5, 2] # define list\n",
    "\n",
    "a = some_list[0] # first element\n",
    "b = some_list[1] # second element"
   ]
  },
  {
   "cell_type": "markdown",
   "id": "exempt-cookie",
   "metadata": {},
   "source": [
    "But it can be shorter and more elegant using multiple assignment! Let's see:"
   ]
  },
  {
   "cell_type": "code",
   "execution_count": null,
   "id": "distinguished-screen",
   "metadata": {},
   "outputs": [],
   "source": [
    "some_list = [5, 2]\n",
    "\n",
    "a, b = some_list # the way to \"unpack\" your list (other collections can be unpacked too)"
   ]
  },
  {
   "cell_type": "code",
   "execution_count": null,
   "id": "floppy-spotlight",
   "metadata": {},
   "outputs": [],
   "source": [
    "a, b"
   ]
  },
  {
   "cell_type": "markdown",
   "id": "appropriate-elizabeth",
   "metadata": {},
   "source": [
    "You can change elements of your list simultaneously just like that. For instance, you want to swap first and last elements of the list. Traditional way is rather bulky:"
   ]
  },
  {
   "cell_type": "code",
   "execution_count": null,
   "id": "enclosed-pharmacology",
   "metadata": {},
   "outputs": [],
   "source": [
    "another_list = [5, 1, 0, 8]\n",
    "\n",
    "first_elem = another_list[0] # define variable for the first element\n",
    "last_elem = another_list[-1] # define variable for the last element\n",
    "\n",
    "another_list[0] = last_elem # reassign the first element to the last element\n",
    "another_list[-1] = first_elem # reassign the last element to the first element\n",
    "\n",
    "print(another_list)"
   ]
  },
  {
   "cell_type": "markdown",
   "id": "excellent-visiting",
   "metadata": {},
   "source": [
    "Multiple assignment is an optimal resolution:"
   ]
  },
  {
   "cell_type": "code",
   "execution_count": null,
   "id": "ranking-accident",
   "metadata": {},
   "outputs": [],
   "source": [
    "another_list = [5, 1, 0, 8]\n",
    "\n",
    "another_list[0], another_list[-1] = another_list[-1], another_list[0] # just swap them\n",
    "\n",
    "print(another_list)"
   ]
  },
  {
   "cell_type": "code",
   "execution_count": null,
   "id": "heavy-backup",
   "metadata": {},
   "outputs": [],
   "source": [
    "small_list = [5, 1, 2]\n",
    "\n",
    "small_list[1], small_list[2] = small_list[2], small_list[1]\n",
    "\n",
    "small_list"
   ]
  },
  {
   "cell_type": "markdown",
   "id": "coordinate-worship",
   "metadata": {},
   "source": [
    "### Split & join\n",
    "**Issue.** What ways to create list do you remember?"
   ]
  },
  {
   "cell_type": "markdown",
   "id": "pressing-german",
   "metadata": {},
   "source": [
    "How it can be made from a string using `list()` function:"
   ]
  },
  {
   "cell_type": "code",
   "execution_count": null,
   "id": "industrial-growing",
   "metadata": {},
   "outputs": [],
   "source": [
    "future_list = 'I want to become a list.'\n",
    "\n",
    "happy_list = list(future_list)\n",
    "\n",
    "print(happy_list)"
   ]
  },
  {
   "cell_type": "markdown",
   "id": "aggressive-kinase",
   "metadata": {},
   "source": [
    "In this case the string is splitted by _each character_. But can we specify the split, e. g., for example, split the sentence by its words? Of course, we can. We just need to remember how the words in a sentence are divided (spoiler: using whitespaces) and use the nice `.split()` method (it is a **string**, not list method):"
   ]
  },
  {
   "cell_type": "code",
   "execution_count": null,
   "id": "prostate-technology",
   "metadata": {},
   "outputs": [],
   "source": [
    "future_list.split(' ') # specify separator as an argument (by default it is whitespace)"
   ]
  },
  {
   "cell_type": "code",
   "execution_count": null,
   "id": "pretty-sullivan",
   "metadata": {},
   "outputs": [],
   "source": [
    "future_list.split('o')"
   ]
  },
  {
   "cell_type": "code",
   "execution_count": null,
   "id": "minute-comfort",
   "metadata": {},
   "outputs": [],
   "source": [
    "future_list.split() # string becomes a list"
   ]
  },
  {
   "cell_type": "markdown",
   "id": "collected-arthur",
   "metadata": {},
   "source": [
    "If we are able to travel from strings to list, is it possible to go reversely? Here the `.join()` method can help us.\n",
    "\n",
    "**Notice.** Although `.join()` allows us to go from the list to a string, it is still a **string**, not list method (as well as `.split()`).\n",
    "\n",
    "Imagine we have some list of persons and want to make it the string where these persons will be enlisted while separated by comma:"
   ]
  },
  {
   "cell_type": "code",
   "execution_count": null,
   "id": "limited-terror",
   "metadata": {},
   "outputs": [],
   "source": [
    "persons = ['Igor', 'Georgy', 'Ioann']"
   ]
  },
  {
   "cell_type": "markdown",
   "id": "basic-prospect",
   "metadata": {},
   "source": [
    "**Issue.** We want to get `'Igor, Georgy, Ioann'` from `['Igor', 'Georgy', 'Ioann']`. What 'unificator' should we use?"
   ]
  },
  {
   "cell_type": "code",
   "execution_count": null,
   "id": "silver-ecuador",
   "metadata": {},
   "outputs": [],
   "source": [
    "', '.join(persons) # here we apply join to the string 'unificator' (', ') and pass the list as an argument"
   ]
  },
  {
   "cell_type": "code",
   "execution_count": null,
   "id": "oriented-century",
   "metadata": {},
   "outputs": [],
   "source": [
    "print('\\n'.join(persons))"
   ]
  },
  {
   "cell_type": "markdown",
   "id": "applicable-milwaukee",
   "metadata": {},
   "source": [
    "### For loop & list comprehension\n",
    "For loops are basics of Python. Suppose we have `numbers` list storing some numbers. We want to multiply all the elements of the list by 2. Of course, it can be done like that (or use multiple assignment):"
   ]
  },
  {
   "cell_type": "code",
   "execution_count": null,
   "id": "unnecessary-gibraltar",
   "metadata": {},
   "outputs": [],
   "source": [
    "numbers = [1, 2, 3, 4, 5]\n",
    "\n",
    "numbers[0] = numbers[0] * 2\n",
    "numbers[1] = numbers[1] * 2\n",
    "numbers[2] = numbers[2] * 2\n",
    "numbers[3] = numbers[3] * 2\n",
    "numbers[4] = numbers[4] * 2\n",
    "\n",
    "print(numbers) # did not you find it cumbersome?"
   ]
  },
  {
   "cell_type": "markdown",
   "id": "sitting-vessel",
   "metadata": {},
   "source": [
    "The code above is overladen and awkward. We wish we had some instrument able to iterate (go) through the list and to make some identical operation with every element. In this case `for` loop come to us. The syntax is as follows:"
   ]
  },
  {
   "cell_type": "code",
   "execution_count": null,
   "id": "atomic-confusion",
   "metadata": {},
   "outputs": [],
   "source": [
    "for element in sequence: # pseudocode\n",
    "    some_function(element) # do not forget about indentation (just like in conditional statements)"
   ]
  },
  {
   "cell_type": "markdown",
   "id": "advised-eight",
   "metadata": {},
   "source": [
    "In our case:"
   ]
  },
  {
   "cell_type": "code",
   "execution_count": null,
   "id": "infrared-ordinance",
   "metadata": {},
   "outputs": [],
   "source": [
    "numbers = [1, 2, 3, 4, 5]\n",
    "\n",
    "for element in numbers:\n",
    "    print(element * 2) # iterate (go) through numbers, take each item, name it element and proceed multiplication by 2"
   ]
  },
  {
   "cell_type": "markdown",
   "id": "vanilla-lender",
   "metadata": {},
   "source": [
    "**Notice.** You can replace `element` with any name you want. It is just an alias to `<each element>` in `for <each element> in <sequnce>`. Just keep the chosen name in part of the loop after `:`:"
   ]
  },
  {
   "cell_type": "code",
   "execution_count": null,
   "id": "unknown-sleeve",
   "metadata": {},
   "outputs": [],
   "source": [
    "numbers = [1, 2, 3, 4, 5]\n",
    "\n",
    "for num in numbers: # here 'num'\n",
    "    print(num * 2) # and here 'num'"
   ]
  },
  {
   "cell_type": "code",
   "execution_count": null,
   "id": "wound-cigarette",
   "metadata": {},
   "outputs": [],
   "source": [
    "numbers = [1, 2, 3, 4, 5]\n",
    "\n",
    "for num in numbers:\n",
    "    print(element * 2)"
   ]
  },
  {
   "cell_type": "markdown",
   "id": "partial-canberra",
   "metadata": {},
   "source": [
    "The cell above is identical to the first one. Just to clarify:\n",
    "\n",
    "```\n",
    "for <each_elem_name> in <sequence>:\n",
    "    do_something(<each_elem_name>)\n",
    "```\n",
    "\n",
    "In translation from Pythonic to human it means: go through `<sequnce>`, take the next in turn element (call it `<each_elem_name>`), `do_something` with it; repeat it for any element in the `<sequence>`."
   ]
  },
  {
   "cell_type": "markdown",
   "id": "confidential-montana",
   "metadata": {},
   "source": [
    "Let us return to the idea of creating list with elements from `numbers` list multiplied by 2 (in previous cells we have just printed multiplied numbers). We can obtain this as follows:"
   ]
  },
  {
   "cell_type": "code",
   "execution_count": null,
   "id": "rolled-imagination",
   "metadata": {},
   "outputs": [],
   "source": [
    "numbers = [1, 2, 3, 4, 5]\n",
    "doubled_numbers = [] # pre-define an empty list\n",
    "\n",
    "for num in numbers: # here 'num'\n",
    "    doubled_num = num * 2\n",
    "    doubled_numbers.append(doubled_num) # at each step append multiplied value to doubled_numbers\n",
    "    print(doubled_numbers) # show the list at each iteration\n",
    "\n",
    "# print(doubled_numbers)"
   ]
  },
  {
   "cell_type": "markdown",
   "id": "packed-discretion",
   "metadata": {},
   "source": [
    "Of course, `for` loop can also be just to repeat some operation N times. In this case the syntax is just like that:\n",
    "\n",
    "```\n",
    "for <num> in <sequence>:\n",
    "    do_something() # notice that <num> does not occur here\n",
    "```\n",
    "\n",
    "Here we just want to repeat `do_something()` N times where N is a length of the `<sequence>`. We do not need to create the sequence any time we want just to repeat some operation:"
   ]
  },
  {
   "cell_type": "code",
   "execution_count": null,
   "id": "spiritual-creature",
   "metadata": {},
   "outputs": [],
   "source": [
    "for i in numbers:\n",
    "    print('nonsense print')"
   ]
  },
  {
   "cell_type": "markdown",
   "id": "amended-framework",
   "metadata": {},
   "source": [
    "Let's get familiar with the `range()` function. The function has three arguments: `range(<start>, <stop>, <step>)` (what does look like?). All indexing rules can be applied here. But you are not to specify all the arguments. There are several options:\n",
    "\n",
    "* `range(<value>)` is `range(<stop>)`;\n",
    "* `range(<value1>, <value2>)` is `range(<start>, <stop>)`;\n",
    "* `range(<value1>, <value2>, <value3>)` is `range(<start>, <stop>, <step>)`.\n",
    "\n",
    "`<stop>` argument has not default values: you must to specify it. `<start>` value is 0 by default (if you not specify it). `step` is by default 1. Example:"
   ]
  },
  {
   "cell_type": "code",
   "execution_count": null,
   "id": "enormous-collection",
   "metadata": {},
   "outputs": [],
   "source": [
    "print(list(range(10))) # values from 0 (included) to 9 (10 is excluded) with the step 1\n",
    "print(list(range(5, 10))) # values from 5 (included) to 9 (10 is excluded) with the step 1\n",
    "print(list(range(2, 10, 2))) # values from 2 (included) to 8 (10 is excluded) with the step 2"
   ]
  },
  {
   "cell_type": "markdown",
   "id": "tired-stanford",
   "metadata": {},
   "source": [
    "You should wrap `list()` around your `range()` if you want to get a list because `range()` returns specific `range`-class object:"
   ]
  },
  {
   "cell_type": "code",
   "execution_count": null,
   "id": "prescription-light",
   "metadata": {},
   "outputs": [],
   "source": [
    "numbers = range(5, 10)\n",
    "print(numbers) # specific range object (should be converted to a list)\n",
    "print(type(numbers))"
   ]
  },
  {
   "cell_type": "code",
   "execution_count": null,
   "id": "perceived-cherry",
   "metadata": {},
   "outputs": [],
   "source": [
    "numbers = list(range(5, 10))\n",
    "numbers"
   ]
  },
  {
   "cell_type": "markdown",
   "id": "former-pendant",
   "metadata": {},
   "source": [
    "But you are not forced to make the `list` from `range` to use it in `for` loop:"
   ]
  },
  {
   "cell_type": "code",
   "execution_count": null,
   "id": "pressed-payday",
   "metadata": {},
   "outputs": [],
   "source": [
    "for i in range(6):\n",
    "    print(i)"
   ]
  },
  {
   "cell_type": "code",
   "execution_count": null,
   "id": "dramatic-royal",
   "metadata": {},
   "outputs": [],
   "source": [
    "for i in list(range(6)):\n",
    "    print(i)"
   ]
  },
  {
   "cell_type": "markdown",
   "id": "covered-grill",
   "metadata": {},
   "source": [
    "Is identical to:"
   ]
  },
  {
   "cell_type": "code",
   "execution_count": null,
   "id": "promising-flood",
   "metadata": {},
   "outputs": [],
   "source": [
    "for i in range(6):\n",
    "    print(i)"
   ]
  },
  {
   "cell_type": "markdown",
   "id": "unusual-channels",
   "metadata": {},
   "source": [
    "Some more examples:"
   ]
  },
  {
   "cell_type": "code",
   "execution_count": null,
   "id": "noted-isaac",
   "metadata": {},
   "outputs": [],
   "source": [
    "print(list(range(6)))\n",
    "print(list(range(1, 10, 2)))\n",
    "print(list(range(10, 5, -1)))\n",
    "print(list(range(10, -10, -2)))"
   ]
  },
  {
   "cell_type": "markdown",
   "id": "bearing-approval",
   "metadata": {},
   "source": [
    "We can add some conditions inside the `for` loop. For instance, multiply by 2 only if the number is even:"
   ]
  },
  {
   "cell_type": "code",
   "execution_count": null,
   "id": "special-prophet",
   "metadata": {},
   "outputs": [],
   "source": [
    "numbers = [1, 2, 3, 4, 5]\n",
    "doubled_numbers = [] # pre-define an empty list\n",
    "\n",
    "for num in numbers: # here 'num'\n",
    "    if num % 2 == 0:\n",
    "        doubled_numbers.append(num * 2) # at each step append multiplied value to doubled_numbers\n",
    "    else:\n",
    "        print(f'{num} is not even, I cannot multiply it by 2:(')\n",
    "\n",
    "print(f'\\nThe final filtered list is {doubled_numbers}.')"
   ]
  },
  {
   "cell_type": "code",
   "execution_count": null,
   "id": "orange-belarus",
   "metadata": {},
   "outputs": [],
   "source": [
    "numbers2 = [6, 8, 1, 0, 9]\n",
    "filtered_numbers = [] # pre-define an empty list\n",
    "\n",
    "for num in numbers2: # here 'num'\n",
    "    if num % 4 == 0:\n",
    "        filtered_numbers.append(num)\n",
    "\n",
    "filtered_numbers"
   ]
  },
  {
   "cell_type": "markdown",
   "id": "funded-configuration",
   "metadata": {},
   "source": [
    "Let's again return to the multiplied `numbers` list. Our `for`-solution is nice (unlike the initial):"
   ]
  },
  {
   "cell_type": "code",
   "execution_count": null,
   "id": "southern-hawaiian",
   "metadata": {},
   "outputs": [],
   "source": [
    "numbers = [1, 2, 3, 4, 5]\n",
    "doubled_numbers = [] # pre-define an empty list\n",
    "\n",
    "for num in numbers: # here 'num'\n",
    "    doubled_numbers.append(num * 2) # at each step append multiplied value to doubled_numbers\n",
    "\n",
    "print(doubled_numbers)"
   ]
  },
  {
   "cell_type": "markdown",
   "id": "concerned-buffalo",
   "metadata": {},
   "source": [
    "Python would not be Python if there was not the way to do it shorter. Here this way is to use **list comprehension**. The syntax is something like a child of list and `for`-loop:\n",
    "\n",
    "`[do_something(<elem>) for <elem> in <sequence>]`\n",
    "\n",
    "Let's apply it to our current task:"
   ]
  },
  {
   "cell_type": "code",
   "execution_count": null,
   "id": "female-confidentiality",
   "metadata": {},
   "outputs": [],
   "source": [
    "numbers = [1, 2, 3, 4, 5]\n",
    "\n",
    "doubled_numbers = [i * 2 for i in numbers]\n",
    "\n",
    "print(doubled_numbers)"
   ]
  },
  {
   "cell_type": "code",
   "execution_count": null,
   "id": "amino-boston",
   "metadata": {},
   "outputs": [],
   "source": [
    "words = ['key', 'sun', 'hand']\n",
    "new_words = []\n",
    "\n",
    "for word in words:\n",
    "    new_words.append(word.upper())\n",
    "\n",
    "new_words"
   ]
  },
  {
   "cell_type": "code",
   "execution_count": null,
   "id": "integral-remark",
   "metadata": {},
   "outputs": [],
   "source": [
    "words = ['key', 'sun', 'hand']\n",
    "\n",
    "new_words = [word.upper() for word in words]\n",
    "\n",
    "new_words"
   ]
  },
  {
   "cell_type": "markdown",
   "id": "worse-extreme",
   "metadata": {},
   "source": [
    "You can even insert conditional statements here:\n",
    "\n",
    "`[do_something(<elem>) for <elem> in <sequence> if <elem> satisfies some <condition>]`\n",
    "\n",
    "In practice:"
   ]
  },
  {
   "cell_type": "code",
   "execution_count": null,
   "id": "cooked-studio",
   "metadata": {},
   "outputs": [],
   "source": [
    "numbers = [1, 2, 3, 4, 5]\n",
    "\n",
    "doubled_numbers = [i * 2 for i in numbers if i % 2 == 0]\n",
    "\n",
    "print(doubled_numbers)"
   ]
  },
  {
   "cell_type": "code",
   "execution_count": null,
   "id": "advised-ribbon",
   "metadata": {},
   "outputs": [],
   "source": [
    "numbers2 = [6, 8, 1, 0, 9]\n",
    "filtered_numbers = [] # pre-define an empty list\n",
    "\n",
    "for num in numbers2: # here 'num'\n",
    "    if num % 4 == 0:\n",
    "        filtered_numbers.append(num)\n",
    "\n",
    "filtered_numbers"
   ]
  },
  {
   "cell_type": "code",
   "execution_count": null,
   "id": "comfortable-binary",
   "metadata": {},
   "outputs": [],
   "source": [
    "numbers2 = [6, 8, 1, 0, 9]\n",
    "\n",
    "filtered_numbers = [i for i in numbers2 if i % 4 == 0]\n",
    "\n",
    "filtered_numbers"
   ]
  },
  {
   "cell_type": "markdown",
   "id": "taken-shakespeare",
   "metadata": {},
   "source": [
    "**Notice.**\n",
    "\n",
    "List comprehensions have several advantages in comparison with the traditional `for`-loops:\n",
    "\n",
    "* code is more elegant;\n",
    "* and shorter;\n",
    "* list comprehensions are slightly faster than loops (you will see the benchmarking further).\n",
    "\n",
    "However:\n",
    "\n",
    "* sometimes list comprehensions are harder to read;\n",
    "* you are not able to specify complex conditions and operations in list comprehensions (but you can overcome this defining necessary functions earlier)."
   ]
  },
  {
   "cell_type": "markdown",
   "id": "obvious-marketing",
   "metadata": {},
   "source": [
    "Let's cover another function which, along with the `range()` function, can be very useful for us. Assume we want to iterate through the list and print each index and its element. It can be done as follows:"
   ]
  },
  {
   "cell_type": "code",
   "execution_count": null,
   "id": "suitable-shaft",
   "metadata": {},
   "outputs": [],
   "source": [
    "nice_list = [5, 9, 3, 0, 4, 7]\n",
    "\n",
    "list(range(len(nice_list)))"
   ]
  },
  {
   "cell_type": "code",
   "execution_count": null,
   "id": "silver-member",
   "metadata": {},
   "outputs": [],
   "source": [
    "len(nice_list)"
   ]
  },
  {
   "cell_type": "code",
   "execution_count": null,
   "id": "waiting-object",
   "metadata": {},
   "outputs": [],
   "source": [
    "nice_list = [5, 9, 3, 0, 4, 7]\n",
    "indexes = range(len(nice_list))\n",
    "\n",
    "for i in indexes:\n",
    "    print(f'Element with index {i} is {nice_list[i]}.')"
   ]
  },
  {
   "cell_type": "markdown",
   "id": "delayed-forge",
   "metadata": {},
   "source": [
    "There is the way to go without specifying `indexes` variable. Of course, with the help of `enumerate()` function. What it does? It is very simple. Assume we have a list `nice_list = [5, 9, 3, 0, 4, 7]`. `enumerate` will take each element of it and create a pair of it and its index in form of `(index, value)`: `[(0, 5), (1, 9), (2, 3), (3, 0), (4, 4), (5, 7)]` (by the way, it is a list of tuples). See:"
   ]
  },
  {
   "cell_type": "code",
   "execution_count": null,
   "id": "stupid-uncertainty",
   "metadata": {},
   "outputs": [],
   "source": [
    "list(enumerate(nice_list)) # again we need to convert it to list"
   ]
  },
  {
   "cell_type": "markdown",
   "id": "touched-translator",
   "metadata": {},
   "source": [
    "Now it is possible to apply enumerate to resolve the initial task:"
   ]
  },
  {
   "cell_type": "code",
   "execution_count": null,
   "id": "demonstrated-daily",
   "metadata": {},
   "outputs": [],
   "source": [
    "nice_list = [5, 9, 3, 0, 4, 7]\n",
    "\n",
    "for index, value in enumerate(nice_list): # as we have pair of index and value, we \"unpack\" them accordingly (remind you about\n",
    "    # multiple assignment)\n",
    "    print(f'Element with index {index} is {value}.')"
   ]
  },
  {
   "cell_type": "markdown",
   "id": "renewable-newton",
   "metadata": {},
   "source": [
    "We can observe the pairs explicitly:"
   ]
  },
  {
   "cell_type": "code",
   "execution_count": null,
   "id": "royal-hebrew",
   "metadata": {},
   "outputs": [],
   "source": [
    "nice_list = [5, 9, 3, 0, 4, 7]\n",
    "\n",
    "for pair in enumerate(nice_list): # as you see, we need to \"unpack\" the pair\n",
    "    print(f'Our current pair is {pair}.')"
   ]
  },
  {
   "cell_type": "code",
   "execution_count": 3,
   "id": "durable-morris",
   "metadata": {},
   "outputs": [
    {
     "data": {
      "text/plain": [
       "1.935483870967742"
      ]
     },
     "execution_count": 3,
     "metadata": {},
     "output_type": "execute_result"
    }
   ],
   "source": [
    "1 / 31 * 60"
   ]
  },
  {
   "cell_type": "markdown",
   "id": "convinced-russia",
   "metadata": {},
   "source": [
    "### While loop\n",
    "`while`-loop is the second possible type of loop in Python. In the simplest way the syntax is as follows:\n",
    "\n",
    "```\n",
    "while <condition> is not met:\n",
    "    do_something()\n",
    "```\n",
    "\n",
    "`do_something()` will be executed iteratively till the condition is not met.\n",
    "\n",
    "Imagine, you with your friend Nicholas come to the decision that you are going to meet near the bar at 7 pm. You come to the bar and see many people. It won't be easy to find Nicholas here. In this case, you, possibly, start to inspect each person one by one till you recognize Nicholas. Let's translate you potential actions to the code:"
   ]
  },
  {
   "cell_type": "code",
   "execution_count": null,
   "id": "accepted-burton",
   "metadata": {},
   "outputs": [],
   "source": [
    "visitors = ['Andrew', 'Mary', 'Michael', 'Margaret', 'Alex', 'Nicholas', 'Ellen', 'Sophie', 'Max'] # all people near\n",
    "# the bar"
   ]
  },
  {
   "cell_type": "markdown",
   "id": "integrated-iraqi",
   "metadata": {},
   "source": [
    "Suppose that you inspect persons in the order as in the `visitors` list. When you notice Nicholas, you stop searching as Nicholas is your only aim. How it will be in Python:"
   ]
  },
  {
   "cell_type": "code",
   "execution_count": null,
   "id": "hundred-needle",
   "metadata": {},
   "outputs": [],
   "source": [
    "index = 0 # start with the first person (index 0)\n",
    "\n",
    "while visitors[index] != 'Nicholas': # resume until our person is not Nicholas (or list ends)\n",
    "    print(f'Shit, it is not Nicholas. This {index + 1}-th person is {visitors[index]}.') # notice order and name\n",
    "    index += 1 # index += 1 equals index = index + 1 (increase index by 1 to go to the next person)\n",
    "\n",
    "print()\n",
    "print('Wonderful, here he is! Finally! It is time to go to the bar now.')"
   ]
  },
  {
   "cell_type": "code",
   "execution_count": null,
   "id": "fourth-prayer",
   "metadata": {},
   "outputs": [],
   "source": [
    "a = 5\n",
    "\n",
    "a = a + 2\n",
    "a"
   ]
  },
  {
   "cell_type": "code",
   "execution_count": null,
   "id": "national-batch",
   "metadata": {},
   "outputs": [],
   "source": [
    "a += 2"
   ]
  },
  {
   "cell_type": "markdown",
   "id": "tender-directory",
   "metadata": {},
   "source": [
    "What enbarrasments could we meet using `while` loop? You could be caught by the *infinite cycle*. It can occur when the condition specified for `while` will never be met. For instance, we forget to increase our `index` by one on each iteration. In this case, we do not move further through the list, and it is not possible to find Nicholas anywhen:"
   ]
  },
  {
   "cell_type": "code",
   "execution_count": null,
   "id": "standard-trinidad",
   "metadata": {},
   "outputs": [],
   "source": [
    "index = 0 # start with the first person (index 0)\n",
    "\n",
    "while visitors[index] != 'Nicholas': # resume until our person is not Nicholas (or list ends)\n",
    "    print(f'Shit, it is not Nicholas. This {index + 1}-th person is {visitors[index]}.') # notice order and name\n",
    "\n",
    "print()\n",
    "print('Wonderful, here he is! Finally! It is time to go to the bar now.') # we will never come here is index will always be\n",
    "# 1, e. g. our eternal person here is Andrew"
   ]
  },
  {
   "cell_type": "markdown",
   "id": "cardiac-benefit",
   "metadata": {},
   "source": [
    "You have to avoid such situations. To do it, before using `while` always formulate the exact condition for stop and check that the condition can be met even anywhen in your code."
   ]
  },
  {
   "cell_type": "markdown",
   "id": "conventional-cooling",
   "metadata": {},
   "source": [
    "**Example.** Imagine you are trying to ask the user to insert his decision in binary form (`1` for `yes` or `0` for `no`). In this case you are not able to interpret any other symbols in the further code. But how to force the user to do what you want from him and not to admit the error? Of course, using `while`-loop:"
   ]
  },
  {
   "cell_type": "code",
   "execution_count": 1,
   "id": "beginning-services",
   "metadata": {},
   "outputs": [
    {
     "name": "stdout",
     "output_type": "stream",
     "text": [
      "Please, type 1 if you agree and 0 otherwise: 9\n",
      "\n",
      "You should type 0 or 1, not 9: sh\n",
      "You should type 0 or 1, not sh: s\n",
      "You should type 0 or 1, not s: f\n",
      "You should type 0 or 1, not f: d\n",
      "You should type 0 or 1, not d: d\n",
      "You should type 0 or 1, not d: 1\n",
      "\n",
      "If you see this print, we managed to exit the loop. Congratulations!\n"
     ]
    }
   ],
   "source": [
    "decision = input('Please, type 1 if you agree and 0 otherwise: ') # ask for the first time\n",
    "print()\n",
    "\n",
    "while decision not in ['0', '1']: # in case the user is foolish\n",
    "    decision = input(f'You should type 0 or 1, not {decision}: ') # politely ask to input correct value\n",
    "\n",
    "print('\\nIf you see this print, we managed to exit the loop. Congratulations!')"
   ]
  },
  {
   "cell_type": "markdown",
   "id": "sweet-redhead",
   "metadata": {},
   "source": [
    "**Another example**. For instance, you are going through the list and dividing `8` by each value of the list. If you remember Math, you know that `0` value is very dangerous for us. So, if we meet `0`, we should stop:"
   ]
  },
  {
   "cell_type": "code",
   "execution_count": null,
   "id": "humanitarian-mercury",
   "metadata": {},
   "outputs": [],
   "source": [
    "dangerous_list = list(range(10, -1, -1))\n",
    "dangerous_list"
   ]
  },
  {
   "cell_type": "code",
   "execution_count": null,
   "id": "compatible-metadata",
   "metadata": {},
   "outputs": [],
   "source": [
    "current_index = 0 # begin with 0\n",
    "\n",
    "while dangerous_list[current_index] != 0: # while the value for the according index is not 0\n",
    "    print(f'Let us divide 8 by {dangerous_list[current_index]}, got {8 / dangerous_list[current_index]}.')\n",
    "    current_index = current_index + 1 # increase current_index by 1 to go to the next element"
   ]
  },
  {
   "cell_type": "markdown",
   "id": "legendary-british",
   "metadata": {},
   "source": [
    "`while`-loop syntax can be extended this way:\n",
    "\n",
    "```\n",
    "while <condition> is not met:\n",
    "    do_something()\n",
    "else:\n",
    "    do_another()\n",
    "```\n",
    "\n",
    "`do_another()` will be executed when the condition is met, e. g. exiting loop. So, the cell above can be rewrited as follows:"
   ]
  },
  {
   "cell_type": "code",
   "execution_count": null,
   "id": "minus-distribution",
   "metadata": {},
   "outputs": [],
   "source": [
    "decision = input('Please, type 1 if you agree and 0 otherwise: ') # ask for the first time\n",
    "print()\n",
    "\n",
    "while decision not in ['0', '1']: # in case the user is foolish\n",
    "    decision = input(f'You should type 0 or 1, not {decision}: ') # politely ask to input correct value\n",
    "else:\n",
    "    print('\\nIf you see this print, we managed to exit the loop. Congratulations!')"
   ]
  },
  {
   "cell_type": "markdown",
   "id": "recovered-mineral",
   "metadata": {},
   "source": [
    "You probably mind why do we need `else` if `do_another()` action can be specified simply after the loop. It makes sense in combination with the `break` instruction. After the execution of `break` instruction, loop is terminated completely, and `else` part will not be performed. Recall our task about Nicholas. Perhaps, during searching you meet your friend, Margaret. You are so happy that you even forget for some time about Nicholas and simple interrupt looking-for. Let me show it in the code:"
   ]
  },
  {
   "cell_type": "code",
   "execution_count": null,
   "id": "christian-duncan",
   "metadata": {},
   "outputs": [],
   "source": [
    "index = 0 # start with the first person (index 0)\n",
    "\n",
    "while visitors[index] != 'Nicholas': # resume until our person is not Nicholas (or list ends)\n",
    "    if visitors[index] == 'Margaret': # specify condition in case of Margaret encounter\n",
    "        print('Wow, it is Margaret! I have not seen her for a so long time... I have to go and speak to her.')\n",
    "        break # excurse from the search and LEAVE THE CYCLE (if Margaret is met)\n",
    "    else: # do not meet either Nicholas or Margaret; resume to search\n",
    "        print(f'Shit, it is not Nicholas. This {index + 1}-th person is {visitors[index]}.') # notice order and name\n",
    "        index += 1 # index += 1 equals index = index + 1 (increase index by 1 to go to the next person)\n",
    "else: # we will never reach this 'else' point because insidious Margaret managed to meet us before the Nicholas\n",
    "    print()\n",
    "    print('Wonderful, here he is! Finally! It is time to go to the bar now.')"
   ]
  },
  {
   "cell_type": "markdown",
   "id": "confused-enhancement",
   "metadata": {},
   "source": [
    "When using `break` in `while`-loop, the syntax may be like:\n",
    "\n",
    "```\n",
    "while <condition> is not met:\n",
    "    if <another condition> is met:\n",
    "        break # since then, NO iterations will be performed as you BREAK the cycle\n",
    "else:\n",
    "    do_another()\n",
    "```"
   ]
  },
  {
   "cell_type": "markdown",
   "id": "moderate-korea",
   "metadata": {},
   "source": [
    "It is worth to also cover the `continue` instruction. After the `continue` instruction is executed, the next cycle iteration begins, irrelative of further instructions. Let's change our situation slightly. Imagine you have quarreled with Margaret recently, and now you are trying not to think about her. Consequently, if you see her, you will not think 'Shit, it is not Nicholas...', but just glance to the next person. Here the `continue` instruction helps us:"
   ]
  },
  {
   "cell_type": "code",
   "execution_count": null,
   "id": "boxed-carry",
   "metadata": {},
   "outputs": [],
   "source": [
    "index = 0 # start with the first person (index 0)\n",
    "\n",
    "while visitors[index] != 'Nicholas': # resume until our person is not Nicholas (or list ends)\n",
    "    if visitors[index] == 'Margaret': # specify condition in case of Margaret encounter\n",
    "        index += 1 # go further at once\n",
    "        print('*it is Margaret, but we are offended, we do not think about here*')\n",
    "        continue # see Margareth, but DO NOT THINK ABOUT HER (offended)\n",
    "    print(f'Shit, it is not Nicholas. This {index + 1}-th person is {visitors[index]}.') # omit this (thanks to continue)\n",
    "    index += 1 # omit this (thanks to continue)\n",
    "else:\n",
    "    print()\n",
    "    print('Wonderful, here he is! Finally! It is time to go to the bar now.')"
   ]
  },
  {
   "cell_type": "markdown",
   "id": "agricultural-theorem",
   "metadata": {},
   "source": [
    "**Notice.** We omitted Margaret (her number is 4)."
   ]
  },
  {
   "cell_type": "markdown",
   "id": "imperial-bread",
   "metadata": {},
   "source": [
    "When using `continue` in `while`-loop, the syntax may be like:\n",
    "\n",
    "```\n",
    "while <condition> is not met:\n",
    "    if <another condition> is met:\n",
    "        continue\n",
    "    do_something() # if if <another condition> is met, 'continue' is executed, and this row is omitted\n",
    "else:\n",
    "    do_another()\n",
    "```"
   ]
  },
  {
   "cell_type": "markdown",
   "id": "plastic-sender",
   "metadata": {},
   "source": [
    "**Issue.** We all know how to take as input `int`, `float` or `str`:"
   ]
  },
  {
   "cell_type": "code",
   "execution_count": 2,
   "id": "bearing-welding",
   "metadata": {},
   "outputs": [
    {
     "name": "stdout",
     "output_type": "stream",
     "text": [
      "5\n",
      "6.8\n",
      "string\n",
      "\n",
      "5 6.8 string\n"
     ]
    }
   ],
   "source": [
    "int_input = int(input())\n",
    "float_input = float(input())\n",
    "str_input = input() # remember, input() function returns string by default\n",
    "\n",
    "print()\n",
    "print(int_input, float_input, str_input)"
   ]
  },
  {
   "cell_type": "markdown",
   "id": "green-traveler",
   "metadata": {},
   "source": [
    "But how to take list (or any collection) as input? One possible way is to:\n",
    "\n",
    "* enter list elements one by one;\n",
    "* choose the criterion for stop (for instance, `-1`);\n",
    "* use `while` loop.\n",
    "\n",
    "Example:"
   ]
  },
  {
   "cell_type": "code",
   "execution_count": 3,
   "id": "outside-performance",
   "metadata": {},
   "outputs": [
    {
     "name": "stdout",
     "output_type": "stream",
     "text": [
      "8\n",
      "3\n",
      "5\n",
      "6\n",
      "-1\n",
      "\n",
      "[8, 3, 5, 6]\n"
     ]
    }
   ],
   "source": [
    "one_by_one_list = []\n",
    "\n",
    "elem = int(input()) # here we collect int elements, but can collect elements of any type\n",
    "\n",
    "while elem != -1:\n",
    "    one_by_one_list.append(elem)\n",
    "    elem = int(input()) # define the next element\n",
    "\n",
    "print()\n",
    "print(one_by_one_list)"
   ]
  },
  {
   "cell_type": "markdown",
   "id": "limiting-sentence",
   "metadata": {},
   "source": [
    "It is nice, but what if we want just to enter the sequence of elements (for instance, divided by whitespace) that would be converted to a list? For this task we should remember about `.split()` method:"
   ]
  },
  {
   "cell_type": "code",
   "execution_count": 4,
   "id": "identical-capacity",
   "metadata": {},
   "outputs": [
    {
     "name": "stdout",
     "output_type": "stream",
     "text": [
      "8 3 5 6\n"
     ]
    },
    {
     "data": {
      "text/plain": [
       "'8 3 5 6'"
      ]
     },
     "execution_count": 4,
     "metadata": {},
     "output_type": "execute_result"
    }
   ],
   "source": [
    "sequence = input()\n",
    "sequence"
   ]
  },
  {
   "cell_type": "code",
   "execution_count": 5,
   "id": "basic-moses",
   "metadata": {},
   "outputs": [
    {
     "name": "stdout",
     "output_type": "stream",
     "text": [
      "8 3 5 6\n",
      "['8', '3', '5', '6']\n"
     ]
    }
   ],
   "source": [
    "sequence = input() # enter numbers divided by whitespace\n",
    "split_list = sequence.split()\n",
    "\n",
    "print(split_list) # isn't it easier than the previous way?"
   ]
  },
  {
   "cell_type": "markdown",
   "id": "dying-gravity",
   "metadata": {},
   "source": [
    "Or even shorter:"
   ]
  },
  {
   "cell_type": "code",
   "execution_count": 6,
   "id": "signal-legislation",
   "metadata": {},
   "outputs": [
    {
     "name": "stdout",
     "output_type": "stream",
     "text": [
      "8 3 5 6\n",
      "['8', '3', '5', '6']\n"
     ]
    }
   ],
   "source": [
    "split_list = input().split()\n",
    "\n",
    "print(split_list)"
   ]
  },
  {
   "cell_type": "markdown",
   "id": "honest-statement",
   "metadata": {},
   "source": [
    "You probably noticed that our 'numbers' are still strings. It can be easily resolved using **list comprehension**:"
   ]
  },
  {
   "cell_type": "code",
   "execution_count": 7,
   "id": "intense-clerk",
   "metadata": {},
   "outputs": [
    {
     "name": "stdout",
     "output_type": "stream",
     "text": [
      "8 3 5 6\n"
     ]
    },
    {
     "data": {
      "text/plain": [
       "[8, 3, 5, 6]"
      ]
     },
     "execution_count": 7,
     "metadata": {},
     "output_type": "execute_result"
    }
   ],
   "source": [
    "split_list = input().split()\n",
    "split_list = [int(elem) for elem in split_list]\n",
    "\n",
    "split_list"
   ]
  },
  {
   "cell_type": "markdown",
   "id": "extensive-aquatic",
   "metadata": {},
   "source": [
    "Or even shorter!"
   ]
  },
  {
   "cell_type": "code",
   "execution_count": 8,
   "id": "interpreted-mistress",
   "metadata": {},
   "outputs": [
    {
     "name": "stdout",
     "output_type": "stream",
     "text": [
      "8 3 5 6\n",
      "[8, 3, 5, 6]\n"
     ]
    }
   ],
   "source": [
    "split_list = [int(elem) for elem in input().split()] # one row using list comprehension equals 5 rows using while loop\n",
    "\n",
    "print(split_list)"
   ]
  },
  {
   "cell_type": "markdown",
   "id": "raising-construction",
   "metadata": {},
   "source": [
    "<b style=\"color: red;\">Notice.</b> It may be very useful for **HA3**."
   ]
  },
  {
   "cell_type": "markdown",
   "id": "split-poetry",
   "metadata": {},
   "source": [
    "### Map (unnecessary part)\n",
    "`map` function is the another specific way to proceed some operation with each value of the sequence. Suppose we have `letters` list and want to make each letter uppercase. Two first ways to do it are familiar to you:"
   ]
  },
  {
   "cell_type": "code",
   "execution_count": null,
   "id": "noble-victoria",
   "metadata": {},
   "outputs": [],
   "source": [
    "letters = ['a', 'b', 'c', 'd', 'e']\n",
    "uppered_letters = []\n",
    "\n",
    "for l in letters:\n",
    "    uppered_letters.append(l.upper()) # for loop way\n",
    "\n",
    "print(uppered_letters)"
   ]
  },
  {
   "cell_type": "code",
   "execution_count": null,
   "id": "compressed-syndication",
   "metadata": {},
   "outputs": [],
   "source": [
    "letters = ['a', 'b', 'c', 'd', 'e']\n",
    "uppered_letters = [i.upper() for i in letters] # list comprehension way\n",
    "\n",
    "print(uppered_letters)"
   ]
  },
  {
   "cell_type": "markdown",
   "id": "psychological-shakespeare",
   "metadata": {},
   "source": [
    "The third path (path of the true Jedi) is to use `map()` function. Its syntax:\n",
    "\n",
    "`map(<some_function>, <sequence>)`\n",
    "\n",
    "Here `<some_function>` will be applied to each element of the `<sequence>`. You can specify the function manually or use anonimous function:\n",
    "\n",
    "`lambda <value>: do_something(<value>)`\n",
    "\n",
    "It means: take `<value>` and `do_something()` with it.\n",
    "\n",
    "Application to our case:"
   ]
  },
  {
   "cell_type": "code",
   "execution_count": null,
   "id": "included-finance",
   "metadata": {},
   "outputs": [],
   "source": [
    "letters = ['a', 'b', 'c', 'd', 'e']\n",
    "uppered_letters = list(map(lambda x: x.upper(), letters)) # function: take x (element of the sequence) and upper it\n",
    "\n",
    "print(uppered_letters)"
   ]
  },
  {
   "cell_type": "markdown",
   "id": "unavailable-convenience",
   "metadata": {},
   "source": [
    "Again, you have to wrap `list()` around `map()` because `map()` returns specific `map`-class object:"
   ]
  },
  {
   "cell_type": "code",
   "execution_count": null,
   "id": "advance-hands",
   "metadata": {},
   "outputs": [],
   "source": [
    "letters = ['a', 'b', 'c', 'd', 'e']\n",
    "uppered_letters = map(lambda x: x.upper(), letters) # needs to be converted to list\n",
    "\n",
    "print(uppered_letters)\n",
    "print(type(uppered_letters))"
   ]
  },
  {
   "cell_type": "markdown",
   "id": "adopted-gabriel",
   "metadata": {},
   "source": [
    "`map` is even faster than list comprehension (but only applying to large sequences). Compare three variants with the small sequence (of length 5):"
   ]
  },
  {
   "cell_type": "code",
   "execution_count": null,
   "id": "worldwide-christianity",
   "metadata": {},
   "outputs": [],
   "source": [
    "%%timeit # magic expression to measure time need for the current cell's code execution\n",
    "\n",
    "letters = ['a', 'b', 'c', 'd', 'e']\n",
    "uppered_letters = []\n",
    "\n",
    "for l in letters: # here 'num'\n",
    "    uppered_letters.append(l.upper())"
   ]
  },
  {
   "cell_type": "code",
   "execution_count": null,
   "id": "massive-smart",
   "metadata": {},
   "outputs": [],
   "source": [
    "%%timeit\n",
    "\n",
    "letters = ['a', 'b', 'c', 'd', 'e']\n",
    "uppered_letters = [i.upper() for i in letters]"
   ]
  },
  {
   "cell_type": "code",
   "execution_count": null,
   "id": "complex-profit",
   "metadata": {},
   "outputs": [],
   "source": [
    "%%timeit\n",
    "\n",
    "letters = ['a', 'b', 'c', 'd', 'e']\n",
    "uppered_letters = list(map(lambda x: x.upper(), letters)) # here map is not efficient"
   ]
  },
  {
   "cell_type": "markdown",
   "id": "revised-facility",
   "metadata": {},
   "source": [
    "Try with large sequence (of length 100000):"
   ]
  },
  {
   "cell_type": "code",
   "execution_count": null,
   "id": "exterior-handling",
   "metadata": {},
   "outputs": [],
   "source": [
    "%%timeit\n",
    "\n",
    "numbers = list(range(100000))\n",
    "doubled_numbers = []\n",
    "\n",
    "for i in numbers:\n",
    "    doubled_numbers.append(i * 2)"
   ]
  },
  {
   "cell_type": "code",
   "execution_count": null,
   "id": "sophisticated-respect",
   "metadata": {},
   "outputs": [],
   "source": [
    "%%timeit\n",
    "\n",
    "numbers = list(range(100000))\n",
    "doubled_numbers = [i * 2 for i in numbers]"
   ]
  },
  {
   "cell_type": "code",
   "execution_count": null,
   "id": "distributed-looking",
   "metadata": {},
   "outputs": [],
   "source": [
    "%%timeit\n",
    "\n",
    "numbers = list(range(100000))\n",
    "doubled_numbers = map(lambda x: x * 2, numbers) # map is the most appropriate option"
   ]
  },
  {
   "cell_type": "markdown",
   "id": "closing-demonstration",
   "metadata": {},
   "source": [
    "### Summary"
   ]
  },
  {
   "cell_type": "markdown",
   "id": "incoming-boards",
   "metadata": {},
   "source": [
    "* multiple assignment is a very powerful way of unpacking collections and simultaneous assignment;\n",
    "* you can go from the string to the list using `.split()` method and `.join()` to do reversely;\n",
    "* `for`-loop allows you to apply any operation to each element of the sequence;\n",
    "* list comprehension is more elegant and shorter than `for`-loop;\n",
    "* `while`-loop is helpful when you want to repeat some operation until requered condition is not met;\n",
    "* `map()` function is much more efficient than loops and list comprehensions with large sequences."
   ]
  },
  {
   "cell_type": "markdown",
   "id": "capital-india",
   "metadata": {},
   "source": [
    "### Practice"
   ]
  },
  {
   "cell_type": "markdown",
   "id": "quarterly-needle",
   "metadata": {},
   "source": [
    "#### Task 1\n",
    "Iterate through the list of lists and create a new list (or change the existing) where the first and the second elements of each sub-list are swapped. List of lists is pre-defined for you:"
   ]
  },
  {
   "cell_type": "code",
   "execution_count": null,
   "id": "historical-habitat",
   "metadata": {},
   "outputs": [],
   "source": [
    "list_of_lists = [\n",
    "    [5, 6, 1, 2],\n",
    "    [8, 3, 0, 9],\n",
    "    [4, 2, 3, 1],\n",
    "    [1, 1, 0, 8],\n",
    "    [0, 3, 3, 0]\n",
    "]\n",
    "\n",
    "for sublist in list_of_lists:\n",
    "    sublist[0], sublist[1] = sublist[1], sublist[0]\n",
    "\n",
    "print(list_of_lists)"
   ]
  },
  {
   "cell_type": "markdown",
   "id": "moving-vietnam",
   "metadata": {},
   "source": [
    "#### Task 2\n",
    "Write the code that takes a sentence, removes any `.`-s and `,`-s, splits it by whitespace and prints each word in a new string in the reverse order (bonus task: after the sentence print the name of the person to whom the expression belongs):"
   ]
  },
  {
   "cell_type": "code",
   "execution_count": null,
   "id": "challenging-andrews",
   "metadata": {},
   "outputs": [],
   "source": [
    "example_sentence = 'Ceterum censeo, Carthaginem esse delendam.'\n",
    "# your code here"
   ]
  },
  {
   "cell_type": "markdown",
   "id": "communist-charles",
   "metadata": {},
   "source": [
    "#### Task 3\n",
    "Write the code that takes a sentence, removes any `.`-s and `,`-s, splits it by whitespace and prints each word in a new string in the reverse order (you should use `.join()` method doing this task):"
   ]
  },
  {
   "cell_type": "code",
   "execution_count": null,
   "id": "chicken-overall",
   "metadata": {},
   "outputs": [],
   "source": [
    "example_sentence2 = 'Non est potestas super terram.'\n",
    "# your code here"
   ]
  },
  {
   "cell_type": "markdown",
   "id": "photographic-combat",
   "metadata": {},
   "source": [
    "#### Task 4\n",
    "Print the result of multiplication by `3` for any member of sequence from `0` to `30` if the remainder of the division of the member by `3` is `2`:"
   ]
  },
  {
   "cell_type": "code",
   "execution_count": null,
   "id": "virgin-tradition",
   "metadata": {},
   "outputs": [],
   "source": [
    "# your code here"
   ]
  },
  {
   "cell_type": "markdown",
   "id": "supreme-identification",
   "metadata": {},
   "source": [
    "#### Task 5\n",
    "Create list of such members using `for`-loop:"
   ]
  },
  {
   "cell_type": "code",
   "execution_count": null,
   "id": "digital-hartford",
   "metadata": {},
   "outputs": [],
   "source": [
    "# your code here"
   ]
  },
  {
   "cell_type": "markdown",
   "id": "surprised-fireplace",
   "metadata": {},
   "source": [
    "#### Task 6\n",
    "Create list of such members using list comprehension:"
   ]
  },
  {
   "cell_type": "code",
   "execution_count": null,
   "id": "bronze-memorabilia",
   "metadata": {},
   "outputs": [],
   "source": [
    "# your code here"
   ]
  },
  {
   "cell_type": "markdown",
   "id": "contained-pixel",
   "metadata": {},
   "source": [
    "#### Task 7\n",
    "For each member of the list above print the result of division of the member by its index (unless the index is `0`) using `enumerate()` function:"
   ]
  },
  {
   "cell_type": "code",
   "execution_count": null,
   "id": "tropical-institution",
   "metadata": {},
   "outputs": [],
   "source": [
    "# your code here"
   ]
  }
 ],
 "metadata": {
  "kernelspec": {
   "display_name": "Python 3",
   "language": "python",
   "name": "python3"
  },
  "language_info": {
   "codemirror_mode": {
    "name": "ipython",
    "version": 3
   },
   "file_extension": ".py",
   "mimetype": "text/x-python",
   "name": "python",
   "nbconvert_exporter": "python",
   "pygments_lexer": "ipython3",
   "version": "3.9.7"
  }
 },
 "nbformat": 4,
 "nbformat_minor": 5
}
