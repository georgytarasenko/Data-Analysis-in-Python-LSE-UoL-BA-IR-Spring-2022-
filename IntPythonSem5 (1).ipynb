{
 "cells": [
  {
   "cell_type": "markdown",
   "metadata": {},
   "source": [
    "## Data Analysis in Python\n",
    "_Author: Ioann Dovgopoliy_"
   ]
  },
  {
   "cell_type": "markdown",
   "metadata": {},
   "source": [
    "## Seminar 5"
   ]
  },
  {
   "cell_type": "markdown",
   "metadata": {},
   "source": [
    "### Seminar outline"
   ]
  },
  {
   "cell_type": "markdown",
   "metadata": {},
   "source": [
    "* Multiple assignment\n",
    "* Split & join\n",
    "* For loop & list comprehension\n",
    "* While loop\n",
    "* Map & reduce\n",
    "* Summary\n",
    "* Practice"
   ]
  },
  {
   "cell_type": "markdown",
   "metadata": {},
   "source": [
    "### Multiple assignment\n",
    "Multiple assignment is the way to define a few variables simultaneously. For instance, you want to define `a = 5` and `b = 2`. How can you do it? In traditional way:"
   ]
  },
  {
   "cell_type": "code",
   "execution_count": 16,
   "metadata": {},
   "outputs": [],
   "source": [
    "a = 5\n",
    "b = 2"
   ]
  },
  {
   "cell_type": "markdown",
   "metadata": {},
   "source": [
    "But another option is possible:"
   ]
  },
  {
   "cell_type": "code",
   "execution_count": 1,
   "metadata": {},
   "outputs": [],
   "source": [
    "a, b = 5, 2 # you can specify any number of variables"
   ]
  },
  {
   "cell_type": "markdown",
   "metadata": {},
   "source": [
    "Why is it useful? Why do not to use a traditional way? Imagine you have a list `some_list = [5, 2]`. You would like to store the first element as variable `a` and the second as variable `b`. Possible way to do it:"
   ]
  },
  {
   "cell_type": "code",
   "execution_count": 2,
   "metadata": {},
   "outputs": [],
   "source": [
    "some_list = [5, 2] # define list\n",
    "\n",
    "a = some_list[0] # first element\n",
    "b = some_list[1] # second element"
   ]
  },
  {
   "cell_type": "markdown",
   "metadata": {},
   "source": [
    "But it can be shorter and more elegant using multiple assignment! Let's see:"
   ]
  },
  {
   "cell_type": "code",
   "execution_count": 3,
   "metadata": {},
   "outputs": [],
   "source": [
    "some_list = [5, 2]\n",
    "\n",
    "a, b = some_list # the way to \"unpack\" your list (other collections can be unpacked too)"
   ]
  },
  {
   "cell_type": "markdown",
   "metadata": {},
   "source": [
    "You can change elements of your list simultaneously just like that. For instance, you want to swap first and last elements of the list. Traditional way is rather bulky:"
   ]
  },
  {
   "cell_type": "code",
   "execution_count": 14,
   "metadata": {},
   "outputs": [
    {
     "name": "stdout",
     "output_type": "stream",
     "text": [
      "[8, 1, 0, 5]\n"
     ]
    }
   ],
   "source": [
    "another_list = [5, 1, 0, 8] \n",
    "\n",
    "first_elem = another_list[0] # define variable for the first element\n",
    "last_elem = another_list[-1] # define variable for the last element\n",
    "\n",
    "another_list[0] = last_elem # reassign the first element to the last element\n",
    "another_list[-1] = first_elem # reassign the last element to the first element\n",
    "\n",
    "print(another_list)"
   ]
  },
  {
   "cell_type": "markdown",
   "metadata": {},
   "source": [
    "Multiple assignment is an optimal resolution:"
   ]
  },
  {
   "cell_type": "code",
   "execution_count": 15,
   "metadata": {},
   "outputs": [
    {
     "name": "stdout",
     "output_type": "stream",
     "text": [
      "[8, 1, 0, 5]\n"
     ]
    }
   ],
   "source": [
    "another_list = [5, 1, 0, 8]\n",
    "\n",
    "another_list[0], another_list[-1] = another_list[-1], another_list[0] # just swap them\n",
    "\n",
    "print(another_list)"
   ]
  },
  {
   "cell_type": "markdown",
   "metadata": {},
   "source": [
    "### Split & join\n",
    "**Issue.** What ways to create list do you remember?"
   ]
  },
  {
   "cell_type": "markdown",
   "metadata": {},
   "source": [
    "How it can be made from a string using `list()` function:"
   ]
  },
  {
   "cell_type": "code",
   "execution_count": 18,
   "metadata": {},
   "outputs": [
    {
     "name": "stdout",
     "output_type": "stream",
     "text": [
      "['I', ' ', 'w', 'a', 'n', 't', ' ', 't', 'o', ' ', 'b', 'e', 'c', 'o', 'm', 'e', ' ', 'a', ' ', 'l', 'i', 's', 't', '.']\n"
     ]
    }
   ],
   "source": [
    "future_list = 'I want to become a list.'\n",
    "\n",
    "happy_list = list(future_list)\n",
    "\n",
    "print(happy_list)"
   ]
  },
  {
   "cell_type": "markdown",
   "metadata": {},
   "source": [
    "In this case the list is splitted by _each character_. But can we specify the split, e. g., for example, split the sentence by its words? Of course, we can. We just need to remember how the words in a sentence are divided (spoiler: using whitespaces) and use the nice `.split()` method (it is a **string**, not list method):"
   ]
  },
  {
   "cell_type": "code",
   "execution_count": 20,
   "metadata": {},
   "outputs": [
    {
     "data": {
      "text/plain": [
       "['I', 'want', 'to', 'become', 'a', 'list.']"
      ]
     },
     "execution_count": 20,
     "metadata": {},
     "output_type": "execute_result"
    }
   ],
   "source": [
    "future_list.split(' ') # specify separator as an argument (by default it is whitespace)"
   ]
  },
  {
   "cell_type": "code",
   "execution_count": 21,
   "metadata": {},
   "outputs": [
    {
     "data": {
      "text/plain": [
       "['I', 'want', 'to', 'become', 'a', 'list.']"
      ]
     },
     "execution_count": 21,
     "metadata": {},
     "output_type": "execute_result"
    }
   ],
   "source": [
    "future_list.split() # string becomes a list"
   ]
  },
  {
   "cell_type": "markdown",
   "metadata": {},
   "source": [
    "If we are able to travel from strings to list, is it possible to go reversely? Here the `.join()` method can help us.\n",
    "\n",
    "**Notice.** Although `.join()` allows us to go from the list to a string, it is still a **string**, not list method (as well as `.split()`).\n",
    "\n",
    "Imagine we have some list of persons and want to make it the string where these persons will be enlisted while separated by comma:"
   ]
  },
  {
   "cell_type": "code",
   "execution_count": 22,
   "metadata": {},
   "outputs": [],
   "source": [
    "persons = ['Igor', 'Georgy', 'Ioann']"
   ]
  },
  {
   "cell_type": "markdown",
   "metadata": {},
   "source": [
    "**Issue.** We want to get `'Igor, Georgy, Ioann'` from `['Igor', 'Georgy', 'Ioann']`. What 'unificator' should we use?"
   ]
  },
  {
   "cell_type": "code",
   "execution_count": 71,
   "metadata": {},
   "outputs": [
    {
     "data": {
      "text/plain": [
       "'Igor, Georgy, Ioann'"
      ]
     },
     "execution_count": 71,
     "metadata": {},
     "output_type": "execute_result"
    }
   ],
   "source": [
    "', '.join(persons) # here we apply join to the string 'unificator' (', ') and pass the list as an argument"
   ]
  },
  {
   "cell_type": "markdown",
   "metadata": {},
   "source": [
    "### For loop & list comprehension\n",
    "For loops are basics of Python. Suppose we have `numbers` list storing some numbers. We want to multiply all the elements of the list by 2. Of course, it can be done like that (or use multiple assignment):"
   ]
  },
  {
   "cell_type": "code",
   "execution_count": 27,
   "metadata": {},
   "outputs": [
    {
     "name": "stdout",
     "output_type": "stream",
     "text": [
      "[2, 4, 6, 8, 10]\n"
     ]
    }
   ],
   "source": [
    "numbers = [1, 2, 3, 4, 5]\n",
    "\n",
    "numbers[0] = numbers[0] * 2\n",
    "numbers[1] = numbers[1] * 2\n",
    "numbers[2] = numbers[2] * 2\n",
    "numbers[3] = numbers[3] * 2\n",
    "numbers[4] = numbers[4] * 2\n",
    "\n",
    "print(numbers) # did not you find it cumbersome?"
   ]
  },
  {
   "cell_type": "markdown",
   "metadata": {},
   "source": [
    "The code above is overladen and awkward. We wish we had some instrument able to iterate (go) through the list and to make some identical operation with every element. In this case `for` loop come to us. The syntax is as follows:"
   ]
  },
  {
   "cell_type": "code",
   "execution_count": null,
   "metadata": {},
   "outputs": [],
   "source": [
    "for element in sequence: # pseudocode\n",
    "    some_function(element) # do not forget about indentation (just like in conditional statements)"
   ]
  },
  {
   "cell_type": "markdown",
   "metadata": {},
   "source": [
    "In our case:"
   ]
  },
  {
   "cell_type": "code",
   "execution_count": 29,
   "metadata": {},
   "outputs": [
    {
     "name": "stdout",
     "output_type": "stream",
     "text": [
      "2\n",
      "4\n",
      "6\n",
      "8\n",
      "10\n"
     ]
    }
   ],
   "source": [
    "numbers = [1, 2, 3, 4, 5]\n",
    "\n",
    "for element in numbers:\n",
    "    print(element * 2) # iterate (go) through numbers, take any item, name it element and proceed multiplication by 2"
   ]
  },
  {
   "cell_type": "markdown",
   "metadata": {},
   "source": [
    "**Notice.** You can replace `element` with any name you want. It is just an alias to `<each element>` in `for <each element> in <sequnce>`. Just keep the chosen name in part of the loop after `:`:"
   ]
  },
  {
   "cell_type": "code",
   "execution_count": 30,
   "metadata": {},
   "outputs": [
    {
     "name": "stdout",
     "output_type": "stream",
     "text": [
      "2\n",
      "4\n",
      "6\n",
      "8\n",
      "10\n"
     ]
    }
   ],
   "source": [
    "numbers = [1, 2, 3, 4, 5]\n",
    "\n",
    "for num in numbers: # here 'num'\n",
    "    print(num * 2) # and here 'num'"
   ]
  },
  {
   "cell_type": "markdown",
   "metadata": {},
   "source": [
    "The cell above is identical to the first one. Just to clarify:\n",
    "\n",
    "```\n",
    "for <each_elem_name> in <sequence>:\n",
    "    do_something(<each_elem_name>)\n",
    "```\n",
    "\n",
    "In translation from Pythonic to human it means: go through `<sequnce>`, take the next in turn element (call it `<each_elem_name>`), `do_something` with it; repeat it for any element in the `<sequnce>`."
   ]
  },
  {
   "cell_type": "markdown",
   "metadata": {},
   "source": [
    "Let us return to the idea of creating list with elements from `numbers` list multiplied by 2 (in previous cells we have just printed multiplied numbers). We can obtain this as follows:"
   ]
  },
  {
   "cell_type": "code",
   "execution_count": 72,
   "metadata": {},
   "outputs": [
    {
     "name": "stdout",
     "output_type": "stream",
     "text": [
      "[2, 4, 6, 8, 10]\n"
     ]
    }
   ],
   "source": [
    "numbers = [1, 2, 3, 4, 5]\n",
    "doubled_numbers = [] # pre-define an empty list\n",
    "\n",
    "for num in numbers: # here 'num'\n",
    "    doubled_numbers.append(num * 2) # at each step append multiplied value to doubled_numbers\n",
    "\n",
    "print(doubled_numbers)"
   ]
  },
  {
   "cell_type": "markdown",
   "metadata": {},
   "source": [
    "Of course, `for` loop can also be just to repeat some operation N times. In this case the syntax is just like that:\n",
    "\n",
    "```\n",
    "for <num> in <sequence>:\n",
    "    do_something() # notice that <num> does not occur here\n",
    "```\n",
    "\n",
    "Here we just want to repeat `do_something()` N times where N is a length of the `<sequence>`. We do not need to create the sequence any time we want just to repeat some operation:"
   ]
  },
  {
   "cell_type": "code",
   "execution_count": 73,
   "metadata": {},
   "outputs": [
    {
     "name": "stdout",
     "output_type": "stream",
     "text": [
      "nonsense print\n",
      "nonsense print\n",
      "nonsense print\n",
      "nonsense print\n",
      "nonsense print\n",
      "nonsense print\n"
     ]
    }
   ],
   "source": [
    "for i in range(6):\n",
    "    print('nonsense print')"
   ]
  },
  {
   "cell_type": "markdown",
   "metadata": {},
   "source": [
    "Let's get familiar with the `range()` function. The function has three arguments: `range(<start>, <stop>, <step>)` (what does look like?). All indexing rules can be applied here. But you are not to specify all the arguments. There are several options:\n",
    "\n",
    "* `range(<value>)` is `range(<stop>)`;\n",
    "* `range(<value1>, <value2>)` is `range(<start>, <stop>)`;\n",
    "* `range(<value1>, <value2>, <value3>)` is `range(<start>, <stop>, <step>)`.\n",
    "\n",
    "`<stop>` argument has not default values: you must to specify it. `<start>` value is 0 by default (if you not specify it). `step` is by default 1. Example:"
   ]
  },
  {
   "cell_type": "code",
   "execution_count": 78,
   "metadata": {},
   "outputs": [
    {
     "name": "stdout",
     "output_type": "stream",
     "text": [
      "[0, 1, 2, 3, 4, 5, 6, 7, 8, 9]\n",
      "[5, 6, 7, 8, 9]\n",
      "[2, 4, 6, 8]\n"
     ]
    }
   ],
   "source": [
    "print(list(range(10))) # values from 0 (included) to 9 (10 is excluded) with the step 1\n",
    "print(list(range(5, 10))) # values from 5 (included) to 9 (10 is excluded) with the step 1\n",
    "print(list(range(2, 10, 2))) # values from 2 (included) to 8 (10 is excluded) with the step 2"
   ]
  },
  {
   "cell_type": "markdown",
   "metadata": {},
   "source": [
    "You should wrap `list()` around your `range()` if you want to get a list because `range()` returns specific `range`-class object:"
   ]
  },
  {
   "cell_type": "code",
   "execution_count": 81,
   "metadata": {},
   "outputs": [
    {
     "name": "stdout",
     "output_type": "stream",
     "text": [
      "range(1, 6)\n",
      "<class 'range'>\n"
     ]
    }
   ],
   "source": [
    "numbers = range(1, 6)\n",
    "print(numbers) # specific range object (should be converted to a list)\n",
    "print(type(numbers))"
   ]
  },
  {
   "cell_type": "markdown",
   "metadata": {},
   "source": [
    "But you are not forced to make the `list` from `range` to use it in `for` loop:"
   ]
  },
  {
   "cell_type": "code",
   "execution_count": 83,
   "metadata": {},
   "outputs": [
    {
     "name": "stdout",
     "output_type": "stream",
     "text": [
      "0\n",
      "1\n",
      "2\n",
      "3\n",
      "4\n",
      "5\n"
     ]
    }
   ],
   "source": [
    "for i in list(range(6)):\n",
    "    print(i)"
   ]
  },
  {
   "cell_type": "markdown",
   "metadata": {},
   "source": [
    "Is identical to:"
   ]
  },
  {
   "cell_type": "code",
   "execution_count": 87,
   "metadata": {},
   "outputs": [
    {
     "name": "stdout",
     "output_type": "stream",
     "text": [
      "0\n",
      "1\n",
      "2\n",
      "3\n",
      "4\n",
      "5\n"
     ]
    }
   ],
   "source": [
    "for i in range(6):\n",
    "    print(i)"
   ]
  },
  {
   "cell_type": "markdown",
   "metadata": {},
   "source": [
    "Some more examples:"
   ]
  },
  {
   "cell_type": "code",
   "execution_count": 86,
   "metadata": {},
   "outputs": [
    {
     "name": "stdout",
     "output_type": "stream",
     "text": [
      "[0, 1, 2, 3, 4, 5]\n",
      "[1, 3, 5, 7, 9]\n",
      "[10, 9, 8, 7, 6]\n",
      "[10, 8, 6, 4, 2, 0, -2, -4, -6, -8]\n"
     ]
    }
   ],
   "source": [
    "print(list(range(6)))\n",
    "print(list(range(1, 10, 2)))\n",
    "print(list(range(10, 5, -1)))\n",
    "print(list(range(10, -10, -2)))"
   ]
  },
  {
   "cell_type": "markdown",
   "metadata": {},
   "source": [
    "We can add some conditions inside the `for` loop. For instance, multiply by 2 only if the number is even:"
   ]
  },
  {
   "cell_type": "code",
   "execution_count": 93,
   "metadata": {},
   "outputs": [
    {
     "name": "stdout",
     "output_type": "stream",
     "text": [
      "1 is not even, I cannot multiply it by 2:(\n",
      "3 is not even, I cannot multiply it by 2:(\n",
      "5 is not even, I cannot multiply it by 2:(\n",
      "\n",
      "The final filtered list is [4, 8].\n"
     ]
    }
   ],
   "source": [
    "numbers = [1, 2, 3, 4, 5]\n",
    "doubled_numbers = [] # pre-define an empty list\n",
    "\n",
    "for num in numbers: # here 'num'\n",
    "    if num % 2 == 0:\n",
    "        doubled_numbers.append(num * 2) # at each step append multiplied value to doubled_numbers\n",
    "    else:\n",
    "        print(f'{num} is not even, I cannot multiply it by 2:(')\n",
    "\n",
    "print(f'\\nThe final filtered list is {doubled_numbers}.')"
   ]
  },
  {
   "cell_type": "markdown",
   "metadata": {},
   "source": [
    "Let's again return to the multiplied `numbers` list. Our `for`-solution is nice (unlike the initial):"
   ]
  },
  {
   "cell_type": "code",
   "execution_count": 94,
   "metadata": {},
   "outputs": [
    {
     "name": "stdout",
     "output_type": "stream",
     "text": [
      "[2, 4, 6, 8, 10]\n"
     ]
    }
   ],
   "source": [
    "numbers = [1, 2, 3, 4, 5]\n",
    "doubled_numbers = [] # pre-define an empty list\n",
    "\n",
    "for num in numbers: # here 'num'\n",
    "    doubled_numbers.append(num * 2) # at each step append multiplied value to doubled_numbers\n",
    "\n",
    "print(doubled_numbers)"
   ]
  },
  {
   "cell_type": "markdown",
   "metadata": {},
   "source": [
    "Python would not be Python if there was not the way to do it shorter. Here this way is to use **list comprehension**. The syntax is something like a child of list and `for`-loop:\n",
    "\n",
    "`[do_something(<elem>) for <elem> in <sequence>]`\n",
    "\n",
    "Let's apply it to our current task:"
   ]
  },
  {
   "cell_type": "code",
   "execution_count": 96,
   "metadata": {},
   "outputs": [
    {
     "name": "stdout",
     "output_type": "stream",
     "text": [
      "[2, 4, 6, 8, 10]\n"
     ]
    }
   ],
   "source": [
    "numbers = [1, 2, 3, 4, 5]\n",
    "\n",
    "doubled_numbers = [i * 2 for i in numbers]\n",
    "\n",
    "print(doubled_numbers)"
   ]
  },
  {
   "cell_type": "markdown",
   "metadata": {},
   "source": [
    "You can even insert conditional statements here:\n",
    "\n",
    "`[do_something(<elem>) for <elem> in <sequence> if <elem> satisfies some <condition>]`\n",
    "\n",
    "In practice:"
   ]
  },
  {
   "cell_type": "code",
   "execution_count": 97,
   "metadata": {},
   "outputs": [
    {
     "name": "stdout",
     "output_type": "stream",
     "text": [
      "[4, 8]\n"
     ]
    }
   ],
   "source": [
    "numbers = [1, 2, 3, 4, 5]\n",
    "\n",
    "doubled_numbers = [i * 2 for i in numbers if i % 2 == 0]\n",
    "\n",
    "print(doubled_numbers)"
   ]
  },
  {
   "cell_type": "markdown",
   "metadata": {},
   "source": [
    "**Notice.**\n",
    "\n",
    "List comprehensions have several advantages in comparison with the traditional `for`-loops:\n",
    "\n",
    "* code is more elegant;\n",
    "* and shorter;\n",
    "* list comprehensions are slightly faster than loops (you will see the benchmarking further).\n",
    "\n",
    "However:\n",
    "\n",
    "* sometimes list comprehensions are harder to read;\n",
    "* you are not able to specify complex conditions and operations in list comprehensions (but you can overcome this defining necessary functions earlier)."
   ]
  },
  {
   "cell_type": "markdown",
   "metadata": {},
   "source": [
    "### While loop\n",
    "`while`-loop is the second possible type of loop in Python. Imagine you are trying to ask the user to insert his decision in binary form (`1` for `yes` or `0` for `no`). In this case you are not able to interpret any other symbols in the further code. But how to force the user to do what you want from him and not to admit the error? Of course, using `while`-loop. In the simplest way the syntax is as follows:\n",
    "\n",
    "```\n",
    "while <condtion> is not met:\n",
    "    do_something()\n",
    "```\n",
    "\n",
    "`do_something()` will be done iteratively till the condition is not met. Let's try to solve out task using Python:"
   ]
  },
  {
   "cell_type": "code",
   "execution_count": 102,
   "metadata": {},
   "outputs": [
    {
     "name": "stdout",
     "output_type": "stream",
     "text": [
      "Please, type 1 if you agree and 0 otherwise: d\n",
      "\n",
      "You should type 0 or 1, not d: d\n",
      "You should type 0 or 1, not d: d\n",
      "You should type 0 or 1, not d: d\n",
      "You should type 0 or 1, not d: d\n",
      "You should type 0 or 1, not d: d\n",
      "You should type 0 or 1, not d: d\n",
      "You should type 0 or 1, not d: 5\n",
      "You should type 0 or 1, not 5: 1\n",
      "\n",
      "If you see this print, we managed to exit the loop. Congratulations!\n"
     ]
    }
   ],
   "source": [
    "decision = input('Please, type 1 if you agree and 0 otherwise: ') # ask for the first time\n",
    "print()\n",
    "\n",
    "while decision not in ['0', '1']: # in case the user is foolish\n",
    "    decision = input(f'You should type 0 or 1, not {decision}: ') # politely ask to input correct value\n",
    "\n",
    "print('\\nIf you see this print, we managed to exit the loop. Congratulations!')"
   ]
  },
  {
   "cell_type": "markdown",
   "metadata": {},
   "source": [
    "Another example. For instance, you are going through the list and dividing `8` by each value of the list. If you remember Math, you know that `0` value is very dangerous for us. So, if we meet `0`, we should stop:"
   ]
  },
  {
   "cell_type": "code",
   "execution_count": 52,
   "metadata": {},
   "outputs": [
    {
     "data": {
      "text/plain": [
       "[10, 9, 8, 7, 6, 5, 4, 3, 2, 1, 0]"
      ]
     },
     "execution_count": 52,
     "metadata": {},
     "output_type": "execute_result"
    }
   ],
   "source": [
    "dangerous_list = list(range(10, -1, -1))\n",
    "dangerous_list"
   ]
  },
  {
   "cell_type": "code",
   "execution_count": 108,
   "metadata": {},
   "outputs": [
    {
     "name": "stdout",
     "output_type": "stream",
     "text": [
      "Let us divide 8 by 10, got 0.8.\n",
      "Let us divide 8 by 9, got 0.8888888888888888.\n",
      "Let us divide 8 by 8, got 1.0.\n",
      "Let us divide 8 by 7, got 1.1428571428571428.\n",
      "Let us divide 8 by 6, got 1.3333333333333333.\n",
      "Let us divide 8 by 5, got 1.6.\n",
      "Let us divide 8 by 4, got 2.0.\n",
      "Let us divide 8 by 3, got 2.6666666666666665.\n",
      "Let us divide 8 by 2, got 4.0.\n",
      "Let us divide 8 by 1, got 8.0.\n"
     ]
    }
   ],
   "source": [
    "current_index = 0 # begin with 0\n",
    "\n",
    "while dangerous_list[current_index] != 0: # while the value for the according index is not 0\n",
    "    print(f'Let us divide 8 by {dangerous_list[current_index]}, got {8 / dangerous_list[current_index]}.')\n",
    "    current_index = current_index + 1 # increase current_index by 1 to go to the next element"
   ]
  },
  {
   "cell_type": "markdown",
   "metadata": {},
   "source": [
    "### Map (extra part)\n",
    "`map` function is the another specific way to proceed some operation with each value of the sequence. Suppose we have `letters` list and want to make each letter uppercase. Two first ways to do it are familiar to you:"
   ]
  },
  {
   "cell_type": "code",
   "execution_count": 110,
   "metadata": {},
   "outputs": [
    {
     "name": "stdout",
     "output_type": "stream",
     "text": [
      "['A', 'B', 'C', 'D', 'E']\n"
     ]
    }
   ],
   "source": [
    "letters = ['a', 'b', 'c', 'd', 'e']\n",
    "uppered_letters = []\n",
    "\n",
    "for l in letters:\n",
    "    uppered_letters.append(l.upper()) # for loop way\n",
    "\n",
    "print(uppered_letters)"
   ]
  },
  {
   "cell_type": "code",
   "execution_count": 111,
   "metadata": {},
   "outputs": [
    {
     "name": "stdout",
     "output_type": "stream",
     "text": [
      "['A', 'B', 'C', 'D', 'E']\n"
     ]
    }
   ],
   "source": [
    "letters = ['a', 'b', 'c', 'd', 'e']\n",
    "uppered_letters = [i.upper() for i in letters] # list comprehension way\n",
    "\n",
    "print(uppered_letters)"
   ]
  },
  {
   "cell_type": "markdown",
   "metadata": {},
   "source": [
    "The third path (path of the true Jedi) is to use `map()` function. Its syntax:\n",
    "\n",
    "`map(<some_function>, <sequence>)`\n",
    "\n",
    "Here `<some_function>` will be applied to each element of the `<sequence>`. You can specify the function manually or use anonimous function:\n",
    "\n",
    "`lambda <value>: do_something(<value>)`\n",
    "\n",
    "It means: take `<value>` and `do_something()` with it.\n",
    "\n",
    "Application to our case:"
   ]
  },
  {
   "cell_type": "code",
   "execution_count": 115,
   "metadata": {},
   "outputs": [
    {
     "name": "stdout",
     "output_type": "stream",
     "text": [
      "['A', 'B', 'C', 'D', 'E']\n"
     ]
    }
   ],
   "source": [
    "letters = ['a', 'b', 'c', 'd', 'e']\n",
    "uppered_letters = list(map(lambda x: x.upper(), letters)) # function: take x (element of the sequence) and upper it\n",
    "\n",
    "print(uppered_letters)"
   ]
  },
  {
   "cell_type": "markdown",
   "metadata": {},
   "source": [
    "Again, you have to wrap `list()` around `map()` because `map()` returns specific `map`-class object:"
   ]
  },
  {
   "cell_type": "code",
   "execution_count": 116,
   "metadata": {},
   "outputs": [
    {
     "name": "stdout",
     "output_type": "stream",
     "text": [
      "<map object at 0x0000022EAAE3A3D0>\n",
      "<class 'map'>\n"
     ]
    }
   ],
   "source": [
    "letters = ['a', 'b', 'c', 'd', 'e']\n",
    "uppered_letters = map(lambda x: x.upper(), letters) # needs to be converted to list\n",
    "\n",
    "print(uppered_letters)\n",
    "print(type(uppered_letters))"
   ]
  },
  {
   "cell_type": "markdown",
   "metadata": {},
   "source": [
    "`map` is even faster than list comprehension (but only applying to large sequences). Compare three variants with the small sequence (of length 5):"
   ]
  },
  {
   "cell_type": "code",
   "execution_count": 117,
   "metadata": {},
   "outputs": [
    {
     "name": "stdout",
     "output_type": "stream",
     "text": [
      "497 ns ± 30.5 ns per loop (mean ± std. dev. of 7 runs, 1000000 loops each)\n"
     ]
    }
   ],
   "source": [
    "%%timeit\n",
    "\n",
    "letters = ['a', 'b', 'c', 'd', 'e']\n",
    "uppered_letters = []\n",
    "\n",
    "for l in letters: # here 'num'\n",
    "    uppered_letters.append(l.upper())"
   ]
  },
  {
   "cell_type": "code",
   "execution_count": 118,
   "metadata": {},
   "outputs": [
    {
     "name": "stdout",
     "output_type": "stream",
     "text": [
      "515 ns ± 28.6 ns per loop (mean ± std. dev. of 7 runs, 1000000 loops each)\n"
     ]
    }
   ],
   "source": [
    "%%timeit\n",
    "\n",
    "letters = ['a', 'b', 'c', 'd', 'e']\n",
    "uppered_letters = [i.upper() for i in letters]"
   ]
  },
  {
   "cell_type": "code",
   "execution_count": 119,
   "metadata": {},
   "outputs": [
    {
     "name": "stdout",
     "output_type": "stream",
     "text": [
      "796 ns ± 46.9 ns per loop (mean ± std. dev. of 7 runs, 1000000 loops each)\n"
     ]
    }
   ],
   "source": [
    "%%timeit\n",
    "\n",
    "letters = ['a', 'b', 'c', 'd', 'e']\n",
    "uppered_letters = list(map(lambda x: x.upper(), letters)) # here map is not efficient"
   ]
  },
  {
   "cell_type": "markdown",
   "metadata": {},
   "source": [
    "Try with large sequence (of length 100000):"
   ]
  },
  {
   "cell_type": "code",
   "execution_count": 120,
   "metadata": {},
   "outputs": [
    {
     "name": "stdout",
     "output_type": "stream",
     "text": [
      "9.34 ms ± 769 µs per loop (mean ± std. dev. of 7 runs, 100 loops each)\n"
     ]
    }
   ],
   "source": [
    "%%timeit\n",
    "\n",
    "numbers = list(range(100000))\n",
    "doubled_numbers = []\n",
    "\n",
    "for i in numbers:\n",
    "    doubled_numbers.append(i * 2)"
   ]
  },
  {
   "cell_type": "code",
   "execution_count": 121,
   "metadata": {},
   "outputs": [
    {
     "name": "stdout",
     "output_type": "stream",
     "text": [
      "6.11 ms ± 459 µs per loop (mean ± std. dev. of 7 runs, 100 loops each)\n"
     ]
    }
   ],
   "source": [
    "%%timeit\n",
    "\n",
    "numbers = list(range(100000))\n",
    "doubled_numbers = [i * 2 for i in numbers]"
   ]
  },
  {
   "cell_type": "code",
   "execution_count": 123,
   "metadata": {},
   "outputs": [
    {
     "name": "stdout",
     "output_type": "stream",
     "text": [
      "1.31 ms ± 159 µs per loop (mean ± std. dev. of 7 runs, 1000 loops each)\n"
     ]
    }
   ],
   "source": [
    "%%timeit\n",
    "\n",
    "numbers = list(range(100000))\n",
    "doubled_numbers = map(lambda x: x * 2, numbers) # map is the most appropriate option"
   ]
  },
  {
   "cell_type": "markdown",
   "metadata": {},
   "source": [
    "### Summary"
   ]
  },
  {
   "cell_type": "markdown",
   "metadata": {},
   "source": [
    "* multiple assignment is a very powerful way of unpacking collections and simultaneous assignment;\n",
    "* you can go from the string to the list using `.split()` method and `.join()` to do reversely;\n",
    "* `for`-loop allows you to apply any operation to each element of the sequence;\n",
    "* list comprehension is more elegant and shorter than `for`-loop;\n",
    "* `while`-loop is helpful when you want to repeat some operation until requered condition is not met;\n",
    "* `map()` function is much more efficient than loops and list comprehensions with large sequences."
   ]
  },
  {
   "cell_type": "markdown",
   "metadata": {},
   "source": [
    "### Practice"
   ]
  },
  {
   "cell_type": "markdown",
   "metadata": {},
   "source": [
    "#### Task 1\n",
    "\n",
    "\n",
    "A string consisting of Russian letters of different cases is given. Clear all the capital letters.\n"
   ]
  },
  {
   "cell_type": "code",
   "execution_count": null,
   "metadata": {},
   "outputs": [],
   "source": [
    "letters = 'ЫгВЫоЯСремДШНККАыкЩЙФа'\n",
    "#your code here"
   ]
  },
  {
   "cell_type": "markdown",
   "metadata": {},
   "source": [
    "#### Task 2\n",
    "\n",
    "List of lists is wideapsread extension of basic lists in Python since it allows to reprsent two-demiensional data efficiently. Write a program that prints each element of the list of lists separately. Use ```for``` loop."
   ]
  },
  {
   "cell_type": "code",
   "execution_count": null,
   "metadata": {},
   "outputs": [],
   "source": [
    "list_of_lists = [[Marie, 17, Paris], [Daniel, 3, London], [Alina, 7, Moscow]]\n",
    "#your code here"
   ]
  },
  {
   "cell_type": "markdown",
   "metadata": {},
   "source": [
    "#### Task 3\n",
    "\n",
    "The sequence consists of natural numbers and ends with the number 0. Determine the value of the largest element of the sequence."
   ]
  },
  {
   "cell_type": "code",
   "execution_count": null,
   "metadata": {},
   "outputs": [],
   "source": [
    "#your code here"
   ]
  }
 ],
 "metadata": {
  "kernelspec": {
   "display_name": "Python 3",
   "language": "python",
   "name": "python3"
  },
  "language_info": {
   "codemirror_mode": {
    "name": "ipython",
    "version": 3
   },
   "file_extension": ".py",
   "mimetype": "text/x-python",
   "name": "python",
   "nbconvert_exporter": "python",
   "pygments_lexer": "ipython3",
   "version": "3.8.3"
  }
 },
 "nbformat": 4,
 "nbformat_minor": 5
}
