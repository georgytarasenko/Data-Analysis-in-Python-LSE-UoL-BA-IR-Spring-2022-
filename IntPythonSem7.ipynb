{
 "cells": [
  {
   "cell_type": "markdown",
   "metadata": {},
   "source": [
    "## Data Analysis in Python\n",
    "_Author: Ioann Dovgopoliy_"
   ]
  },
  {
   "cell_type": "markdown",
   "metadata": {},
   "source": [
    "## Seminar 7"
   ]
  },
  {
   "cell_type": "markdown",
   "metadata": {},
   "source": [
    "#### Seminar outline"
   ]
  },
  {
   "cell_type": "markdown",
   "metadata": {},
   "source": [
    "* Markdown;\n",
    "* Functions;\n",
    "* Global and local variables;\n",
    "* Summary;\n",
    "* Practice."
   ]
  },
  {
   "cell_type": "markdown",
   "metadata": {},
   "source": [
    "### Markdown\n",
    "Jupyter Notebook allows not only to execute Python code, but also to create well-formatted text using Markdown, simple markup language (markup language is 'язык разметки'). You can regard it as simplified HTML. To create Markdown cell in JN, you should choose the correct cell type:\n",
    "\n",
    "![](IntPythonSemImg1.png)"
   ]
  },
  {
   "cell_type": "markdown",
   "metadata": {},
   "source": [
    "All you type inside the Markdown cell is represented as text:"
   ]
  },
  {
   "cell_type": "markdown",
   "metadata": {},
   "source": [
    "Text, 1 + 1,'abcdef'.find('b')"
   ]
  },
  {
   "cell_type": "markdown",
   "metadata": {},
   "source": [
    "To see what your text will look like, just run the Markdown cell. Markdown has a few formatting options. For instance:"
   ]
  },
  {
   "cell_type": "markdown",
   "metadata": {},
   "source": [
    "Text\n",
    "\n",
    "**Bold text**\n",
    "\n",
    "*Italic text*\n",
    "\n",
    "<ins>Underlined text</ins>"
   ]
  },
  {
   "cell_type": "markdown",
   "metadata": {},
   "source": [
    "Ordered and unordered lists:"
   ]
  },
  {
   "cell_type": "markdown",
   "metadata": {},
   "source": [
    "1. item1\n",
    "2. item2"
   ]
  },
  {
   "cell_type": "markdown",
   "metadata": {},
   "source": [
    "\n",
    "- unordered point\n",
    "- unordered point\n",
    "- ..."
   ]
  },
  {
   "cell_type": "markdown",
   "metadata": {},
   "source": [
    "Or even links and pictures:"
   ]
  },
  {
   "cell_type": "markdown",
   "metadata": {},
   "source": [
    "[Text of the link](https://www.elsewhere.org/journal/pomo/).\n",
    "\n",
    "![Title](meme.jpg)"
   ]
  },
  {
   "cell_type": "markdown",
   "metadata": {},
   "source": [
    "To insert some 'code' to your Markdown cell use:\n",
    "\n",
    "`print(a)`\n",
    "\n",
    "Or a few rows:\n",
    "\n",
    "```\n",
    "a = 2 + 6\n",
    "b = 5 - a\n",
    "\n",
    "print(a, b)\n",
    "```\n",
    "\n",
    "**Notice.** Code is not executed here!"
   ]
  },
  {
   "cell_type": "markdown",
   "metadata": {},
   "source": [
    "#### Title"
   ]
  },
  {
   "cell_type": "markdown",
   "metadata": {},
   "source": [
    "Of course, all HTML&CSS staff is supported (obviously if you know HTML; it is beyond the scope of this course):\n",
    "\n",
    "<p style=\"text-align: center;\"><b>Specifically</b> <span style=\"color: hotpink; background-color: black; border: 2px solid red\">formatted</span><br>text.</p>\n",
    "\n",
    "<table>\n",
    "    <tr>\n",
    "        <th>Header 1</th>\n",
    "        <th>Header 2</th>\n",
    "    </tr>\n",
    "    <tr>\n",
    "        <td>Cell 1</td>\n",
    "        <td>Cell 2</td>\n",
    "    </tr>\n",
    "    <tr>\n",
    "        <td>Cell 3</td>\n",
    "        <td>Cell 4</td>\n",
    "    </tr>\n",
    "    <tr>\n",
    "        <td>Cell 5</td>\n",
    "        <td>Cell 6</td>\n",
    "    </tr>\n",
    "</table>"
   ]
  },
  {
   "cell_type": "markdown",
   "metadata": {},
   "source": [
    "It is **not necessary** to use Markdown to get the highest grade."
   ]
  },
  {
   "cell_type": "markdown",
   "metadata": {},
   "source": [
    "$$ p = m^2 \\times c $$"
   ]
  },
  {
   "cell_type": "markdown",
   "metadata": {},
   "source": [
    "### Functions\n",
    "Recall all fun facts you already know about *function*. Simple summary:\n",
    "\n",
    "* takes something as input(s);\n",
    "* does some operations with these inputs;\n",
    "* returns something as output(s).\n",
    "\n",
    "If you want to create your own function, you should care about all aforementioned points. Function syntax in Python is as follows:\n",
    "\n",
    "```\n",
    "def <function_name>(<argument1>, <argument2>, ...):\n",
    "    <output> = *some operations*\n",
    "    \n",
    "    return <output>\n",
    "```\n",
    "\n",
    "`def` signifies that you are going to create a function. After that, you type function name (from your fantasy). In parentheses after the name you enlist function arguments, its input(s), and type a colon (`:`). After that, go to the next row (do not forget about indentation) and specify any operations you want to proceed with inputs. Finally, use `return` command to return (get as output) anything you want to return.\n",
    "\n",
    "**Example.** Let's define a function that will take `a` and `b` (sides of rectangle) and return its area:"
   ]
  },
  {
   "cell_type": "code",
   "execution_count": 23,
   "metadata": {},
   "outputs": [],
   "source": [
    "def rectangle_area(a, b): # specify name (rectangle_area) and arguments inside parentheses (a and b)\n",
    "    area = a * b # compute area, create new area variable\n",
    "    \n",
    "    return area # return it as an output"
   ]
  },
  {
   "cell_type": "code",
   "execution_count": 26,
   "metadata": {},
   "outputs": [
    {
     "name": "stdout",
     "output_type": "stream",
     "text": [
      "5\n",
      "7\n"
     ]
    },
    {
     "data": {
      "text/plain": [
       "35"
      ]
     },
     "execution_count": 26,
     "metadata": {},
     "output_type": "execute_result"
    }
   ],
   "source": [
    "rectangle_area(int(input()), int(input()))"
   ]
  },
  {
   "cell_type": "markdown",
   "metadata": {},
   "source": [
    "Now it's time to check our function in practice:"
   ]
  },
  {
   "cell_type": "code",
   "execution_count": 27,
   "metadata": {},
   "outputs": [
    {
     "name": "stdout",
     "output_type": "stream",
     "text": [
      "3\n",
      "5\n",
      "\n",
      "15.0\n"
     ]
    }
   ],
   "source": [
    "side1 = float(input())\n",
    "side2 = float(input())\n",
    "\n",
    "result = rectangle_area(a=side1, b=side2) # explicitly specify arguments (you set side1 as 'a' and side2 as 'b')\n",
    "\n",
    "print()\n",
    "print(result)"
   ]
  },
  {
   "cell_type": "markdown",
   "metadata": {},
   "source": [
    "**Issue.** Please, help to create function that takes `a` and `b` (legs of the right triangle) and returns its area:"
   ]
  },
  {
   "cell_type": "code",
   "execution_count": 28,
   "metadata": {},
   "outputs": [],
   "source": [
    "def triangle_area(a,b):\n",
    "    area = (1/2)*a*b\n",
    "    return area"
   ]
  },
  {
   "cell_type": "code",
   "execution_count": 29,
   "metadata": {},
   "outputs": [
    {
     "data": {
      "text/plain": [
       "25.0"
      ]
     },
     "execution_count": 29,
     "metadata": {},
     "output_type": "execute_result"
    }
   ],
   "source": [
    "triangle_area(5,10)"
   ]
  },
  {
   "cell_type": "markdown",
   "metadata": {},
   "source": [
    "Now let's dive deeper in Python functions to learn more and to prevent potential drawbacks. Remember, **do not name your custom function with the name of in-built Python function**:"
   ]
  },
  {
   "cell_type": "code",
   "execution_count": null,
   "metadata": {},
   "outputs": [],
   "source": [
    "def len_of_smth(): # PROHIBITED!"
   ]
  },
  {
   "cell_type": "markdown",
   "metadata": {},
   "source": [
    "You can provide as many arguments as you want, but it is also an option to provide **ZERO** arguments. For instance, you want to create a function the will only return `0`:"
   ]
  },
  {
   "cell_type": "code",
   "execution_count": 30,
   "metadata": {},
   "outputs": [
    {
     "name": "stdout",
     "output_type": "stream",
     "text": [
      "0\n"
     ]
    }
   ],
   "source": [
    "def zero_function(): # no arguments\n",
    "    return 0 # return zero\n",
    "\n",
    "result = zero_function() # specify NO arguments (as you have no arguments)\n",
    "\n",
    "print(result)"
   ]
  },
  {
   "cell_type": "markdown",
   "metadata": {},
   "source": [
    "You can make your function **DO NOTHING**:"
   ]
  },
  {
   "cell_type": "code",
   "execution_count": 31,
   "metadata": {},
   "outputs": [],
   "source": [
    "def absolutly_useless_function():\n",
    "    pass # pass command does nothing\n",
    "\n",
    "absolutly_useless_function() # nothing happens"
   ]
  },
  {
   "cell_type": "markdown",
   "metadata": {},
   "source": [
    "You can make your function **RETURN NOTHING** (just forget to write `return`):"
   ]
  },
  {
   "cell_type": "code",
   "execution_count": 32,
   "metadata": {},
   "outputs": [
    {
     "name": "stdout",
     "output_type": "stream",
     "text": [
      "None\n"
     ]
    }
   ],
   "source": [
    "def return_nothing_function(arg1, arg2, arg3): # specify args\n",
    "    result = arg1 + arg2 + arg3 # specify operations with args\n",
    "\n",
    "result = return_nothing_function(arg1=5, arg2=1, arg3=8)\n",
    "\n",
    "print(result) # nothing is returned as you forgot to specify return statement"
   ]
  },
  {
   "cell_type": "markdown",
   "metadata": {},
   "source": [
    "You can explicitly return `None` (nothing):"
   ]
  },
  {
   "cell_type": "code",
   "execution_count": 49,
   "metadata": {},
   "outputs": [
    {
     "name": "stdout",
     "output_type": "stream",
     "text": [
      "None\n"
     ]
    }
   ],
   "source": [
    "def return_nothing_function():\n",
    "    return None\n",
    "\n",
    "print(return_nothing_function()) # anticipated"
   ]
  },
  {
   "cell_type": "markdown",
   "metadata": {},
   "source": [
    "**Notice.** Return nothing is not always useless. For instance, you can create function that returns nothing, **BUT PRINTS** something. For example, function that takes user's name and than prints 'Hello, *name*!':"
   ]
  },
  {
   "cell_type": "code",
   "execution_count": 33,
   "metadata": {},
   "outputs": [
    {
     "name": "stdout",
     "output_type": "stream",
     "text": [
      "Hello, there!\n",
      "Hello, there!\n",
      "\n",
      "None\n"
     ]
    }
   ],
   "source": [
    "def hello(user_name):\n",
    "    greeting = f'Hello, {user_name}!'\n",
    "    print(greeting)\n",
    "\n",
    "hello('there') # hello function prints the greeting\n",
    "\n",
    "result = hello('there') # but returns nothing (as return statement is not specified)\n",
    "\n",
    "print()\n",
    "print(result)"
   ]
  },
  {
   "cell_type": "markdown",
   "metadata": {},
   "source": [
    "If you want to return multiple values, just enlist them separated by comma. For instance, you write a function that takes `a` and `b` (sides of rectangle) and return its perimeter AND area:"
   ]
  },
  {
   "cell_type": "code",
   "execution_count": 34,
   "metadata": {},
   "outputs": [],
   "source": [
    "def rectangle_metrics(a, b):\n",
    "    perimeter = (a + b) * 2\n",
    "    area = a * b\n",
    "    \n",
    "    return perimeter, area"
   ]
  },
  {
   "cell_type": "code",
   "execution_count": 35,
   "metadata": {},
   "outputs": [
    {
     "data": {
      "text/plain": [
       "(30, 50)"
      ]
     },
     "execution_count": 35,
     "metadata": {},
     "output_type": "execute_result"
    }
   ],
   "source": [
    "rectangle_metrics(10, 5)"
   ]
  },
  {
   "cell_type": "markdown",
   "metadata": {},
   "source": [
    "In this situation tuple is returned:"
   ]
  },
  {
   "cell_type": "code",
   "execution_count": 37,
   "metadata": {},
   "outputs": [
    {
     "name": "stdout",
     "output_type": "stream",
     "text": [
      "3\n",
      "6\n"
     ]
    },
    {
     "data": {
      "text/plain": [
       "(18.0, 18.0)"
      ]
     },
     "execution_count": 37,
     "metadata": {},
     "output_type": "execute_result"
    }
   ],
   "source": [
    "side1 = float(input())\n",
    "side2 = float(input())\n",
    "\n",
    "rectangle_metrics(a=side1, b=side2)"
   ]
  },
  {
   "cell_type": "markdown",
   "metadata": {},
   "source": [
    "Use multiple assignment to 'unpack' the tuple:"
   ]
  },
  {
   "cell_type": "code",
   "execution_count": 36,
   "metadata": {},
   "outputs": [
    {
     "name": "stdout",
     "output_type": "stream",
     "text": [
      "3\n",
      "6\n",
      "\n",
      "18.0 18.0\n"
     ]
    }
   ],
   "source": [
    "side1 = float(input())\n",
    "side2 = float(input())\n",
    "\n",
    "my_perimeter, my_area = rectangle_metrics(a=side1, b=side2) # multiple assignment as output is multiple too\n",
    "\n",
    "print()\n",
    "print(my_perimeter, my_area)"
   ]
  },
  {
   "cell_type": "markdown",
   "metadata": {},
   "source": [
    "#### Arguments by default\n",
    "Assume you want to compute falling object speed when it meets floor given height `h`. Physics helps us and says that the formula is $\\sqrt{2gh}$, where `g` is gravitational constant (for Earth) and `h` is initial height. Of course, our computations will be mainly on Earth, so `g` could be `9.8` *by default*:"
   ]
  },
  {
   "cell_type": "code",
   "execution_count": 38,
   "metadata": {},
   "outputs": [],
   "source": [
    "def compute_speed(h, g=9.8): # specify the default value for g (default values are always specified AFTER non-default)\n",
    "    speed = (2 * g * h) ** (1 / 2)\n",
    "    \n",
    "    return speed"
   ]
  },
  {
   "cell_type": "code",
   "execution_count": 39,
   "metadata": {},
   "outputs": [
    {
     "name": "stdout",
     "output_type": "stream",
     "text": [
      "5858\n",
      "\n",
      "338.84627783111324\n"
     ]
    }
   ],
   "source": [
    "h = float(input())\n",
    "\n",
    "result = compute_speed(h) # not specifying g argument as it HAS default value\n",
    "\n",
    "print()\n",
    "print(result)"
   ]
  },
  {
   "cell_type": "markdown",
   "metadata": {},
   "source": [
    "But assume you want to compare speed for 100 meters height on Earth and on Mars (gravitational constant for Mars is `3.8`):"
   ]
  },
  {
   "cell_type": "code",
   "execution_count": 40,
   "metadata": {},
   "outputs": [
    {
     "name": "stdout",
     "output_type": "stream",
     "text": [
      "100\n",
      "27.568097504180443\n"
     ]
    }
   ],
   "source": [
    "h = float(input())\n",
    "\n",
    "result = compute_speed(h, g=3.8) # overriding the default Earth value\n",
    "\n",
    "print(result)"
   ]
  },
  {
   "cell_type": "markdown",
   "metadata": {},
   "source": [
    "### Global and local variables\n",
    "Assume that function is tiny program inside a big program (big program is Python). Simply, Python is a 'parent' while function is a 'child'. What if you use some variable that is not passed as argument inside function? Let's see:"
   ]
  },
  {
   "cell_type": "code",
   "execution_count": 1,
   "metadata": {},
   "outputs": [
    {
     "ename": "NameError",
     "evalue": "name 'number2' is not defined",
     "output_type": "error",
     "traceback": [
      "\u001b[0;31m---------------------------------------------------------------------------\u001b[0m",
      "\u001b[0;31mNameError\u001b[0m                                 Traceback (most recent call last)",
      "\u001b[0;32m<ipython-input-1-6fcc9c650fa9>\u001b[0m in \u001b[0;36m<module>\u001b[0;34m\u001b[0m\n\u001b[1;32m      4\u001b[0m     \u001b[0;32mreturn\u001b[0m \u001b[0moutput\u001b[0m\u001b[0;34m\u001b[0m\u001b[0;34m\u001b[0m\u001b[0m\n\u001b[1;32m      5\u001b[0m \u001b[0;34m\u001b[0m\u001b[0m\n\u001b[0;32m----> 6\u001b[0;31m \u001b[0mchild\u001b[0m\u001b[0;34m(\u001b[0m\u001b[0mnumber\u001b[0m\u001b[0;34m=\u001b[0m\u001b[0;36m2\u001b[0m\u001b[0;34m)\u001b[0m\u001b[0;34m\u001b[0m\u001b[0;34m\u001b[0m\u001b[0m\n\u001b[0m",
      "\u001b[0;32m<ipython-input-1-6fcc9c650fa9>\u001b[0m in \u001b[0;36mchild\u001b[0;34m(number)\u001b[0m\n\u001b[1;32m      1\u001b[0m \u001b[0;32mdef\u001b[0m \u001b[0mchild\u001b[0m\u001b[0;34m(\u001b[0m\u001b[0mnumber\u001b[0m\u001b[0;34m)\u001b[0m\u001b[0;34m:\u001b[0m\u001b[0;34m\u001b[0m\u001b[0;34m\u001b[0m\u001b[0m\n\u001b[0;32m----> 2\u001b[0;31m     \u001b[0moutput\u001b[0m \u001b[0;34m=\u001b[0m \u001b[0mnumber\u001b[0m \u001b[0;34m*\u001b[0m \u001b[0mnumber2\u001b[0m\u001b[0;34m\u001b[0m\u001b[0;34m\u001b[0m\u001b[0m\n\u001b[0m\u001b[1;32m      3\u001b[0m \u001b[0;34m\u001b[0m\u001b[0m\n\u001b[1;32m      4\u001b[0m     \u001b[0;32mreturn\u001b[0m \u001b[0moutput\u001b[0m\u001b[0;34m\u001b[0m\u001b[0;34m\u001b[0m\u001b[0m\n\u001b[1;32m      5\u001b[0m \u001b[0;34m\u001b[0m\u001b[0m\n",
      "\u001b[0;31mNameError\u001b[0m: name 'number2' is not defined"
     ]
    }
   ],
   "source": [
    "def child(number):\n",
    "    output = number * number2\n",
    "    \n",
    "    return output\n",
    "\n",
    "child(number=2)"
   ]
  },
  {
   "cell_type": "markdown",
   "metadata": {},
   "source": [
    "We have `name 'number2' is not defined` message because we have not defined `number2` variable. But assume that `number2` is defined in Python (not in function):"
   ]
  },
  {
   "cell_type": "code",
   "execution_count": 2,
   "metadata": {},
   "outputs": [
    {
     "data": {
      "text/plain": [
       "10"
      ]
     },
     "execution_count": 2,
     "metadata": {},
     "output_type": "execute_result"
    }
   ],
   "source": [
    "number2 = 5\n",
    "\n",
    "child(number=2) # now child FOUND the number2 variable (as his PARENT has it)"
   ]
  },
  {
   "cell_type": "markdown",
   "metadata": {},
   "source": [
    "Variables defined in Python (parent) are `global`, while variables defined inside function (child) are `local`. Function can get parental variable if it need the variable and the variable is defined in Python itself (as we have seen before). But if you change the `global` variable inside the function, it is not changed inside overall Python:"
   ]
  },
  {
   "cell_type": "code",
   "execution_count": 4,
   "metadata": {},
   "outputs": [
    {
     "name": "stdout",
     "output_type": "stream",
     "text": [
      "16\n",
      "8\n"
     ]
    }
   ],
   "source": [
    "def child(number):\n",
    "    global number2\n",
    "    number2 = 8\n",
    "    output = number * number2\n",
    "    \n",
    "    return output\n",
    "\n",
    "print(child(number=2)) # number2 in function is changed...\n",
    "print(number2) # ...but is unchangeable in overall Python (5 instead of 8)"
   ]
  },
  {
   "cell_type": "markdown",
   "metadata": {},
   "source": [
    "**Issue.** How do you think, if you define variable inside function (not in Python itself), can you find it in 'big' Python?"
   ]
  },
  {
   "cell_type": "code",
   "execution_count": 15,
   "metadata": {},
   "outputs": [
    {
     "data": {
      "text/plain": [
       "8"
      ]
     },
     "execution_count": 15,
     "metadata": {},
     "output_type": "execute_result"
    }
   ],
   "source": [
    "#global variable"
   ]
  },
  {
   "cell_type": "markdown",
   "metadata": {},
   "source": [
    "### Summary\n",
    "\n",
    "* Jupyter Notebook has powerful Markdown instruments that allow to modify text (HTML&CSS also supported);\n",
    "* in Python you can specify your own functions;\n",
    "* you should make distinction between `local` variables (exist inside function only) and `global` variables (exist in Python and in particular inside function)."
   ]
  },
  {
   "cell_type": "markdown",
   "metadata": {},
   "source": [
    "### Practice"
   ]
  },
  {
   "cell_type": "markdown",
   "metadata": {},
   "source": [
    "#### Task 1\n",
    "Write function that takes circle radius (`r`) and returns its area:"
   ]
  },
  {
   "cell_type": "code",
   "execution_count": 5,
   "metadata": {},
   "outputs": [],
   "source": [
    "def circle_area(r, pi = 3.14):\n",
    "    area = r**2*pi\n",
    "    return area"
   ]
  },
  {
   "cell_type": "code",
   "execution_count": 7,
   "metadata": {},
   "outputs": [],
   "source": [
    "def circle_area(r):\n",
    "    import math\n",
    "    area = r**2*math.pi\n",
    "    return area"
   ]
  },
  {
   "cell_type": "code",
   "execution_count": 8,
   "metadata": {},
   "outputs": [
    {
     "data": {
      "text/plain": [
       "50.26548245743669"
      ]
     },
     "execution_count": 8,
     "metadata": {},
     "output_type": "execute_result"
    }
   ],
   "source": [
    "circle_area(4)"
   ]
  },
  {
   "cell_type": "markdown",
   "metadata": {},
   "source": [
    "#### Task 2\n",
    "Write function that takes sphere radius (`r`) and returns its volume and surface area (two values):"
   ]
  },
  {
   "cell_type": "code",
   "execution_count": 9,
   "metadata": {},
   "outputs": [],
   "source": [
    "def sphere_metrics(r, pi = 3.14):\n",
    "    volume = (4/3)*pi*r**3\n",
    "    area = 4*pi*r**2\n",
    "    return volume, area"
   ]
  },
  {
   "cell_type": "code",
   "execution_count": 11,
   "metadata": {},
   "outputs": [
    {
     "name": "stdout",
     "output_type": "stream",
     "text": [
      "523.3333333333334\n",
      "314.0\n"
     ]
    }
   ],
   "source": [
    "volume_5, area_5 = sphere_metrics(5)\n",
    "print(volume_5)\n",
    "print(area_5)\n"
   ]
  },
  {
   "cell_type": "markdown",
   "metadata": {},
   "source": [
    "#### Task 3\n",
    "Based on the following scheme, write function that takes `years_ago` number (in millions) and prints '*years_ago* million years ago was *era*.' (eras are Archean, Proterozoic, Paleozoic etc.):\n",
    "![](https://1.bp.blogspot.com/-HjZ5AWBB6Zs/WGOqbhCVCzI/AAAAAAAAK0U/CoAFMvJbHSQrVuZZD7xqScqete0uvwi9QCLcB/s1600/10%2BInteresting%2BFacts%2Babout%2BThe%2Bgeological%2Btime%2Bscale.jpg)\n",
    "**Notice.** Function should return **NOTHING**, just print the period.\n",
    "\n",
    "```\n",
    "Input:\n",
    "450\n",
    "\n",
    "Output:\n",
    "450 millions years ago was Paleozoic era.\n",
    "```"
   ]
  },
  {
   "cell_type": "code",
   "execution_count": 15,
   "metadata": {},
   "outputs": [],
   "source": [
    "def which_era(years_ago):\n",
    "    if years_ago < 65.5:\n",
    "        print(f'{years_ago} millions years ago was Cenozoic era.')\n",
    "    elif years_ago < 252.2 and years_ago > 65.5:\n",
    "        print(f'{years_ago} millions years ago was Mesozoic era.')\n",
    "    elif years_ago < 542 and years_ago > 252.2:\n",
    "        print(f'{years_ago} millions years ago was Paleozoic era.')\n",
    "    elif years_ago < 2500  and years_ago > 542:\n",
    "        print(f'{years_ago} millions years ago was Proterozoic era.')\n",
    "    else: print(f'{years_ago} millions years ago was Archean era.')\n",
    "\n",
    "        "
   ]
  },
  {
   "cell_type": "code",
   "execution_count": 16,
   "metadata": {},
   "outputs": [
    {
     "name": "stdout",
     "output_type": "stream",
     "text": [
      "100 millions years ago was Mesozoic era.\n"
     ]
    }
   ],
   "source": [
    "which_era(100)"
   ]
  },
  {
   "cell_type": "markdown",
   "metadata": {},
   "source": [
    "#### Task 4\n",
    "Write the function that takes `h` (height) as an input and returns time of falling with the height. The formula is $\\sqrt{\\frac{2h}{g}}$. Your function should take `9.8` (Earth gravitational constant) default value for `g` argument."
   ]
  },
  {
   "cell_type": "code",
   "execution_count": 17,
   "metadata": {},
   "outputs": [],
   "source": [
    "def time_of_falling(h, g = 9.8):\n",
    "    time = (2*h/g)**(1/2)\n",
    "    return time"
   ]
  },
  {
   "cell_type": "markdown",
   "metadata": {},
   "source": [
    "#### Task 5\n",
    "Write function that takes simple equation in form `ax + b = c` (`x` part with some coefficient goes on first place and cannot change it) and returns the root of the equation:"
   ]
  },
  {
   "cell_type": "code",
   "execution_count": 18,
   "metadata": {},
   "outputs": [],
   "source": [
    "def solution_equation(a,b,c):\n",
    "    x = (c-b)/a\n",
    "    return x"
   ]
  },
  {
   "cell_type": "markdown",
   "metadata": {},
   "source": [
    "$$2x + 10 = 13$$"
   ]
  },
  {
   "cell_type": "code",
   "execution_count": 19,
   "metadata": {},
   "outputs": [
    {
     "data": {
      "text/plain": [
       "1.5"
      ]
     },
     "execution_count": 19,
     "metadata": {},
     "output_type": "execute_result"
    }
   ],
   "source": [
    "solution_equation(2,10,13)"
   ]
  }
 ],
 "metadata": {
  "kernelspec": {
   "display_name": "Python 3",
   "language": "python",
   "name": "python3"
  },
  "language_info": {
   "codemirror_mode": {
    "name": "ipython",
    "version": 3
   },
   "file_extension": ".py",
   "mimetype": "text/x-python",
   "name": "python",
   "nbconvert_exporter": "python",
   "pygments_lexer": "ipython3",
   "version": "3.8.3"
  }
 },
 "nbformat": 4,
 "nbformat_minor": 5
}
