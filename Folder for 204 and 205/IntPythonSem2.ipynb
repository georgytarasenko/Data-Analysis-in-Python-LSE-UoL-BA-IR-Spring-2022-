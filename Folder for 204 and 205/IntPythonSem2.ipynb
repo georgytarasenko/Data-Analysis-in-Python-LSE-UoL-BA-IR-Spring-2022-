{
 "cells": [
  {
   "cell_type": "markdown",
   "id": "specific-criterion",
   "metadata": {},
   "source": [
    "# Data Analysis in Python\n",
    "_Author: Ioann Dovgopoliy_"
   ]
  },
  {
   "cell_type": "markdown",
   "id": "living-opening",
   "metadata": {},
   "source": [
    "## Seminar 2"
   ]
  },
  {
   "cell_type": "markdown",
   "id": "fitted-source",
   "metadata": {},
   "source": [
    "### Seminar outline"
   ]
  },
  {
   "cell_type": "markdown",
   "id": "external-montreal",
   "metadata": {},
   "source": [
    "* Pythonic mindset\n",
    "* Data types & Arithmetics\n",
    "* Input and output\n",
    "* Summary\n",
    "* Practice"
   ]
  },
  {
   "cell_type": "markdown",
   "id": "frequent-nelson",
   "metadata": {},
   "source": [
    "### Pythonic mindset\n",
    "#### Objects"
   ]
  },
  {
   "cell_type": "markdown",
   "id": "tough-compatibility",
   "metadata": {},
   "source": [
    "You should try to perceive all the things in class- and object-like way. For instance, there is a kind _homo sapiens_. We approximately can list its basic characteristics: bipedal, speaking, social and so on (you can think of it like about Plato's ideal forms). In details humans are different (different objects: name, age, gender, etc. - in Python we will call it _attributes_), but in general they are the same - _homo sapiens_ (they belong to the same _class_). So, _class_ - ideal form, _object_ - concrete representation of the _class_.\n",
    "\n",
    "In sum, **every object of some class can be characterized by:**\n",
    "\n",
    "* its properties (what it is) - _attributes_ saying pythonically;\n",
    "* its possible spectrum of actions (what can it do) - _methods_ in Python paradigm.\n",
    "\n",
    "In order to better understand Python, consider that programming language is entirely artificial, e. g. you have to construct it from scratch. Consequently, like in the real world, in Python world we deal with interacting objects. Unlike in the real world, classes and their characteristics are totally constructed by programmers. Python _knows_ that 1 + 1 = 2 because:\n",
    "\n",
    "* programmers defined what is Integer number (in this case Integer is a class, `1` is an object);\n",
    "* programmers defined what occurs when Integer meets `+` and another Integer.\n",
    "\n",
    "You can define YOUR OWN CLASS and define what occurs when applying `+` operator (for instance, nothing may occur, or 'Congratulations!' notice may return, or anything else).\n",
    "\n",
    "So, do not be confused when some operator (+, -, =, etc.) or function behave in way you do not you expect: just go to [Python documentation](https://docs.python.org/3/) and check how the operator or function is defined.\n",
    "\n",
    "Example:"
   ]
  },
  {
   "cell_type": "code",
   "execution_count": null,
   "id": "western-detail",
   "metadata": {},
   "outputs": [],
   "source": [
    "1 + 1"
   ]
  },
  {
   "cell_type": "code",
   "execution_count": null,
   "id": "virtual-parish",
   "metadata": {},
   "outputs": [],
   "source": [
    "'1' + '1'"
   ]
  },
  {
   "cell_type": "markdown",
   "id": "creative-reproduction",
   "metadata": {},
   "source": [
    "It is obvious that in real life we do not sum words or texts that way."
   ]
  },
  {
   "cell_type": "markdown",
   "id": "sufficient-preliminary",
   "metadata": {},
   "source": [
    "#### Functions\n",
    "In Python functions are everywhere. But what are them? What do you remember from you Math classes?\n",
    "\n",
    "Function is a some tool that:\n",
    "\n",
    "* takes something as input(s) (for instance, ingridients for a cake). We will call this input(s) _arguments_. **NOTE: there can be no inputs** (but in Math an empty set is still set);\n",
    "* does some operations with these inputs (for instance, mix ingridients). Analogously, it can **DO NOTHING**;\n",
    "* returns something as output(s) (in our case tasty cake).\n",
    "\n",
    "**Notice.** If you want to understand some function, you should check three options above. Usually, you can consult the [Python documentation](https://docs.python.org/3/).\n",
    "\n",
    "Typical function in Python: `function(arg1, arg2, ...)`.\n",
    "\n",
    "Example with function `print` (it takes arbitrary number of arguments and print it out):"
   ]
  },
  {
   "cell_type": "code",
   "execution_count": null,
   "id": "every-monday",
   "metadata": {},
   "outputs": [],
   "source": [
    "print(1, 2, 3)"
   ]
  },
  {
   "cell_type": "code",
   "execution_count": null,
   "id": "southeast-jungle",
   "metadata": {},
   "outputs": [],
   "source": [
    "print()"
   ]
  },
  {
   "cell_type": "code",
   "execution_count": null,
   "id": "superior-houston",
   "metadata": {},
   "outputs": [],
   "source": [
    "print(5)"
   ]
  },
  {
   "cell_type": "code",
   "execution_count": null,
   "id": "efficient-elite",
   "metadata": {},
   "outputs": [],
   "source": [
    "print(1, 2, 3)\n",
    "print() # notice the effect of the empty print: you can use it\n",
    "print(5)"
   ]
  },
  {
   "cell_type": "markdown",
   "id": "greater-membership",
   "metadata": {},
   "source": [
    "### Data types\n",
    "#### Integer (int)"
   ]
  },
  {
   "cell_type": "markdown",
   "id": "inappropriate-functionality",
   "metadata": {},
   "source": [
    "Python understands what data type an object has (unlike Java, Kotlin or C++). Variable initialization in Python (we can _name_ every value by assigning name to it):"
   ]
  },
  {
   "cell_type": "code",
   "execution_count": null,
   "id": "healthy-pattern",
   "metadata": {},
   "outputs": [],
   "source": [
    "my_var = 5"
   ]
  },
  {
   "cell_type": "markdown",
   "id": "raising-freeze",
   "metadata": {},
   "source": [
    "This name now stores value `5`:"
   ]
  },
  {
   "cell_type": "code",
   "execution_count": null,
   "id": "chinese-faculty",
   "metadata": {},
   "outputs": [],
   "source": [
    "my_var"
   ]
  },
  {
   "cell_type": "markdown",
   "id": "anticipated-airplane",
   "metadata": {},
   "source": [
    "And in Kotlin:"
   ]
  },
  {
   "cell_type": "code",
   "execution_count": null,
   "id": "prescribed-pasta",
   "metadata": {},
   "outputs": [],
   "source": [
    "val my_var: Integer = 5"
   ]
  },
  {
   "cell_type": "markdown",
   "id": "exciting-profession",
   "metadata": {},
   "source": [
    "We can make a request using `type` function:"
   ]
  },
  {
   "cell_type": "code",
   "execution_count": null,
   "id": "daily-draft",
   "metadata": {},
   "outputs": [],
   "source": [
    "type(5)"
   ]
  },
  {
   "cell_type": "code",
   "execution_count": null,
   "id": "square-polish",
   "metadata": {},
   "outputs": [],
   "source": [
    "print(type(5))"
   ]
  },
  {
   "cell_type": "markdown",
   "id": "relative-touch",
   "metadata": {},
   "source": [
    "**Notice.** JN returns code result by default, and you are not convinced to use `print` function:"
   ]
  },
  {
   "cell_type": "code",
   "execution_count": null,
   "id": "exact-librarian",
   "metadata": {},
   "outputs": [],
   "source": [
    "5 + 3"
   ]
  },
  {
   "cell_type": "code",
   "execution_count": null,
   "id": "sudden-clearance",
   "metadata": {},
   "outputs": [],
   "source": [
    "print(5 + 3)"
   ]
  },
  {
   "cell_type": "markdown",
   "id": "promotional-basketball",
   "metadata": {},
   "source": [
    "As in Math, we can accomplish arithmetical operations with Integer numbers:"
   ]
  },
  {
   "cell_type": "code",
   "execution_count": null,
   "id": "damaged-emerald",
   "metadata": {},
   "outputs": [],
   "source": [
    "# addition\n",
    "print(4 + 2)\n",
    "# subtraction\n",
    "print(4 - 2)"
   ]
  },
  {
   "cell_type": "code",
   "execution_count": null,
   "id": "wooden-beijing",
   "metadata": {},
   "outputs": [],
   "source": [
    "# multiplication\n",
    "print(4 * 2)\n",
    "# division\n",
    "print(4 / 2)\n",
    "# remainder of dividing\n",
    "print(3 % 2)\n",
    "# integer division (do not confuse with default division)\n",
    "print(6 // 4)"
   ]
  },
  {
   "cell_type": "code",
   "execution_count": null,
   "id": "billion-vatican",
   "metadata": {},
   "outputs": [],
   "source": [
    "4 / 2, 4 // 2"
   ]
  },
  {
   "cell_type": "code",
   "execution_count": null,
   "id": "great-description",
   "metadata": {},
   "outputs": [],
   "source": [
    "type(4 / 2), type(4 // 2)"
   ]
  },
  {
   "cell_type": "markdown",
   "id": "framed-restaurant",
   "metadata": {},
   "source": [
    "**Issue.** Please, try to reflect on why we get results of different types."
   ]
  },
  {
   "cell_type": "code",
   "execution_count": null,
   "id": "brazilian-baseball",
   "metadata": {},
   "outputs": [],
   "source": [
    "# powering\n",
    "print(3 ** 2)\n",
    "# rooting in form of powering (you could remember it from school Math)\n",
    "print(3 ** (1 / 2))"
   ]
  },
  {
   "cell_type": "markdown",
   "id": "transsexual-scene",
   "metadata": {},
   "source": [
    "You have noticed numbers with decimal point. In Python they are separate data type:"
   ]
  },
  {
   "cell_type": "markdown",
   "id": "passive-spectacular",
   "metadata": {},
   "source": [
    "#### Float (float)"
   ]
  },
  {
   "cell_type": "code",
   "execution_count": null,
   "id": "affected-relevance",
   "metadata": {},
   "outputs": [],
   "source": [
    "type(1.5)"
   ]
  },
  {
   "cell_type": "markdown",
   "id": "massive-bermuda",
   "metadata": {},
   "source": [
    "Two ways to create float:\n",
    "\n",
    "* using `.`;\n",
    "* using `float` function on `int`."
   ]
  },
  {
   "cell_type": "code",
   "execution_count": null,
   "id": "aggregate-scholarship",
   "metadata": {},
   "outputs": [],
   "source": [
    "type(1), type(1.)"
   ]
  },
  {
   "cell_type": "code",
   "execution_count": null,
   "id": "fatty-resource",
   "metadata": {},
   "outputs": [],
   "source": [
    "float(1), int(1.0)"
   ]
  },
  {
   "cell_type": "markdown",
   "id": "enclosed-diploma",
   "metadata": {},
   "source": [
    "Of course, while we can go from `int` to `float`, we can reverse the process:"
   ]
  },
  {
   "cell_type": "code",
   "execution_count": null,
   "id": "terminal-anaheim",
   "metadata": {},
   "outputs": [],
   "source": [
    "int(6.3)"
   ]
  },
  {
   "cell_type": "markdown",
   "id": "coupled-found",
   "metadata": {},
   "source": [
    "**Notice.** It is NOT a mathematical rounding:"
   ]
  },
  {
   "cell_type": "code",
   "execution_count": null,
   "id": "integral-hybrid",
   "metadata": {},
   "outputs": [],
   "source": [
    "int(6.9), round(6.9)"
   ]
  },
  {
   "cell_type": "markdown",
   "id": "widespread-radius",
   "metadata": {},
   "source": [
    "Please note:\n",
    "- in Python, we use `.` instead of `,` to make a fractional part\n",
    "\n",
    "Feel the difference:"
   ]
  },
  {
   "cell_type": "code",
   "execution_count": null,
   "id": "honest-windsor",
   "metadata": {},
   "outputs": [],
   "source": [
    "print(2,6 / 2)  # two numbers\n",
    "print(2.6 / 2)  # one number"
   ]
  },
  {
   "cell_type": "markdown",
   "id": "neutral-pacific",
   "metadata": {},
   "source": [
    "Sometimes we can get unintentional results:"
   ]
  },
  {
   "cell_type": "code",
   "execution_count": null,
   "id": "veterinary-thinking",
   "metadata": {},
   "outputs": [],
   "source": [
    "print(0.1 + 0.2)"
   ]
  },
  {
   "cell_type": "code",
   "execution_count": null,
   "id": "generous-acrobat",
   "metadata": {},
   "outputs": [],
   "source": [
    "0.1 == 0.10000000000000001"
   ]
  },
  {
   "cell_type": "markdown",
   "id": "olympic-marina",
   "metadata": {},
   "source": [
    "It is because Python use floating point arithmetics to represent floats (real numbers). In general:\n",
    "\n",
    "* it is impossible to make the memory of computer infinite (number of real numbers is infinite, even between `1` and `2`);\n",
    "* but we can try to represent any real number through some function of Integer numbers."
   ]
  },
  {
   "cell_type": "markdown",
   "id": "allied-spectacular",
   "metadata": {},
   "source": [
    "Additionally, we can run into some unusual format when potentially get big numbers:"
   ]
  },
  {
   "cell_type": "code",
   "execution_count": null,
   "id": "desperate-contact",
   "metadata": {},
   "outputs": [],
   "source": [
    "1.543 ** 1000"
   ]
  },
  {
   "cell_type": "markdown",
   "id": "printable-steel",
   "metadata": {},
   "source": [
    "This can be translated so:"
   ]
  },
  {
   "cell_type": "markdown",
   "id": "royal-solomon",
   "metadata": {},
   "source": [
    "$ n \\cdot e+188 = n \\cdot 10^{188} $"
   ]
  },
  {
   "cell_type": "code",
   "execution_count": null,
   "id": "aerial-france",
   "metadata": {},
   "outputs": [],
   "source": [
    "1000 == 10 ** 3"
   ]
  },
  {
   "cell_type": "code",
   "execution_count": null,
   "id": "blocked-hampton",
   "metadata": {},
   "outputs": [],
   "source": [
    "3000 == 3 * (10 ** 3)"
   ]
  },
  {
   "cell_type": "code",
   "execution_count": null,
   "id": "distributed-period",
   "metadata": {},
   "outputs": [],
   "source": [
    "3500 == 3.5 * (10 ** 3)"
   ]
  },
  {
   "cell_type": "markdown",
   "id": "together-field",
   "metadata": {},
   "source": [
    "#### String (str)"
   ]
  },
  {
   "cell_type": "markdown",
   "id": "norman-costume",
   "metadata": {},
   "source": [
    "Function `print` allows us to print not only numbers but text too:\n",
    "\n",
    "- text string in Python is any expression surrounded by `\"` or `'` quotes\n",
    "\n",
    "Example:"
   ]
  },
  {
   "cell_type": "code",
   "execution_count": null,
   "id": "numerous-rebecca",
   "metadata": {},
   "outputs": [],
   "source": [
    "type(1), type('1')"
   ]
  },
  {
   "cell_type": "code",
   "execution_count": null,
   "id": "equivalent-delhi",
   "metadata": {},
   "outputs": [],
   "source": [
    "print('My name:')"
   ]
  },
  {
   "cell_type": "code",
   "execution_count": null,
   "id": "confused-spell",
   "metadata": {},
   "outputs": [],
   "source": [
    "type('Ioann')"
   ]
  },
  {
   "cell_type": "code",
   "execution_count": null,
   "id": "promising-style",
   "metadata": {},
   "outputs": [],
   "source": [
    "print('The first ' + 'class')"
   ]
  },
  {
   "cell_type": "markdown",
   "id": "monthly-commons",
   "metadata": {},
   "source": [
    "**Issue.** How do you think, what occurs if we multilply `'my string'` string by 10?"
   ]
  },
  {
   "cell_type": "code",
   "execution_count": null,
   "id": "japanese-bridge",
   "metadata": {},
   "outputs": [],
   "source": [
    "'my string' * 10"
   ]
  },
  {
   "cell_type": "markdown",
   "id": "cathedral-topic",
   "metadata": {},
   "source": [
    "Stay in front of a mirror and repeat this every morning:"
   ]
  },
  {
   "cell_type": "code",
   "execution_count": null,
   "id": "cheap-fourth",
   "metadata": {},
   "outputs": [],
   "source": [
    "print('I have not any problems with Python ' * 20)"
   ]
  },
  {
   "cell_type": "markdown",
   "id": "outer-penny",
   "metadata": {},
   "source": [
    "**Issue.** How do you think, what occurs if we divide `'my string'` string by 10?"
   ]
  },
  {
   "cell_type": "markdown",
   "id": "departmental-upper",
   "metadata": {},
   "source": [
    "You can:\n",
    "\n",
    "- add strings;\n",
    "- multiply string by an Integer;\n",
    "- use special _methods_ of class `str`.\n",
    "\n",
    "**lifehack**: *if you type `str.` press `Tab`, you will get the list of avialable methods*."
   ]
  },
  {
   "cell_type": "markdown",
   "id": "satellite-sight",
   "metadata": {},
   "source": [
    "Methods are in a nutshell functions. Why do we need specific denomination for them?\n",
    "\n",
    "* functions are more common. For example, you can `print` everything: `int`, `float` or `str`;\n",
    "* but there are some specific functions that can be applied only to particular data types or classes. For instance, where can you capitalize all the letters?"
   ]
  },
  {
   "cell_type": "code",
   "execution_count": null,
   "id": "olive-savannah",
   "metadata": {},
   "outputs": [],
   "source": [
    "my_string = 'ioann' # yeah, I'm selfish\n",
    "our_string = 'ioann&students'"
   ]
  },
  {
   "cell_type": "markdown",
   "id": "smooth-cache",
   "metadata": {},
   "source": [
    "Let us call specific function (function only suitable for `str` data type):"
   ]
  },
  {
   "cell_type": "code",
   "execution_count": null,
   "id": "random-appendix",
   "metadata": {},
   "outputs": [],
   "source": [
    "my_string.capitalize()"
   ]
  },
  {
   "cell_type": "code",
   "execution_count": null,
   "id": "fifth-variation",
   "metadata": {},
   "outputs": [],
   "source": [
    "our_string.upper()"
   ]
  },
  {
   "cell_type": "markdown",
   "id": "nuclear-active",
   "metadata": {},
   "source": [
    "Or directly:"
   ]
  },
  {
   "cell_type": "code",
   "execution_count": null,
   "id": "mobile-september",
   "metadata": {},
   "outputs": [],
   "source": [
    "'ioann'.upper()"
   ]
  },
  {
   "cell_type": "markdown",
   "id": "operational-malpractice",
   "metadata": {},
   "source": [
    "Template: **object**._method_. There is no function `upper`, but method `upper` for strings specifically is defined:"
   ]
  },
  {
   "cell_type": "code",
   "execution_count": null,
   "id": "stopped-roman",
   "metadata": {},
   "outputs": [],
   "source": [
    "upper()"
   ]
  },
  {
   "cell_type": "code",
   "execution_count": null,
   "id": "aboriginal-attribute",
   "metadata": {},
   "outputs": [],
   "source": [
    "print('how')\n",
    "print('how' + ' ' + 'are')\n",
    "print('how' * 3)\n",
    "print(' are' * 2 + 'you?')"
   ]
  },
  {
   "cell_type": "code",
   "execution_count": null,
   "id": "czech-feedback",
   "metadata": {},
   "outputs": [],
   "source": [
    "print(1 + 2)  # number\n",
    "print('1' + '2') # string concatenation"
   ]
  },
  {
   "cell_type": "markdown",
   "id": "antique-phenomenon",
   "metadata": {},
   "source": [
    "From string to int and reversely:"
   ]
  },
  {
   "cell_type": "code",
   "execution_count": null,
   "id": "random-march",
   "metadata": {},
   "outputs": [],
   "source": [
    "str(1), int('28')"
   ]
  },
  {
   "cell_type": "markdown",
   "id": "logical-israeli",
   "metadata": {},
   "source": [
    "#### Logical/boolean (bool)\n",
    "\n",
    "Python recognizes two logical values: `True` and `False`. Do not confuse strings and booleans:"
   ]
  },
  {
   "cell_type": "code",
   "execution_count": null,
   "id": "valuable-membrane",
   "metadata": {},
   "outputs": [],
   "source": [
    "True == 'True'"
   ]
  },
  {
   "cell_type": "markdown",
   "id": "humanitarian-belle",
   "metadata": {},
   "source": [
    "Note that Python regards logical `True` and Integer (or float) 1 as equal:"
   ]
  },
  {
   "cell_type": "code",
   "execution_count": null,
   "id": "current-circular",
   "metadata": {},
   "outputs": [],
   "source": [
    "True == 1.0, True == 1"
   ]
  },
  {
   "cell_type": "markdown",
   "id": "anonymous-palmer",
   "metadata": {},
   "source": [
    "**Issue.** What number you think is equal to `False`?"
   ]
  },
  {
   "cell_type": "code",
   "execution_count": null,
   "id": "fifty-ferry",
   "metadata": {},
   "outputs": [],
   "source": [
    "print(type(False))"
   ]
  },
  {
   "cell_type": "code",
   "execution_count": null,
   "id": "actual-anime",
   "metadata": {},
   "outputs": [],
   "source": [
    "print(type('True'))"
   ]
  },
  {
   "cell_type": "markdown",
   "id": "posted-diana",
   "metadata": {},
   "source": [
    "As we have logical values, we also have logical operators to deal with them. There are some: `==`, `!=`, `>`, `<`, `>=`, `<=`, `and`, `or`, `not`:"
   ]
  },
  {
   "cell_type": "code",
   "execution_count": null,
   "id": "precious-confirmation",
   "metadata": {},
   "outputs": [],
   "source": [
    "print(34 == 30 + 4)"
   ]
  },
  {
   "cell_type": "markdown",
   "id": "dominant-edwards",
   "metadata": {},
   "source": [
    "**Notice.** In Python we use `=` for assigning variables, while `==` for comparison (unlike in Math)."
   ]
  },
  {
   "cell_type": "code",
   "execution_count": null,
   "id": "fluid-taylor",
   "metadata": {},
   "outputs": [],
   "source": [
    "'a' == 'a'"
   ]
  },
  {
   "cell_type": "code",
   "execution_count": null,
   "id": "satisfactory-twins",
   "metadata": {},
   "outputs": [],
   "source": [
    "print(35 == 30 - 5)"
   ]
  },
  {
   "cell_type": "code",
   "execution_count": null,
   "id": "commercial-lighter",
   "metadata": {},
   "outputs": [],
   "source": [
    "35 >= 5"
   ]
  },
  {
   "cell_type": "code",
   "execution_count": null,
   "id": "mature-median",
   "metadata": {},
   "outputs": [],
   "source": [
    "5 != 5"
   ]
  },
  {
   "cell_type": "code",
   "execution_count": null,
   "id": "bottom-houston",
   "metadata": {},
   "outputs": [],
   "source": [
    "True and True"
   ]
  },
  {
   "cell_type": "code",
   "execution_count": null,
   "id": "adjacent-poker",
   "metadata": {},
   "outputs": [],
   "source": [
    "True or False"
   ]
  },
  {
   "cell_type": "code",
   "execution_count": null,
   "id": "colonial-pepper",
   "metadata": {},
   "outputs": [],
   "source": [
    "not True"
   ]
  },
  {
   "cell_type": "markdown",
   "id": "adverse-destruction",
   "metadata": {},
   "source": [
    "### Input and output"
   ]
  },
  {
   "cell_type": "markdown",
   "id": "interior-agenda",
   "metadata": {},
   "source": [
    "Logically, if we can `print` something out, we can use `input` function to receive some info from a user. As a programmer you can put the data to ypur script directly, but what if you are creating some app with user interface?"
   ]
  },
  {
   "cell_type": "code",
   "execution_count": null,
   "id": "dirty-exhibit",
   "metadata": {},
   "outputs": [],
   "source": [
    "my_input = input()"
   ]
  },
  {
   "cell_type": "code",
   "execution_count": null,
   "id": "moved-batman",
   "metadata": {},
   "outputs": [],
   "source": [
    "my_input"
   ]
  },
  {
   "cell_type": "code",
   "execution_count": null,
   "id": "express-gardening",
   "metadata": {},
   "outputs": [],
   "source": [
    "type(my_input)"
   ]
  },
  {
   "cell_type": "code",
   "execution_count": null,
   "id": "floral-compromise",
   "metadata": {},
   "outputs": [],
   "source": [
    "my_input = input('Type something: ') # input\n",
    "\n",
    "my_output = int(my_input) * 10\n",
    "\n",
    "print(f'Here is my output: {my_output}') # output"
   ]
  },
  {
   "cell_type": "code",
   "execution_count": null,
   "id": "casual-there",
   "metadata": {},
   "outputs": [],
   "source": [
    "int_input = int(input())"
   ]
  },
  {
   "cell_type": "markdown",
   "id": "bulgarian-windsor",
   "metadata": {},
   "source": [
    "### PEP-8"
   ]
  },
  {
   "cell_type": "markdown",
   "id": "modern-snowboard",
   "metadata": {},
   "source": [
    "PEP 8, sometimes spelled PEP8 or PEP-8, is a document that provides guidelines and best practices on how to write Python code. It was written in 2001 by Guido van Rossum, Barry Warsaw, and Nick Coghlan. The primary focus of PEP 8 is to improve the readability and consistency of Python code."
   ]
  },
  {
   "cell_type": "markdown",
   "id": "growing-parish",
   "metadata": {},
   "source": [
    "Complete guide you can see [here](https://realpython.com/python-pep8/#:~:text=PEP%208%2C%20sometimes%20spelled%20PEP8,and%20consistency%20of%20Python%20code.)."
   ]
  },
  {
   "cell_type": "markdown",
   "id": "colonial-coalition",
   "metadata": {},
   "source": [
    "### Summary"
   ]
  },
  {
   "cell_type": "markdown",
   "id": "affecting-spectrum",
   "metadata": {},
   "source": [
    "* all things in Python are defined by programmers (and can be redefined by you);\n",
    "* functions are more universal instruments while methods are usually class- or type-specific;\n",
    "* there are Integeres (`int`), Floats (`float`), Strings (`str`) and Logicals (`bool`);\n",
    "* there are functions for input and output: `input` and `print`;\n",
    "* in Python we have some standards of coding called PEP-8."
   ]
  },
  {
   "cell_type": "markdown",
   "id": "alive-circuit",
   "metadata": {},
   "source": [
    "### Practice"
   ]
  },
  {
   "cell_type": "markdown",
   "id": "complex-antique",
   "metadata": {},
   "source": [
    "#### Task 1\n",
    "Compute remainder from dividing (182 * 23 / 90.21 + (3 - 4) * 839) by 6. After that, power it by 1/3:"
   ]
  },
  {
   "cell_type": "code",
   "execution_count": null,
   "id": "written-whole",
   "metadata": {},
   "outputs": [],
   "source": []
  },
  {
   "cell_type": "markdown",
   "id": "exposed-mirror",
   "metadata": {},
   "source": [
    "#### Task 2\n",
    "Write the program that gets `name` variable as input and prints '%name% is a nice name!'"
   ]
  },
  {
   "cell_type": "code",
   "execution_count": null,
   "id": "available-hello",
   "metadata": {},
   "outputs": [],
   "source": []
  },
  {
   "cell_type": "markdown",
   "id": "invisible-affair",
   "metadata": {},
   "source": [
    "#### Task 3\n",
    "Find out whether sum of squares of numbers 3, 6, 1, 0, 8 is higher than cube root of 1894 divided by rounded sum of numbers 1.2 and 0.234."
   ]
  },
  {
   "cell_type": "code",
   "execution_count": null,
   "id": "treated-hardwood",
   "metadata": {},
   "outputs": [],
   "source": []
  }
 ],
 "metadata": {
  "kernelspec": {
   "display_name": "Python 3",
   "language": "python",
   "name": "python3"
  },
  "language_info": {
   "codemirror_mode": {
    "name": "ipython",
    "version": 3
   },
   "file_extension": ".py",
   "mimetype": "text/x-python",
   "name": "python",
   "nbconvert_exporter": "python",
   "pygments_lexer": "ipython3",
   "version": "3.9.7"
  }
 },
 "nbformat": 4,
 "nbformat_minor": 5
}
