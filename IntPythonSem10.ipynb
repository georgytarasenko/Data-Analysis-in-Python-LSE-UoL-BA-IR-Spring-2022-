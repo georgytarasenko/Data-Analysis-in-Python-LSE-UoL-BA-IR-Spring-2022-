{
 "cells": [
  {
   "cell_type": "markdown",
   "id": "db1458bb",
   "metadata": {},
   "source": [
    "# Data Analysis in Python\n",
    "_Author: Ioann Dovgopoliy_"
   ]
  },
  {
   "cell_type": "markdown",
   "id": "7330b36d",
   "metadata": {},
   "source": [
    "## Seminar 10. Not only Python"
   ]
  },
  {
   "cell_type": "markdown",
   "id": "d5826673",
   "metadata": {},
   "source": [
    "### Seminar outline"
   ]
  },
  {
   "cell_type": "markdown",
   "id": "e20e4e05",
   "metadata": {},
   "source": [
    "* Probability theory;\n",
    "* Random variable & distribution;\n",
    "* Sample (and its characteristics);\n",
    "* Summary;\n",
    "* Practice."
   ]
  },
  {
   "cell_type": "markdown",
   "id": "dde16b34",
   "metadata": {},
   "source": [
    "### Probability theory\n",
    "What is probability? Let's assume the situation when we expect some important event to occur. For instance, you are waiting for your friend at assigned point. We can imagine that some embarrassments can result in your friend's delay. If we divide number of scenarios where some embarrassment emerges by number of all possible scenarios, we get value that is known as <i style=\"color: darkred;\">probability</i>. Thus, the probability is $p=\\frac{n}{N}$ where $n$ is number of outcomes when event occurs and $N$ is number of all possible outcomes.\n",
    "\n",
    "For instance, probability of getting coin tail (one throw) is $p=\\frac{1}{2}$.\n",
    "\n",
    "**Issue 1.** What is the probability to get 6 when you roll the dice?"
   ]
  },
  {
   "cell_type": "code",
   "execution_count": null,
   "id": "ac6acff7",
   "metadata": {},
   "outputs": [],
   "source": [
    "# your code here"
   ]
  },
  {
   "cell_type": "markdown",
   "id": "a4a9add7",
   "metadata": {},
   "source": [
    "It is very important to remember two rules when dealing with probabilities ($\\cap$ is intersection [and], $\\cup$ is union [or]):\n",
    "\n",
    "1. **Rule of sum.** If you compute the probability whether event $A$ [$p(A)$] *OR* event $B$ [$p(B)$] occurs, you should add $p(A)$ to $p(B)$: $p(A or B)=p(A \\cup B)=p(A)+p(B)$;\n",
    "2. **Rule of multiplication.** If you compute the probability whether event $A$ [$p(A)$] *AND* event $B$ [$p(B)$] occurs, you should multiply $p(A)$ by $p(B)$: $p(A and B)=p(A \\cap B)=p(A)*p(B)$.\n",
    "\n",
    "**Issue 2.** What is the probability to get 2 or 3 when you roll the dice?"
   ]
  },
  {
   "cell_type": "code",
   "execution_count": null,
   "id": "3dd34de2",
   "metadata": {},
   "outputs": [],
   "source": [
    "# your code here"
   ]
  },
  {
   "cell_type": "markdown",
   "id": "05157c35",
   "metadata": {},
   "source": [
    "**Issue 3.** What is the probability to get 1 and 1 in two subsequent rolls?"
   ]
  },
  {
   "cell_type": "code",
   "execution_count": null,
   "id": "77348a19",
   "metadata": {},
   "outputs": [],
   "source": [
    "# your code here"
   ]
  },
  {
   "cell_type": "markdown",
   "id": "0f8e017d",
   "metadata": {},
   "source": [
    "**Issue 4.** What is the probability to get 4 and 3 in two subsequent rolls?"
   ]
  },
  {
   "cell_type": "code",
   "execution_count": null,
   "id": "3db75b2f",
   "metadata": {},
   "outputs": [],
   "source": [
    "# your code here"
   ]
  },
  {
   "cell_type": "markdown",
   "id": "72722a1d",
   "metadata": {},
   "source": [
    "### Random variable & distribution\n",
    "We are surrounded by random variables. What is the individual income of random guy in India? How many students will visit my lecture next time? What grade will get those people who do not attend my lessons? We cannot answer these questions exactly. We can only give some approximate estimation.\n",
    "\n",
    "Of course, there are no physically random events (here we do not touch quantum theory). But mostly each event is affected by so large number of factors that it is rational to 'invent' the concept of *random variable*. Warning: *random* here does not mean *arbitrary*. We cannot exactly predict the height of random person outside, but we can almost definitely guarantee that this stranger is lower than 3 metres. In addition, it is more probable to meet mean-height person than, for instance, me.\n",
    "\n",
    "So, *random variable* has its characteristics and limitations.\n",
    "\n",
    "**Issue 5.** What is the probability to meet the dinosaur outside?"
   ]
  },
  {
   "cell_type": "code",
   "execution_count": null,
   "id": "4fef7f2d",
   "metadata": {},
   "outputs": [],
   "source": [
    "# your ideas in your mind"
   ]
  },
  {
   "cell_type": "markdown",
   "id": "e85e07f5",
   "metadata": {},
   "source": [
    "The characteristics and limitations of *random variables* can be called *distribution*. Distribution can show where it is more or less possible to meet value the *random variable*. Let's look at the following picture:\n",
    "\n",
    "![Z](https://cdn.scribbr.com/wp-content/uploads/2020/10/standard-normal-distribution-1024x633.png)\n",
    "\n",
    "This is so-called *normal distribution*. The more is area under the curve, the more is probability to meet the value. The area under the curve always equals 1 (as probability can be from 0 to 1).\n",
    "\n",
    "**Issue 6.** What is more probable: to meet values near 0 or 1? -1 or -2? 1 or -1? -3 or 6?\n",
    "\n",
    "Many random variables are distributed normally: human height and weight, psycological characteristics etc.\n",
    "\n",
    "**Issue 7.** How do you think, is the distribution of income in Russia normal (in a statistical sence)?\n",
    "\n",
    "Of course, there are many other distributions."
   ]
  },
  {
   "cell_type": "markdown",
   "id": "b88406e5",
   "metadata": {},
   "source": [
    "### Sample (and its characteristics)\n",
    "#### Measures of central tendency\n",
    "Now we understand that every random variable has its distribution e. g. its rules.\n",
    "\n",
    "Assume that we want to estimate average height of Moscow citizen. Is it possible to measure heght of each person in Moscow? I think no. But we have some acceptable alternative: to take N random people from all Moscow citizen (let me call them population). This random group is called *sample*. If we measure average height in our sample, we get some estimatioon for the whole population.\n",
    "\n",
    "As we have some sample, we are able to compute, for instance, mean value. In this context, mean value shows us some central tendency.\n",
    "\n",
    "**Issue 8.** Write function that takes real numbers sequence as an argument and returns its mean."
   ]
  },
  {
   "cell_type": "code",
   "execution_count": null,
   "id": "50695d4f",
   "metadata": {},
   "outputs": [],
   "source": [
    "heights = [188, 178, 164, 152, 157, 170, 188, 168, 172, 160]\n",
    "\n",
    "# your code here"
   ]
  },
  {
   "cell_type": "markdown",
   "id": "965bf6a4",
   "metadata": {},
   "source": [
    "Of course, it can be tiring to write such functions manually. Here `pandas` helps us:"
   ]
  },
  {
   "cell_type": "code",
   "execution_count": null,
   "id": "6afcc189",
   "metadata": {},
   "outputs": [],
   "source": [
    "import pandas as pd\n",
    "\n",
    "heights_pd = pd.Series(heights)\n",
    "heights_pd"
   ]
  },
  {
   "cell_type": "code",
   "execution_count": null,
   "id": "b3017c7c",
   "metadata": {},
   "outputs": [],
   "source": [
    "heights_pd.mean() # mean() method"
   ]
  },
  {
   "cell_type": "markdown",
   "id": "cb998036",
   "metadata": {},
   "source": [
    "Mean value is not the only measure of a central tendency. See:"
   ]
  },
  {
   "cell_type": "code",
   "execution_count": null,
   "id": "25f1ffef",
   "metadata": {},
   "outputs": [],
   "source": [
    "heights_pd.mean(), pd.Series([240, 178, 164, 152, 157, 170, 188, 168, 172, 160]).mean() # replace 188 by 240"
   ]
  },
  {
   "cell_type": "markdown",
   "id": "79d5c5e6",
   "metadata": {},
   "source": [
    "**Issue 9.** Above we have a very tall man among the usual ones (this value is called *outlier*). Consequently, mean value is changed. Is the new mean representative for the sample?"
   ]
  },
  {
   "cell_type": "markdown",
   "id": "7601f859",
   "metadata": {},
   "source": [
    "For this case, we have another central tendency measure: *median*. How it can be computed:\n",
    "\n",
    "1. Take sample: [188, 178, 164, 152, 157, 170, 188, 168, 172, 160];\n",
    "2. Sort it in ascending order: [152, 157, 160, 164, 168, 170, 172, 178, 188, 188];\n",
    "3. Find the place where you have equal number of values on the left and on the right: [152, 157, 160, 164, 168, **here** 170, 172, 178, 188, 188] (if length of the sequence is not even, this place will be central number);\n",
    "4. If length of the sequence is even: $median = \\frac{left+right}{2}$ where $left$ is value on the left from the center and $right$ is value on the right from the center (`(168 + 170) / 2 = 169`). If sequence length is uneven, then median is the central number.\n",
    "\n",
    "Of course, `pandas` has special method for the median:"
   ]
  },
  {
   "cell_type": "code",
   "execution_count": null,
   "id": "6af17bf5",
   "metadata": {},
   "outputs": [],
   "source": [
    "heights_pd.median()"
   ]
  },
  {
   "cell_type": "markdown",
   "id": "25d0cae3",
   "metadata": {},
   "source": [
    "Unlike the mean value, median is a *robust* statistic. It means that median cannot be influenced by outliers:"
   ]
  },
  {
   "cell_type": "code",
   "execution_count": null,
   "id": "c4db4501",
   "metadata": {},
   "outputs": [],
   "source": [
    "heights_pd.median(), pd.Series([240, 178, 164, 152, 157, 170, 188, 168, 172, 160]).median() # medians are equal"
   ]
  },
  {
   "cell_type": "markdown",
   "id": "85e45830",
   "metadata": {},
   "source": [
    "**Issue 10.** Find the medians for:\n",
    "\n",
    "1. [1, 2, 3, 4, 5];\n",
    "2. [1, 2, 3, 4, 5, 6];\n",
    "3. [35, -2, 9, 56, 0.2, -81.3, 0];\n",
    "4. [0, 0, 0, 0, 1, 0, 0]."
   ]
  },
  {
   "cell_type": "markdown",
   "id": "f856ce3f",
   "metadata": {},
   "source": [
    "**Issue 11.** How do you think, what could mean the situation when mean and median are very different?"
   ]
  },
  {
   "cell_type": "markdown",
   "id": "cb68b68d",
   "metadata": {},
   "source": [
    "#### Measures of dispersion"
   ]
  },
  {
   "cell_type": "markdown",
   "id": "69e76d4c",
   "metadata": {},
   "source": [
    "Look at these two sequences:"
   ]
  },
  {
   "cell_type": "code",
   "execution_count": null,
   "id": "a14f2d4f",
   "metadata": {},
   "outputs": [],
   "source": [
    "heights2 = [169.4, 170, 169.7, 169.6, 169.8, 169, 170.4, 169.7, 168.7, 170.7]\n",
    "print(heights, heights2, sep='\\n')"
   ]
  },
  {
   "cell_type": "code",
   "execution_count": null,
   "id": "e055f285",
   "metadata": {},
   "outputs": [],
   "source": [
    "print(pd.Series(heights).mean(), pd.Series(heights2).mean(), sep='\\n')"
   ]
  },
  {
   "cell_type": "markdown",
   "id": "8b830d47",
   "metadata": {},
   "source": [
    "They have equal means. But do they have equal dispersion of values? Let's check:"
   ]
  },
  {
   "cell_type": "code",
   "execution_count": null,
   "id": "cea794ec",
   "metadata": {},
   "outputs": [],
   "source": [
    "min1 = pd.Series(heights).min()\n",
    "max1 = pd.Series(heights).max()\n",
    "min2 = pd.Series(heights2).min()\n",
    "max2 = pd.Series(heights2).max()\n",
    "\n",
    "print(f'First min and max are {min1} and {max1} while second - {min2} and {max2}.')"
   ]
  },
  {
   "cell_type": "markdown",
   "id": "68fbca41",
   "metadata": {},
   "source": [
    "As you can see, first and second ranges are different. Of course, there is special statistic to measure range of a sample. This statistic is called *variance*. Its formula is:\n",
    "\n",
    "![var](https://www.statisticshowto.com/wp-content/uploads/2009/08/usual.png)\n",
    "\n",
    "Where $X$ is each value, $X$ with a cap is mean, and sum of squared subtractions is divided by sample length ($N$) minus `1`.\n",
    "\n",
    "**Issue 12.** Write function that takes real numbers sequence as an argument and returns its variance."
   ]
  },
  {
   "cell_type": "code",
   "execution_count": null,
   "id": "10a26619",
   "metadata": {},
   "outputs": [],
   "source": [
    "heights = [188, 178, 164, 152, 157, 170, 188, 168, 172, 160]\n",
    "\n",
    "# your code here"
   ]
  },
  {
   "cell_type": "markdown",
   "id": "75b0b6c4",
   "metadata": {},
   "source": [
    "As *variance* involves squared differences, we might desire to remove this 'squareness'. If we take a square root of variance we get *standard deviation*. Of course, `pandas` allows us to compute both:"
   ]
  },
  {
   "cell_type": "code",
   "execution_count": null,
   "id": "81105268",
   "metadata": {},
   "outputs": [],
   "source": [
    "heights_pd.var()"
   ]
  },
  {
   "cell_type": "code",
   "execution_count": null,
   "id": "a39bdde1",
   "metadata": {},
   "outputs": [],
   "source": [
    "heights_pd.std()"
   ]
  },
  {
   "cell_type": "code",
   "execution_count": null,
   "id": "7be1cf43",
   "metadata": {},
   "outputs": [],
   "source": [
    "heights_pd.var() ** (1 / 2)"
   ]
  },
  {
   "cell_type": "markdown",
   "id": "5590e6a9",
   "metadata": {},
   "source": [
    "**Issue 13.** Find the variance and standard deviation:\n",
    "\n",
    "1. [1, 2, 3, 4, 5];\n",
    "2. [1, 2, 3, 4, 5, 6];\n",
    "3. [35, -2, 9, 56, 0.2, -81.3, 0];\n",
    "4. [0, 0, 0, 0, 1, 0, 0]."
   ]
  },
  {
   "cell_type": "markdown",
   "id": "77ad1ef9",
   "metadata": {},
   "source": [
    "#### Quantiles\n",
    "One more interesting way to characterize your sample is *quantile*.\n",
    "\n",
    "**Definition.** Quantile of level $p$  is the value on the left of which share of values is $p$ (including this value).\n",
    "\n",
    "**Example.** Level is `0.5`:\n",
    "\n",
    "Sequence: [3, 4, 1, 8, 2, 0];<br>\n",
    "Sorted sequence: [0, 1, 2, 3, 4, 8];<br>\n",
    "Quantile of level `0.5` is `2`, because:\n",
    "\n",
    "1. How many values are from the left of `2` (including `2`)? 3: 0, 1, 2;\n",
    "2. What is the length of the sequence? 6;\n",
    "3. What is share of 3 in 6? `3 / 6 = 0.5`.\n",
    "\n",
    "There are several identical (in general) methods to compute quantile in `pandas`. To choose ours, set `interpolation` argument to `nearest`:"
   ]
  },
  {
   "cell_type": "code",
   "execution_count": null,
   "id": "1fca5a9c",
   "metadata": {},
   "outputs": [],
   "source": [
    "pd.Series([3, 4, 1, 8, 2, 0]).quantile(0.5, interpolation='nearest')"
   ]
  },
  {
   "cell_type": "markdown",
   "id": "c15f98a4",
   "metadata": {},
   "source": [
    "**Issue 14.** You have the sequence from the example. Find quantiles of level:\n",
    "\n",
    "1. 0.4;\n",
    "2. 0.41;\n",
    "3. 1;\n",
    "4. 0.7"
   ]
  },
  {
   "cell_type": "markdown",
   "id": "69101247",
   "metadata": {},
   "source": [
    "### Summary"
   ]
  },
  {
   "cell_type": "markdown",
   "id": "50e10ee3",
   "metadata": {},
   "source": [
    "* *probability* is ratio of number of positive outcomes to number of all possible outcomes;\n",
    "* *random variables* have their rules: distribution;\n",
    "* *sample* can be characterized by *mean*, *median* and *variance* (+ *standard deviation*)."
   ]
  },
  {
   "cell_type": "markdown",
   "id": "1d111936",
   "metadata": {},
   "source": [
    "### Practice\n",
    "**Task 1.** Collect data about height of 6 random persons you meet since this moment. Compute: mean, median, variance and standard deviation. Are mean and median very different? Why?"
   ]
  },
  {
   "cell_type": "markdown",
   "id": "934cfdfd",
   "metadata": {},
   "source": [
    "**Task 2.** You have table `ec_data.xls`. Open it in `pandas` and compute all the metrics above for integer or float columns. Interpret your results."
   ]
  },
  {
   "cell_type": "code",
   "execution_count": null,
   "id": "9a1152ec",
   "metadata": {},
   "outputs": [],
   "source": [
    "# your code here"
   ]
  }
 ],
 "metadata": {
  "kernelspec": {
   "display_name": "Python 3 (ipykernel)",
   "language": "python",
   "name": "python3"
  },
  "language_info": {
   "codemirror_mode": {
    "name": "ipython",
    "version": 3
   },
   "file_extension": ".py",
   "mimetype": "text/x-python",
   "name": "python",
   "nbconvert_exporter": "python",
   "pygments_lexer": "ipython3",
   "version": "3.10.0"
  }
 },
 "nbformat": 4,
 "nbformat_minor": 5
}
