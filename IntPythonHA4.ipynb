{
 "cells": [
  {
   "cell_type": "markdown",
   "id": "aeb8fdae",
   "metadata": {},
   "source": [
    "# HOME ASSIGNMENT 4\n",
    "\n",
    "All the code for this assignmnet should be written here in blank chunks. The assignmnet should be submitted via Dropbox in a folder with your group's number ([201](), [202](), [203](), [204](), [205](), [206]()). File name's format 'LastName_FirstName_HA4.ipynb'. We do not accept any files via e-mail or Telegram.\n",
    "\n",
    "The format of the submission file is .ipynb, all other formats (.py, .pdf, .docx etc) are not accepted; the submission of the wrong format will be graded as zero.\n",
    "\n",
    "**Notice.** If the task has `-N` in its name, you should solve it in `N`otebook (using pen/pencil/etc.).\n",
    "\n",
    "### DEADLINE: April, -th, 23:59 MSC\n",
    "\n",
    "**Late submission policy:** you can submit the assignment after the deadline, but the penalty of **2 points** (out of 10) **per late day** will be applied."
   ]
  },
  {
   "cell_type": "code",
   "execution_count": 1,
   "id": "480ff4b5",
   "metadata": {},
   "outputs": [],
   "source": [
    "import pandas as pd"
   ]
  },
  {
   "cell_type": "markdown",
   "id": "498db882",
   "metadata": {},
   "source": [
    "### Task 1 (0.5)\n",
    "\n",
    "Load file `gapminder.csv`. You need to specify `sep` argument correctly (documentation is [here](https://pandas.pydata.org/docs/reference/api/pandas.read_csv.html)). To find out the appropriate separator you can open the file via Notebook app (Блокнот in Russian) or analogous Mac app.\n",
    "\n",
    "Data contains the following variables:\n",
    "* *country*;\n",
    "* *continent*;\n",
    "* *year*;\n",
    "* *lifeExp* - life expectancy at birth, in years;\n",
    "* *pop* - population;\n",
    "* *gdpPercap* - GDP per capita (US\\$, inflation-adjusted).\n",
    "\n",
    "**Input**\n",
    "\n",
    "No input.\n",
    "\n",
    "**Output**\n",
    "\n",
    "Print the solution of the problem."
   ]
  },
  {
   "cell_type": "code",
   "execution_count": 11,
   "id": "3eb8fa64",
   "metadata": {},
   "outputs": [],
   "source": [
    "# your code here"
   ]
  },
  {
   "cell_type": "markdown",
   "id": "6548817c",
   "metadata": {},
   "source": [
    "### Task 2 (0.5)\n",
    "\n",
    "Answer the following questions:\n",
    "* how many rows and columns are here?\n",
    "* what data types are presented among variables?\n",
    "* how much memory this table holds?\n",
    "\n",
    "**Input**\n",
    "\n",
    "No input.\n",
    "\n",
    "**Output**\n",
    "\n",
    "Print the solution of the problem."
   ]
  },
  {
   "cell_type": "code",
   "execution_count": null,
   "id": "73c1408f",
   "metadata": {},
   "outputs": [],
   "source": [
    "# your code here"
   ]
  },
  {
   "cell_type": "markdown",
   "id": "b32daab8",
   "metadata": {},
   "source": [
    "### Task 3-N (0.5)\n",
    "\n",
    "You have the following samples:\n",
    "\n",
    "1. [16,  30, -92,  45, -41,  76,  92,  94, -23,  46,  57,  26,  -9, 24, -40];\n",
    "2. [-2, 1, 1, 0, -2, 0, -2, -1, -2, 0, -1, 1, -2, 1, -1];\n",
    "3. [0, 0, 0, 0, 0, 1, 0, 1, 0, 0, 0, 100];\n",
    "4. [-2.68, -1.76, -3.39, -2.98, -3.61, -5.3, 0.12, -2.0, -0.23, -2.89, -0.18, -2.27, -0.38, -1.51, -2.88];\n",
    "5. [1, 1, 1, 1].\n",
    "\n",
    "Compute means, medians and standard deviations."
   ]
  },
  {
   "cell_type": "markdown",
   "id": "d722c4a6",
   "metadata": {},
   "source": [
    "### Task 4-N (0.5)\n",
    "\n",
    "You throw a coin. Find the probability that:\n",
    "\n",
    "1. You throw 1 time and get tail or head;\n",
    "2. You throw 10 times and get 5 heads and five tails;\n",
    "3. You throw 10 times and get 10 tails."
   ]
  },
  {
   "cell_type": "markdown",
   "id": "f8c9edc3",
   "metadata": {},
   "source": [
    "## IF YOU PROCEED TASKS 1-4, YOU ALREADY HAVE 2/10"
   ]
  },
  {
   "cell_type": "markdown",
   "id": "02d555a8",
   "metadata": {},
   "source": [
    "### Task 5 (1)\n",
    "\n",
    "Print last 30 rows of columns `country`, `continent` and `year` (*0.25*). Additionally, do it using 3 other **different** ways (*0.25* per each additional method).\n",
    "\n",
    "**Input**\n",
    "\n",
    "No input.\n",
    "\n",
    "**Output**\n",
    "\n",
    "Print the solution of the problem."
   ]
  },
  {
   "cell_type": "code",
   "execution_count": null,
   "id": "1f19fdb9",
   "metadata": {},
   "outputs": [],
   "source": [
    "# your code here"
   ]
  },
  {
   "cell_type": "markdown",
   "id": "1322b262",
   "metadata": {},
   "source": [
    "### Task 6-N (1)\n",
    "\n",
    "You throw the coin 4 times. What is probability to get the tail exactly 2 times?"
   ]
  },
  {
   "cell_type": "markdown",
   "id": "870d16ca",
   "metadata": {},
   "source": [
    "## IF YOU PROCEED TASKS 1-6, YOU ALREADY HAVE 4/10"
   ]
  },
  {
   "cell_type": "markdown",
   "id": "678eb00b",
   "metadata": {},
   "source": [
    "### Task 7 (2)\n",
    "\n",
    "Answer the following questions:\n",
    "* USA occupies rows from 1608 to 1619 (including). Find mean `lifeExp`, `pop` and `gdpPercap` for USA;\n",
    "* what historical period (in general) this table occupies?\n",
    "* find median `lifeExp` for 50 rows with the highest `gdpPercap`;\n",
    "* find standard deviation (`.std()` method) of `gdpPercap` for 30 rows with the lowest `pop`.\n",
    "\n",
    "**Input**\n",
    "\n",
    "No input.\n",
    "\n",
    "**Output**\n",
    "\n",
    "Print the solution of the problem."
   ]
  },
  {
   "cell_type": "code",
   "execution_count": 14,
   "id": "e7ee0303",
   "metadata": {},
   "outputs": [],
   "source": [
    "# your code here"
   ]
  },
  {
   "cell_type": "markdown",
   "id": "a759e765",
   "metadata": {},
   "source": [
    "### Task 8-N (2)\n",
    "\n",
    "You throw the coin 4 times. What is probability to get exactly 1 head or exactly 3 tails?"
   ]
  },
  {
   "cell_type": "markdown",
   "id": "9747b971",
   "metadata": {},
   "source": [
    "## IF YOU PROCEED TASKS 1-8, YOU ALREADY HAVE 8/10"
   ]
  },
  {
   "cell_type": "markdown",
   "id": "30a6dfcd",
   "metadata": {},
   "source": [
    "### Task 9 (4)\n",
    "\n",
    "`pandas` allows indexing using boolean arrays. Answer the following questions:\n",
    "* print all rows with year 1972;\n",
    "* find the most populated country in this year;\n",
    "* how many median (across time) Afghanistans should I take to get USA `gdpPercap` in 1997?\n",
    "* what is the [correlation](https://en.wikipedia.org/wiki/Correlation) between `gdpPercap` and `lifeExp`?\n",
    " \n",
    "**Input**\n",
    "\n",
    "No input.\n",
    "\n",
    "**Output**\n",
    "\n",
    "Print the solution of the problem."
   ]
  },
  {
   "cell_type": "code",
   "execution_count": null,
   "id": "aa0227fe",
   "metadata": {},
   "outputs": [],
   "source": [
    "# your code here"
   ]
  }
 ],
 "metadata": {
  "kernelspec": {
   "display_name": "Python 3 (ipykernel)",
   "language": "python",
   "name": "python3"
  },
  "language_info": {
   "codemirror_mode": {
    "name": "ipython",
    "version": 3
   },
   "file_extension": ".py",
   "mimetype": "text/x-python",
   "name": "python",
   "nbconvert_exporter": "python",
   "pygments_lexer": "ipython3",
   "version": "3.10.0"
  }
 },
 "nbformat": 4,
 "nbformat_minor": 5
}
