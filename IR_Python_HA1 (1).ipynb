{
  "nbformat": 4,
  "nbformat_minor": 0,
  "metadata": {
    "colab": {
      "name": "IR-Python-HA1.ipynb",
      "provenance": [],
      "collapsed_sections": []
    },
    "kernelspec": {
      "name": "python3",
      "display_name": "Python 3"
    },
    "language_info": {
      "name": "python"
    }
  },
  "cells": [
    {
      "cell_type": "markdown",
      "source": [
        "# HOME ASSIGNMENT 1\n",
        "\n",
        "All the code for this assignmnet should be written here in blank chunks. The assignmnet should be submitted via Dropbox in a [folder](https://www.dropbox.com/home/DA%20in%20Python%3A%20HA1) with your group's number. File name's format 'LastName_FirstName_HA1.ipynb'. We do not accept any files via e-mail or Telegram.\n",
        "\n",
        "The format of the submission file is .ipynb, all other formats (.py, .pdf, .docx etc) are not accepted; the submission of the wrong format will be graded as zero. \n",
        "\n",
        "### DEADLINE: January, 27th, 23:59 MSC\n",
        "\n",
        "**Late submission policy:** you can submit the assignment after the deadline, but the penalty of **2 points** (out of 10) **per late day** will be applied."
      ],
      "metadata": {
        "id": "H6HO2m0zxS_2"
      }
    },
    {
      "cell_type": "markdown",
      "source": [
        "### Task 1\n",
        "\n",
        "Write a program that recieves as an input the lengths of two legs in a right triangle and prints its area. Each number is written on a separate line."
      ],
      "metadata": {
        "id": "jwMr0i8Axi8h"
      }
    },
    {
      "cell_type": "code",
      "source": [
        "# your code here"
      ],
      "metadata": {
        "id": "gPvFMe3Vxg5l"
      },
      "execution_count": null,
      "outputs": []
    },
    {
      "cell_type": "markdown",
      "source": [
        "### Task 2\n",
        "\n",
        "Write a program that has as input hours, minutes, and seconds and prints the time in the format:\n",
        "\n",
        "\n",
        "```\n",
        "Current time is: *HH-MM-SS*\n",
        "\n"
      ],
      "metadata": {
        "id": "8tfWaEia3gjQ"
      }
    },
    {
      "cell_type": "code",
      "source": [
        "# your code here"
      ],
      "metadata": {
        "id": "ZjrXJhbP5RxI"
      },
      "execution_count": null,
      "outputs": []
    },
    {
      "cell_type": "markdown",
      "source": [
        "Task 3 \n",
        "\n",
        "Check whether a square root of 225,000 divided by the rounded division of 8100 to 150 is equal is equal to a cube of 3."
      ],
      "metadata": {
        "id": "i6vOFNcT5Tsl"
      }
    },
    {
      "cell_type": "code",
      "source": [
        "# your code here"
      ],
      "metadata": {
        "id": "jzAgfWKH6v2n"
      },
      "execution_count": null,
      "outputs": []
    },
    {
      "cell_type": "markdown",
      "source": [
        "#### Task 4\n",
        "\n",
        "Create four variables, receiving name, year, month, and day of birth. Disaplay this data in the following format:\n",
        "```\n",
        "My name is *name*.\n",
        "My birth date is *DD.MM.YYYY*\n",
        "```\n",
        "Note, the result should be printed in two separate rows. \n"
      ],
      "metadata": {
        "id": "tCtCpsWMS2Ut"
      }
    },
    {
      "cell_type": "code",
      "source": [
        "# your code here"
      ],
      "metadata": {
        "id": "bsyyPZu8T40Y"
      },
      "execution_count": null,
      "outputs": []
    },
    {
      "cell_type": "markdown",
      "source": [
        "Task 5\n",
        "\n",
        "Calculate the following:\n",
        "\n",
        "$\\sqrt{\\frac{1995^{\\sqrt{\\frac{1}{7}}}}{354000^\\frac{25}{151}}}(8! - \\sum_{i=12}^{17}i^2) $"
      ],
      "metadata": {
        "id": "UOtkdQZ5UAqT"
      }
    },
    {
      "cell_type": "code",
      "source": [
        "# your code here"
      ],
      "metadata": {
        "id": "gVIPak6nT_BZ"
      },
      "execution_count": null,
      "outputs": []
    },
    {
      "cell_type": "markdown",
      "source": [
        "#### Task 6\n",
        "\n",
        "Volume of a sphere is $\\frac{4}{3}\\pi r^3$. Write a program that receives the value of sphere's radius as an input and print its volume. The rounding of $\\pi$ is arbitrary. "
      ],
      "metadata": {
        "id": "m2a045H3XAS6"
      }
    },
    {
      "cell_type": "code",
      "source": [
        "#### your code here"
      ],
      "metadata": {
        "id": "rhHzolndWHcr"
      },
      "execution_count": null,
      "outputs": []
    },
    {
      "cell_type": "markdown",
      "source": [
        "#### Task 7\n",
        "\n",
        "Write a program that receives a number of countries in each continent **separately** (number of inputs is equal to the number of continents), and using this data the output must provide the overall number of countries."
      ],
      "metadata": {
        "id": "EQCM2Ow2YBM4"
      }
    },
    {
      "cell_type": "code",
      "source": [
        "#### your code here"
      ],
      "metadata": {
        "id": "RTd74oNBYhoQ"
      },
      "execution_count": null,
      "outputs": []
    },
    {
      "cell_type": "markdown",
      "source": [
        "### Task 8\n",
        "\n",
        "Sometimes even a simple and funny task could be a tricky one in Python! Write a program that displays n cats for a given number n from 1 to 9. The image of one cat is 10 × 3 characters long. There is also an empty column of spaces between two adjacent cats. It is allowed to display an empty column after the last cat. You can copy the cat from the example below.\n",
        "\n",
        "```\n",
        "### Test 1\n",
        "Input:\n",
        "1\n",
        "\n",
        "Output:\n",
        "/\\___/\\    \n",
        "(=^o^=)    \n",
        "(\") (\")__/ \n",
        "\n",
        "\n",
        "### Test 2\n",
        "Input:\n",
        "3\n",
        "\n",
        "Output:\n",
        "/\\___/\\    /\\___/\\    /\\___/\\    \n",
        "(=^o^=)    (=^o^=)    (=^o^=)    \n",
        "(\") (\")__/ (\") (\")__/ (\") (\")__/\n",
        "```\n",
        "\n"
      ],
      "metadata": {
        "id": "ffz_G6RRYjkW"
      }
    },
    {
      "cell_type": "code",
      "source": [
        "#### your code here"
      ],
      "metadata": {
        "id": "LmM-_phXaa24"
      },
      "execution_count": null,
      "outputs": []
    },
    {
      "cell_type": "markdown",
      "source": [
        "#### Task 9 \n",
        "Write a program that reads degrees in Celsius (°C) and converts them to degrees in Fahrenheit (°F). The result should be printed on the screen as shown in the example below."
      ],
      "metadata": {
        "id": "IOdBEV0OYlhK"
      }
    },
    {
      "cell_type": "code",
      "source": [
        "#### your code here"
      ],
      "metadata": {
        "id": "CD8gLzZeaYzI"
      },
      "execution_count": null,
      "outputs": []
    },
    {
      "cell_type": "markdown",
      "source": [
        "#### Task 10\n",
        "\n",
        "Write a program that calculates the grade for that course (see, the cyllabus of our course). "
      ],
      "metadata": {
        "id": "_obadwegYslU"
      }
    },
    {
      "cell_type": "code",
      "source": [
        "#### your code here"
      ],
      "metadata": {
        "id": "1Ullq7dDaYHV"
      },
      "execution_count": null,
      "outputs": []
    }
  ]
}