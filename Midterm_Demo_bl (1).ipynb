{
 "cells": [
  {
   "cell_type": "markdown",
   "metadata": {
    "id": "ATsWVqm3k6xk"
   },
   "source": [
    "# Midterm Demo Version\n",
    "\n",
    "\n",
    "You have **1 hour and 30 minutes** to complete the assignment. After that, you will have 10 minutes to upload the .ipynb solution in the folder with your group's number (Dropbox links will be here). \n",
    "\n",
    "The midterm is a partly open book. You can use the course's [Github repository](https://github.com/georgytarasenko/Data-Analysis-in-Python-LSE-UoL-BA-IR-Spring-2022-), [official Python documentation](https://docs.python.org/3/) as well as your printed materials. The use of other web sources as well as devices (except your computer) is strictly prohibited. We remind you about the principles of academic integrity (e.g. plagiarism). The violation of one of the rules above allows grading the submission as zero.\n",
    "\n",
    "\n",
    "## Task 1 (1 point):\n",
    "\n",
    "\n",
    "Two cells of a chessboard are given. If they are painted in the same color, then print the word ```YES```, and if they are painted in different colors, then print ```NO```. \n",
    "\n",
    "\n",
    "**Input**\n",
    "\n",
    "The program receives as input four numbers from 1 to 8 each, specifying the column number and row number, first for the first cell, then for the second cell.\n",
    "\n",
    "**Output**\n",
    "\n",
    "Print solution of the problem.\n",
    "\n",
    "**Example**\n",
    "```\n",
    "### Test 1\n",
    "Input:\n",
    "4\n",
    "2\n",
    "3\n",
    "1\n",
    "\n",
    "Output:\n",
    "YES\n",
    "\n",
    "### Test 1\n",
    "Input:\n",
    "3\n",
    "1\n",
    "3\n",
    "2\n",
    "\n",
    "Output:\n",
    "NO\n",
    "```"
   ]
  },
  {
   "cell_type": "code",
   "execution_count": null,
   "metadata": {},
   "outputs": [],
   "source": [
    "x1 = int(input())\n",
    "y1 = int(input())\n",
    "x2 = int(input())\n",
    "y2 = int(input())\n",
    "if (x1 + y1 + x2 + y2) % 2 == 0:\n",
    "    print('YES')\n",
    "else:\n",
    "    print('NO')\n"
   ]
  },
  {
   "cell_type": "markdown",
   "metadata": {
    "id": "eairAYTRk6xn"
   },
   "source": [
    "# Task 2 (1.5 points)\n",
    "\n",
    "Compute the sum of cubes of the numbers not exceeding a given natural number ```n```: $1^3+2^3+3^3+...+n^3$\n",
    "\n",
    "**Input**\n",
    "\n",
    "One natural number.\n",
    "\n",
    "**Output**\n",
    "\n",
    "Print solution of the problem.\n",
    "\n",
    "**Example**\n",
    "\n",
    "```\n",
    "### Test 1\n",
    "Input:\n",
    "3\n",
    "\n",
    "Output:\n",
    "\n",
    "36\n",
    "\n",
    "\n",
    "### Test 2\n",
    "Input:\n",
    "2\n",
    "\n",
    "Output:\n",
    "9\n",
    "\n",
    "\n",
    "```\n"
   ]
  },
  {
   "cell_type": "code",
   "execution_count": 1,
   "metadata": {
    "id": "mo5mVzxGk6xo"
   },
   "outputs": [
    {
     "name": "stdout",
     "output_type": "stream",
     "text": [
      "10\n",
      "3025\n"
     ]
    }
   ],
   "source": [
    "# your code here\n",
    "  \n",
    "n = int(input())\n",
    "summ  = 0\n",
    "\n",
    "for element in range(1, n+1):\n",
    "    summ += element**3\n",
    "    \n",
    "print(summ)\n",
    "    \n",
    "    \n",
    "\n"
   ]
  },
  {
   "cell_type": "markdown",
   "metadata": {
    "id": "xLyYBQmek6xo"
   },
   "source": [
    "# Task 3 (1.5 points)\n",
    "\n",
    "On the first day, the athlete ran `x` kilometers, and then every day he increased the distance by 10% from the previous value. Given the number `y`, determine the number of the day on which the athlete's run will be at least `y` kilometers.\n",
    "\n",
    "$y = x\\times 1.1^n$\n",
    "\n",
    "Do not use for loop when solving this problem.\n",
    "\n",
    "**Input**\n",
    "\n",
    "The program receives real numbers x and y as input\n",
    "\n",
    "**Output**\n",
    "\n",
    "Print the solution of the problem.\n",
    "\n",
    "**Example**\n",
    "\n",
    "```\n",
    "### Test 1\n",
    "Input:\n",
    "10\n",
    "12\n",
    "\n",
    "Output:\n",
    "3\n",
    "\n",
    "### Test 2\n",
    "Input:\n",
    "5\n",
    "6\n",
    "\n",
    "Output:\n",
    "3\n",
    "\n",
    "```"
   ]
  },
  {
   "cell_type": "code",
   "execution_count": 2,
   "metadata": {
    "id": "bqM3CbUZk6xp"
   },
   "outputs": [
    {
     "name": "stdout",
     "output_type": "stream",
     "text": [
      "10\n",
      "15\n",
      "6\n"
     ]
    }
   ],
   "source": [
    "# your code here\n",
    "\n",
    "x = int(input())\n",
    "y = int(input())\n",
    "day = 1\n",
    "\n",
    "while x < y:\n",
    "    x *= 1.1\n",
    "    day += 1\n",
    "\n",
    "print(day)\n",
    "\n",
    "\n"
   ]
  },
  {
   "cell_type": "markdown",
   "metadata": {
    "id": "FfFAeHlOk6xp"
   },
   "source": [
    "# Task 4 (2 points)\n",
    "\n",
    "A string is given. If the letter ```f``` occurs only once in this string, print its index. If it occurs two or more times, output the index of its first and last occurrence. If the letter ```f``` does not occur in the given line, do not print anything.\n",
    "\n",
    "Do not use loops when solving this problem.\n",
    "\n",
    "**Input**\n",
    "\n",
    "A string.\n",
    "\n",
    "\n",
    "**Output**\n",
    "\n",
    "Print the solution of the problem.\n",
    "\n",
    "**Example**\n",
    "\n",
    "```\n",
    "### Test 1\n",
    "Input:\n",
    "father\n",
    "\n",
    "Output:\n",
    "0\n",
    "\n",
    "### Test 2\n",
    "Input:\n",
    "falafel\n",
    "\n",
    "Output:\n",
    "0 4\n",
    "\n",
    "```"
   ]
  },
  {
   "cell_type": "raw",
   "metadata": {
    "id": "FCiTDAYNk6xq"
   },
   "source": [
    "# your code here\n",
    "\n",
    "3 cond:\n",
    "\n",
    "    cond 1: 1 time => one index\n",
    "    cond 2: 1+ times => first and last occ undex \n",
    "    cond 3: does not occur   => nothing  \n",
    "    \n"
   ]
  },
  {
   "cell_type": "code",
   "execution_count": 3,
   "metadata": {},
   "outputs": [
    {
     "name": "stdout",
     "output_type": "stream",
     "text": [
      "fifty five\n",
      "0 6\n"
     ]
    }
   ],
   "source": [
    "s = input()\n",
    "\n",
    "if s.count('f') == 1:\n",
    "    print(s.find('f'))\n",
    "elif s.count('f') > 1:\n",
    "    print(s.find('f'), s.rfind('f'))"
   ]
  },
  {
   "cell_type": "markdown",
   "metadata": {
    "id": "kQRql4qok6xq"
   },
   "source": [
    "## Task 5 (2 points)\n",
    "\n",
    "A list sorted in non-decreasing order of the elements in it is given. Determine how many different elements it has.\n",
    "\n",
    "**Input**\n",
    "\n",
    "A list of numbers.\n",
    "\n",
    "**Output**\n",
    "\n",
    "Print the solution of the problem.\n",
    "\n",
    "**Example**\n",
    "\n",
    "```\n",
    "### Test 1\n",
    "Input:\n",
    "1 2 3 4 5 \n",
    "\n",
    "Output:\n",
    "5\n",
    "\n",
    "### Test 2\n",
    "Input:\n",
    "2 2 3 3\n",
    "\n",
    "Output:\n",
    "2\n",
    "\n",
    "```"
   ]
  },
  {
   "cell_type": "code",
   "execution_count": 6,
   "metadata": {
    "id": "xcYnNsfhk6xr"
   },
   "outputs": [
    {
     "name": "stdout",
     "output_type": "stream",
     "text": [
      "1 2 3 4 5\n",
      "5\n"
     ]
    }
   ],
   "source": [
    "# your code here\n",
    "a = [int(i) for i in input().split()]\n",
    "unique_el = 1\n",
    "for element in range(0, len(a)-1):\n",
    "    if a[element] != a[element+1]:\n",
    "        unique_el +=1\n",
    "print(unique_el)"
   ]
  },
  {
   "cell_type": "markdown",
   "metadata": {
    "id": "SiDNAX8Ck6xr"
   },
   "source": [
    "## Task 6 (2 points)\n",
    "\n",
    "The text is given: the number of lines is given in the first line, then the lines themselves follow. Find the most common word in this text. If there are several such words, print the one that is less in lexicographic order.\n",
    "\n",
    "\n",
    "**Input**\n",
    "\n",
    "Number of rows - integer numbers. Then the text is given iteratively.\n",
    "\n",
    "**Output**\n",
    "\n",
    "Print the solution of the problem.\n",
    "\n",
    "**Example**\n",
    "\n",
    "```\n",
    "### Test 1\n",
    "Input:\n",
    "2\n",
    "apple orange\n",
    "orange strawberry\n",
    "\n",
    "Output:\n",
    "orange\n",
    "\n",
    "```"
   ]
  },
  {
   "cell_type": "code",
   "execution_count": null,
   "metadata": {
    "id": "_h5ktAJVk6xs"
   },
   "outputs": [],
   "source": [
    "# your code here\n",
    "\n",
    "\n",
    "\n",
    "\n",
    "\n"
   ]
  },
  {
   "cell_type": "markdown",
   "metadata": {
    "id": "ouGmIWWI38NU"
   },
   "source": [
    "## Task 7 (4 points)\n",
    "\n",
    "A list of numbers is given. Count how many pairs of elements in it are equal to each other. It is assumed that any two elements that are equal to each other form one pair, which must be calculated.\n",
    "\n",
    "\n",
    "**Input**\n",
    "\n",
    "List of intger numbers.\n",
    "\n",
    "**Output**\n",
    "\n",
    "Print the solution of the problem.\n",
    "\n",
    "**Example**\n",
    "\n",
    "```\n",
    "### Test 1\n",
    "Input:\n",
    "1 1 2 2 3 3\n",
    "\n",
    "Output:\n",
    "3\n",
    "```"
   ]
  },
  {
   "cell_type": "code",
   "execution_count": null,
   "metadata": {
    "id": "4gfRG6Qi8pZt"
   },
   "outputs": [],
   "source": [
    "#your code here\n",
    "\n",
    "\n",
    "\n",
    "\n",
    "\n",
    "\n",
    "\n"
   ]
  }
 ],
 "metadata": {
  "colab": {
   "name": "Midterm_Demo_bl.ipynb",
   "provenance": []
  },
  "kernelspec": {
   "display_name": "Python 3",
   "language": "python",
   "name": "python3"
  },
  "language_info": {
   "codemirror_mode": {
    "name": "ipython",
    "version": 3
   },
   "file_extension": ".py",
   "mimetype": "text/x-python",
   "name": "python",
   "nbconvert_exporter": "python",
   "pygments_lexer": "ipython3",
   "version": "3.8.3"
  }
 },
 "nbformat": 4,
 "nbformat_minor": 1
}
