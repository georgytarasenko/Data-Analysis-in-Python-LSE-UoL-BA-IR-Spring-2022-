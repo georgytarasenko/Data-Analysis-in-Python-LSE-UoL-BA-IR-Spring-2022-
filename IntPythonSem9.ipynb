{
 "cells": [
  {
   "cell_type": "markdown",
   "metadata": {},
   "source": [
    "## Data Analysis in Python\n",
    "_Author: Georgy Tarasenko_"
   ]
  },
  {
   "cell_type": "markdown",
   "metadata": {},
   "source": [
    "## Seminar 9"
   ]
  },
  {
   "cell_type": "markdown",
   "metadata": {},
   "source": [
    "```pandas``` is a Python library containing a set of functions and specialized data structures that have been designed to help Python programmers to perform data analysis tasks in a structured way (all documentation can be find [here](https://pandas.pydata.org/)).\n",
    "\n",
    "Most of the things that `pandas` can do can be obtained with basic Python, but the collected set of pandas functions and data structure makes the data analysis tasks more consistent in terms of syntax and therefore aids readabilty. In addition, `pandas` framework is specifically constructed to handle big data.\n",
    "\n",
    "As pandas is not a built-in library, we have to install it:"
   ]
  },
  {
   "cell_type": "code",
   "execution_count": null,
   "metadata": {},
   "outputs": [],
   "source": [
    "!pip install pandas"
   ]
  },
  {
   "cell_type": "markdown",
   "metadata": {},
   "source": [
    "Then, to access its tools we have to import this library, we can use `pd` as a shorther from of `pandas` for the purpose of simplicity"
   ]
  },
  {
   "cell_type": "code",
   "execution_count": 1,
   "metadata": {},
   "outputs": [],
   "source": [
    "import pandas as pd"
   ]
  },
  {
   "cell_type": "markdown",
   "metadata": {},
   "source": [
    "#### Pandas series: core of pandas\n",
    "Basic data type in pandas package is `pd.Series`: *mutable* and *ordered*. You can create `pd.Series` using `pd.Series()` function:"
   ]
  },
  {
   "cell_type": "code",
   "execution_count": null,
   "metadata": {},
   "outputs": [],
   "source": [
    "my_series = pd.Series([5, 2, 9])\n",
    "print(my_series) # indices and values"
   ]
  },
  {
   "cell_type": "code",
   "execution_count": null,
   "metadata": {},
   "outputs": [],
   "source": [
    "type(my_series)"
   ]
  },
  {
   "cell_type": "markdown",
   "metadata": {},
   "source": [
    "`pd.Series` is able to store only ONE data type (e. g. only `int`, `float` or `str`). It can be created from any sequence:"
   ]
  },
  {
   "cell_type": "code",
   "execution_count": null,
   "metadata": {},
   "outputs": [],
   "source": [
    "from_list = pd.Series([5, 2, 9])\n",
    "from_tuple = pd.Series((1, 2, 3))"
   ]
  },
  {
   "cell_type": "code",
   "execution_count": null,
   "metadata": {},
   "outputs": [],
   "source": [
    "print(from_tuple)"
   ]
  },
  {
   "cell_type": "code",
   "execution_count": null,
   "metadata": {},
   "outputs": [],
   "source": [
    "from_list = pd.Series([1, 2, '3'])\n",
    "print(from_list)"
   ]
  },
  {
   "cell_type": "markdown",
   "metadata": {},
   "source": [
    "You can manually specify indices for your `pd.Series`:"
   ]
  },
  {
   "cell_type": "code",
   "execution_count": null,
   "metadata": {},
   "outputs": [],
   "source": [
    "pd.Series([5, 2, 9], index=[2, 3, 1]) # not necessarily begin with 0 or even be ordered (mix of list and dict indices)..."
   ]
  },
  {
   "cell_type": "code",
   "execution_count": null,
   "metadata": {},
   "outputs": [],
   "source": [
    "s = pd.Series([5, 2, 9], index=[2, 3, 1])\n",
    "s[0:2]"
   ]
  },
  {
   "cell_type": "code",
   "execution_count": null,
   "metadata": {},
   "outputs": [],
   "source": [
    "pd.Series([5, 2, 9], index=['a', 'b', 'c']) # ...even strings"
   ]
  },
  {
   "cell_type": "code",
   "execution_count": 2,
   "metadata": {},
   "outputs": [
    {
     "name": "stdout",
     "output_type": "stream",
     "text": [
      "a    1\n",
      "b    2\n",
      "c    3\n",
      "dtype: int64\n"
     ]
    }
   ],
   "source": [
    "from_dict = pd.Series({'a': 1, 'b': 2, 'c': 3}) # keys become indices\n",
    "print(from_dict)"
   ]
  },
  {
   "cell_type": "markdown",
   "metadata": {},
   "source": [
    "**Notice.** `pandas` allows non-unique indices, BE CAREFUL."
   ]
  },
  {
   "cell_type": "code",
   "execution_count": null,
   "metadata": {},
   "outputs": [],
   "source": [
    "pd.Series([5, 2, 9], index=['a', 'a', 'a'])"
   ]
  },
  {
   "cell_type": "code",
   "execution_count": null,
   "metadata": {},
   "outputs": [],
   "source": [
    "tuple1 = (4, 1, 7)\n",
    "indices = ['a', 'b', 'c']\n",
    "\n",
    "pd.Series(tuple1, index=indices)"
   ]
  },
  {
   "cell_type": "code",
   "execution_count": null,
   "metadata": {},
   "outputs": [],
   "source": [
    "check = pd.Series([5, 1, 0, 3, 4], index=[6, 1, 0, 4, 2])"
   ]
  },
  {
   "cell_type": "code",
   "execution_count": null,
   "metadata": {},
   "outputs": [],
   "source": [
    "check[2:4]"
   ]
  },
  {
   "cell_type": "markdown",
   "metadata": {},
   "source": [
    "#### DataFrame"
   ]
  },
  {
   "cell_type": "markdown",
   "metadata": {},
   "source": [
    "Basic type of data in pandas is `DataFrame`, a table conisting of rows and columns. Each column is `pd.Series`."
   ]
  },
  {
   "cell_type": "markdown",
   "metadata": {},
   "source": [
    "We can create our own dataframe by applying `DataFrame()` function to a dictionary where a key is a column name while value is a sequence of objects. Consequently, the length of each sequence should be the same. "
   ]
  },
  {
   "cell_type": "markdown",
   "metadata": {},
   "source": [
    "#### Creating our own dataframe\n",
    "\n",
    "Let's create a dataframe that contains information on the product reviews for two users. We will apply `DataFrame()` function to a dictionary. We use `index` argument to specify the row names."
   ]
  },
  {
   "cell_type": "code",
   "execution_count": null,
   "metadata": {},
   "outputs": [],
   "source": [
    "reviews_dict = {'Bob': ['I liked it.', 'It was awful.'], 'Sue': ['Pretty good.', 'Bland.']}\n",
    "\n",
    "reviews = pd.DataFrame({'Bob': ['I liked it.', 'It was awful.'], \n",
    "              'Sue': ['Pretty good.', 'Bland.']},\n",
    "             index=['Product A', 'Product B'])\n",
    "reviews"
   ]
  },
  {
   "cell_type": "code",
   "execution_count": 3,
   "metadata": {},
   "outputs": [
    {
     "data": {
      "text/html": [
       "<div>\n",
       "<style scoped>\n",
       "    .dataframe tbody tr th:only-of-type {\n",
       "        vertical-align: middle;\n",
       "    }\n",
       "\n",
       "    .dataframe tbody tr th {\n",
       "        vertical-align: top;\n",
       "    }\n",
       "\n",
       "    .dataframe thead th {\n",
       "        text-align: right;\n",
       "    }\n",
       "</style>\n",
       "<table border=\"1\" class=\"dataframe\">\n",
       "  <thead>\n",
       "    <tr style=\"text-align: right;\">\n",
       "      <th></th>\n",
       "      <th>names</th>\n",
       "      <th>age</th>\n",
       "      <th>spendings</th>\n",
       "    </tr>\n",
       "  </thead>\n",
       "  <tbody>\n",
       "    <tr>\n",
       "      <th>0</th>\n",
       "      <td>Ioann</td>\n",
       "      <td>22</td>\n",
       "      <td>2000</td>\n",
       "    </tr>\n",
       "    <tr>\n",
       "      <th>1</th>\n",
       "      <td>Diana</td>\n",
       "      <td>20</td>\n",
       "      <td>1500</td>\n",
       "    </tr>\n",
       "    <tr>\n",
       "      <th>2</th>\n",
       "      <td>Lisa</td>\n",
       "      <td>19</td>\n",
       "      <td>1000</td>\n",
       "    </tr>\n",
       "    <tr>\n",
       "      <th>3</th>\n",
       "      <td>Nastya</td>\n",
       "      <td>43</td>\n",
       "      <td>20000</td>\n",
       "    </tr>\n",
       "    <tr>\n",
       "      <th>4</th>\n",
       "      <td>Sofia</td>\n",
       "      <td>78</td>\n",
       "      <td>500</td>\n",
       "    </tr>\n",
       "    <tr>\n",
       "      <th>5</th>\n",
       "      <td>Kate</td>\n",
       "      <td>26</td>\n",
       "      <td>4000</td>\n",
       "    </tr>\n",
       "    <tr>\n",
       "      <th>6</th>\n",
       "      <td>Alex</td>\n",
       "      <td>50</td>\n",
       "      <td>15000</td>\n",
       "    </tr>\n",
       "  </tbody>\n",
       "</table>\n",
       "</div>"
      ],
      "text/plain": [
       "    names  age  spendings\n",
       "0   Ioann   22       2000\n",
       "1   Diana   20       1500\n",
       "2    Lisa   19       1000\n",
       "3  Nastya   43      20000\n",
       "4   Sofia   78        500\n",
       "5    Kate   26       4000\n",
       "6    Alex   50      15000"
      ]
     },
     "execution_count": 3,
     "metadata": {},
     "output_type": "execute_result"
    }
   ],
   "source": [
    "spending_dict = {\n",
    "    'names': ['Ioann', 'Diana', 'Lisa', 'Nastya', 'Sofia', 'Kate', 'Alex'],\n",
    "    'age': [22, 20, 19, 43, 78, 26, 50],\n",
    "    'spendings': [2000, 1500, 1000, 20000, 500, 4000, 15000]\n",
    "}\n",
    "\n",
    "spending_df = pd.DataFrame(spending_dict)\n",
    "spending_df"
   ]
  },
  {
   "cell_type": "markdown",
   "metadata": {},
   "source": [
    "Yet, in real life tasks we rather deal with external data that was previously collected by us - *primary data* - or by other people (researchers, institutions) - *secondary data*."
   ]
  },
  {
   "cell_type": "markdown",
   "metadata": {},
   "source": [
    "#### Reading data frames"
   ]
  },
  {
   "cell_type": "markdown",
   "metadata": {},
   "source": [
    "`os` module in Python allows to access information on your computer's operational system (e.g. uploading files):"
   ]
  },
  {
   "cell_type": "markdown",
   "metadata": {},
   "source": [
    "- method `os.chdir(your_path)` sets your current working directory;\n",
    "- method `os.getcwd()` displays the working directory that you have for now."
   ]
  },
  {
   "cell_type": "code",
   "execution_count": null,
   "metadata": {},
   "outputs": [],
   "source": [
    "import os\n",
    "os.chdir('/Users/georgetarasenko/Desktop')\n",
    "os.getcwd()"
   ]
  },
  {
   "cell_type": "markdown",
   "metadata": {},
   "source": [
    "Now let's try to import our first dataframe. One of the most widespread extensions is `.csv` - comma separated value - a file where each table cell value is separated by a symbol such as comma or point with comma or separated via tabulation."
   ]
  },
  {
   "cell_type": "markdown",
   "metadata": {},
   "source": [
    "If we want to import `.csv` extension data we apply `pd.read_csv()` method inside which we specify the directory of the file (or just its name is the directory was set previously). Besides that we can specify the separator via `sep` argument, `index_col = 0` allows us to make a first column from a dataset to be row names."
   ]
  },
  {
   "cell_type": "markdown",
   "metadata": {},
   "source": [
    "We will working with the latest issue of the [**World Bank statistics**](https://data.worldbank.org/) and [**Polity IV project**](https://www.systemicpeace.org/polity/polity4.htm)."
   ]
  },
  {
   "cell_type": "code",
   "execution_count": 5,
   "metadata": {},
   "outputs": [
    {
     "data": {
      "text/html": [
       "<div>\n",
       "<style scoped>\n",
       "    .dataframe tbody tr th:only-of-type {\n",
       "        vertical-align: middle;\n",
       "    }\n",
       "\n",
       "    .dataframe tbody tr th {\n",
       "        vertical-align: top;\n",
       "    }\n",
       "\n",
       "    .dataframe thead th {\n",
       "        text-align: right;\n",
       "    }\n",
       "</style>\n",
       "<table border=\"1\" class=\"dataframe\">\n",
       "  <thead>\n",
       "    <tr style=\"text-align: right;\">\n",
       "      <th></th>\n",
       "      <th>cname</th>\n",
       "      <th>ccodealp</th>\n",
       "      <th>ht_region</th>\n",
       "      <th>wdi_gdpcapcur</th>\n",
       "      <th>wdi_pop</th>\n",
       "      <th>p_polity2</th>\n",
       "      <th>wdi_oilrent</th>\n",
       "    </tr>\n",
       "  </thead>\n",
       "  <tbody>\n",
       "    <tr>\n",
       "      <th>1</th>\n",
       "      <td>Afghanistan</td>\n",
       "      <td>AFG</td>\n",
       "      <td>8</td>\n",
       "      <td>519.884766</td>\n",
       "      <td>36296400.0</td>\n",
       "      <td>-1.0</td>\n",
       "      <td>0.001213</td>\n",
       "    </tr>\n",
       "    <tr>\n",
       "      <th>2</th>\n",
       "      <td>Albania</td>\n",
       "      <td>ALB</td>\n",
       "      <td>1</td>\n",
       "      <td>4531.020996</td>\n",
       "      <td>2873457.0</td>\n",
       "      <td>9.0</td>\n",
       "      <td>1.367729</td>\n",
       "    </tr>\n",
       "    <tr>\n",
       "      <th>3</th>\n",
       "      <td>Algeria</td>\n",
       "      <td>DZA</td>\n",
       "      <td>3</td>\n",
       "      <td>4111.293945</td>\n",
       "      <td>41389200.0</td>\n",
       "      <td>2.0</td>\n",
       "      <td>12.361850</td>\n",
       "    </tr>\n",
       "    <tr>\n",
       "      <th>4</th>\n",
       "      <td>Andorra</td>\n",
       "      <td>AND</td>\n",
       "      <td>5</td>\n",
       "      <td>38962.878906</td>\n",
       "      <td>77001.0</td>\n",
       "      <td>NaN</td>\n",
       "      <td>NaN</td>\n",
       "    </tr>\n",
       "    <tr>\n",
       "      <th>5</th>\n",
       "      <td>Angola</td>\n",
       "      <td>AGO</td>\n",
       "      <td>4</td>\n",
       "      <td>4095.812988</td>\n",
       "      <td>29816748.0</td>\n",
       "      <td>-2.0</td>\n",
       "      <td>15.443859</td>\n",
       "    </tr>\n",
       "    <tr>\n",
       "      <th>...</th>\n",
       "      <td>...</td>\n",
       "      <td>...</td>\n",
       "      <td>...</td>\n",
       "      <td>...</td>\n",
       "      <td>...</td>\n",
       "      <td>...</td>\n",
       "      <td>...</td>\n",
       "    </tr>\n",
       "    <tr>\n",
       "      <th>190</th>\n",
       "      <td>Uzbekistan</td>\n",
       "      <td>UZB</td>\n",
       "      <td>1</td>\n",
       "      <td>1826.566895</td>\n",
       "      <td>32388600.0</td>\n",
       "      <td>-9.0</td>\n",
       "      <td>0.721004</td>\n",
       "    </tr>\n",
       "    <tr>\n",
       "      <th>191</th>\n",
       "      <td>Venezuela</td>\n",
       "      <td>VEN</td>\n",
       "      <td>2</td>\n",
       "      <td>16054.490234</td>\n",
       "      <td>29390408.0</td>\n",
       "      <td>-3.0</td>\n",
       "      <td>9.832438</td>\n",
       "    </tr>\n",
       "    <tr>\n",
       "      <th>192</th>\n",
       "      <td>Samoa</td>\n",
       "      <td>WSM</td>\n",
       "      <td>9</td>\n",
       "      <td>4259.765137</td>\n",
       "      <td>195352.0</td>\n",
       "      <td>NaN</td>\n",
       "      <td>0.000000</td>\n",
       "    </tr>\n",
       "    <tr>\n",
       "      <th>193</th>\n",
       "      <td>Yemen</td>\n",
       "      <td>YEM</td>\n",
       "      <td>3</td>\n",
       "      <td>960.528503</td>\n",
       "      <td>27834820.0</td>\n",
       "      <td>0.0</td>\n",
       "      <td>0.791113</td>\n",
       "    </tr>\n",
       "    <tr>\n",
       "      <th>194</th>\n",
       "      <td>Zambia</td>\n",
       "      <td>ZMB</td>\n",
       "      <td>4</td>\n",
       "      <td>1534.866699</td>\n",
       "      <td>16853688.0</td>\n",
       "      <td>6.0</td>\n",
       "      <td>0.000000</td>\n",
       "    </tr>\n",
       "  </tbody>\n",
       "</table>\n",
       "<p>194 rows × 7 columns</p>\n",
       "</div>"
      ],
      "text/plain": [
       "           cname ccodealp  ht_region  wdi_gdpcapcur     wdi_pop  p_polity2  \\\n",
       "1    Afghanistan      AFG          8     519.884766  36296400.0       -1.0   \n",
       "2        Albania      ALB          1    4531.020996   2873457.0        9.0   \n",
       "3        Algeria      DZA          3    4111.293945  41389200.0        2.0   \n",
       "4        Andorra      AND          5   38962.878906     77001.0        NaN   \n",
       "5         Angola      AGO          4    4095.812988  29816748.0       -2.0   \n",
       "..           ...      ...        ...            ...         ...        ...   \n",
       "190   Uzbekistan      UZB          1    1826.566895  32388600.0       -9.0   \n",
       "191    Venezuela      VEN          2   16054.490234  29390408.0       -3.0   \n",
       "192        Samoa      WSM          9    4259.765137    195352.0        NaN   \n",
       "193        Yemen      YEM          3     960.528503  27834820.0        0.0   \n",
       "194       Zambia      ZMB          4    1534.866699  16853688.0        6.0   \n",
       "\n",
       "     wdi_oilrent  \n",
       "1       0.001213  \n",
       "2       1.367729  \n",
       "3      12.361850  \n",
       "4            NaN  \n",
       "5      15.443859  \n",
       "..           ...  \n",
       "190     0.721004  \n",
       "191     9.832438  \n",
       "192     0.000000  \n",
       "193     0.791113  \n",
       "194     0.000000  \n",
       "\n",
       "[194 rows x 7 columns]"
      ]
     },
     "execution_count": 5,
     "metadata": {},
     "output_type": "execute_result"
    }
   ],
   "source": [
    "wb_data = pd.read_csv('wb_data.csv', index_col=0)\n",
    "wb_data"
   ]
  },
  {
   "cell_type": "markdown",
   "metadata": {},
   "source": [
    "Let's discuss our data. It is data collected by the World Bank combined with Polity Project for 194 countries in 2021.\n",
    "\n",
    "We have the following variables (columns):\n",
    "- `cname` - country name;\n",
    "- `ccodealp` - country code\n",
    "- `ht_region` - region\n",
    "- `wdi_gdpcapcur` - GDP per capita \n",
    "- `wdi_pop` - population\n",
    "- `p_polity2` - Index of democracy by Polity IV Project\n",
    "- `wdi_oilrent` - Share of Oil rents (% of GDP)"
   ]
  },
  {
   "cell_type": "markdown",
   "metadata": {},
   "source": [
    "We can check the first `n` rows of a data frame through `head()` method:"
   ]
  },
  {
   "cell_type": "code",
   "execution_count": 6,
   "metadata": {},
   "outputs": [
    {
     "data": {
      "text/plain": [
       "pandas.core.frame.DataFrame"
      ]
     },
     "execution_count": 6,
     "metadata": {},
     "output_type": "execute_result"
    }
   ],
   "source": [
    "type(wb_data)"
   ]
  },
  {
   "cell_type": "code",
   "execution_count": 8,
   "metadata": {},
   "outputs": [
    {
     "data": {
      "text/html": [
       "<div>\n",
       "<style scoped>\n",
       "    .dataframe tbody tr th:only-of-type {\n",
       "        vertical-align: middle;\n",
       "    }\n",
       "\n",
       "    .dataframe tbody tr th {\n",
       "        vertical-align: top;\n",
       "    }\n",
       "\n",
       "    .dataframe thead th {\n",
       "        text-align: right;\n",
       "    }\n",
       "</style>\n",
       "<table border=\"1\" class=\"dataframe\">\n",
       "  <thead>\n",
       "    <tr style=\"text-align: right;\">\n",
       "      <th></th>\n",
       "      <th>cname</th>\n",
       "      <th>ccodealp</th>\n",
       "      <th>ht_region</th>\n",
       "      <th>wdi_gdpcapcur</th>\n",
       "      <th>wdi_pop</th>\n",
       "      <th>p_polity2</th>\n",
       "      <th>wdi_oilrent</th>\n",
       "    </tr>\n",
       "  </thead>\n",
       "  <tbody>\n",
       "    <tr>\n",
       "      <th>1</th>\n",
       "      <td>Afghanistan</td>\n",
       "      <td>AFG</td>\n",
       "      <td>8</td>\n",
       "      <td>519.884766</td>\n",
       "      <td>36296400.0</td>\n",
       "      <td>-1.0</td>\n",
       "      <td>0.001213</td>\n",
       "    </tr>\n",
       "    <tr>\n",
       "      <th>2</th>\n",
       "      <td>Albania</td>\n",
       "      <td>ALB</td>\n",
       "      <td>1</td>\n",
       "      <td>4531.020996</td>\n",
       "      <td>2873457.0</td>\n",
       "      <td>9.0</td>\n",
       "      <td>1.367729</td>\n",
       "    </tr>\n",
       "    <tr>\n",
       "      <th>3</th>\n",
       "      <td>Algeria</td>\n",
       "      <td>DZA</td>\n",
       "      <td>3</td>\n",
       "      <td>4111.293945</td>\n",
       "      <td>41389200.0</td>\n",
       "      <td>2.0</td>\n",
       "      <td>12.361850</td>\n",
       "    </tr>\n",
       "    <tr>\n",
       "      <th>4</th>\n",
       "      <td>Andorra</td>\n",
       "      <td>AND</td>\n",
       "      <td>5</td>\n",
       "      <td>38962.878906</td>\n",
       "      <td>77001.0</td>\n",
       "      <td>NaN</td>\n",
       "      <td>NaN</td>\n",
       "    </tr>\n",
       "    <tr>\n",
       "      <th>5</th>\n",
       "      <td>Angola</td>\n",
       "      <td>AGO</td>\n",
       "      <td>4</td>\n",
       "      <td>4095.812988</td>\n",
       "      <td>29816748.0</td>\n",
       "      <td>-2.0</td>\n",
       "      <td>15.443859</td>\n",
       "    </tr>\n",
       "    <tr>\n",
       "      <th>6</th>\n",
       "      <td>Antigua and Barbuda</td>\n",
       "      <td>ATG</td>\n",
       "      <td>10</td>\n",
       "      <td>15383.415039</td>\n",
       "      <td>95426.0</td>\n",
       "      <td>NaN</td>\n",
       "      <td>0.000000</td>\n",
       "    </tr>\n",
       "    <tr>\n",
       "      <th>7</th>\n",
       "      <td>Azerbaijan</td>\n",
       "      <td>AZE</td>\n",
       "      <td>1</td>\n",
       "      <td>4147.089844</td>\n",
       "      <td>9854033.0</td>\n",
       "      <td>-7.0</td>\n",
       "      <td>17.816431</td>\n",
       "    </tr>\n",
       "    <tr>\n",
       "      <th>8</th>\n",
       "      <td>Argentina</td>\n",
       "      <td>ARG</td>\n",
       "      <td>2</td>\n",
       "      <td>14613.041992</td>\n",
       "      <td>44044812.0</td>\n",
       "      <td>9.0</td>\n",
       "      <td>0.727118</td>\n",
       "    </tr>\n",
       "    <tr>\n",
       "      <th>9</th>\n",
       "      <td>Australia</td>\n",
       "      <td>AUS</td>\n",
       "      <td>5</td>\n",
       "      <td>54027.968750</td>\n",
       "      <td>24601860.0</td>\n",
       "      <td>10.0</td>\n",
       "      <td>0.210424</td>\n",
       "    </tr>\n",
       "  </tbody>\n",
       "</table>\n",
       "</div>"
      ],
      "text/plain": [
       "                 cname ccodealp  ht_region  wdi_gdpcapcur     wdi_pop  \\\n",
       "1          Afghanistan      AFG          8     519.884766  36296400.0   \n",
       "2              Albania      ALB          1    4531.020996   2873457.0   \n",
       "3              Algeria      DZA          3    4111.293945  41389200.0   \n",
       "4              Andorra      AND          5   38962.878906     77001.0   \n",
       "5               Angola      AGO          4    4095.812988  29816748.0   \n",
       "6  Antigua and Barbuda      ATG         10   15383.415039     95426.0   \n",
       "7           Azerbaijan      AZE          1    4147.089844   9854033.0   \n",
       "8            Argentina      ARG          2   14613.041992  44044812.0   \n",
       "9            Australia      AUS          5   54027.968750  24601860.0   \n",
       "\n",
       "   p_polity2  wdi_oilrent  \n",
       "1       -1.0     0.001213  \n",
       "2        9.0     1.367729  \n",
       "3        2.0    12.361850  \n",
       "4        NaN          NaN  \n",
       "5       -2.0    15.443859  \n",
       "6        NaN     0.000000  \n",
       "7       -7.0    17.816431  \n",
       "8        9.0     0.727118  \n",
       "9       10.0     0.210424  "
      ]
     },
     "execution_count": 8,
     "metadata": {},
     "output_type": "execute_result"
    }
   ],
   "source": [
    "wb_data.head(9) #first 5 rows are displayed automatically"
   ]
  },
  {
   "cell_type": "markdown",
   "metadata": {},
   "source": [
    "Last `n` rows are displayed as follows:"
   ]
  },
  {
   "cell_type": "code",
   "execution_count": 9,
   "metadata": {},
   "outputs": [
    {
     "data": {
      "text/html": [
       "<div>\n",
       "<style scoped>\n",
       "    .dataframe tbody tr th:only-of-type {\n",
       "        vertical-align: middle;\n",
       "    }\n",
       "\n",
       "    .dataframe tbody tr th {\n",
       "        vertical-align: top;\n",
       "    }\n",
       "\n",
       "    .dataframe thead th {\n",
       "        text-align: right;\n",
       "    }\n",
       "</style>\n",
       "<table border=\"1\" class=\"dataframe\">\n",
       "  <thead>\n",
       "    <tr style=\"text-align: right;\">\n",
       "      <th></th>\n",
       "      <th>cname</th>\n",
       "      <th>ccodealp</th>\n",
       "      <th>ht_region</th>\n",
       "      <th>wdi_gdpcapcur</th>\n",
       "      <th>wdi_pop</th>\n",
       "      <th>p_polity2</th>\n",
       "      <th>wdi_oilrent</th>\n",
       "    </tr>\n",
       "  </thead>\n",
       "  <tbody>\n",
       "    <tr>\n",
       "      <th>190</th>\n",
       "      <td>Uzbekistan</td>\n",
       "      <td>UZB</td>\n",
       "      <td>1</td>\n",
       "      <td>1826.566895</td>\n",
       "      <td>32388600.0</td>\n",
       "      <td>-9.0</td>\n",
       "      <td>0.721004</td>\n",
       "    </tr>\n",
       "    <tr>\n",
       "      <th>191</th>\n",
       "      <td>Venezuela</td>\n",
       "      <td>VEN</td>\n",
       "      <td>2</td>\n",
       "      <td>16054.490234</td>\n",
       "      <td>29390408.0</td>\n",
       "      <td>-3.0</td>\n",
       "      <td>9.832438</td>\n",
       "    </tr>\n",
       "    <tr>\n",
       "      <th>192</th>\n",
       "      <td>Samoa</td>\n",
       "      <td>WSM</td>\n",
       "      <td>9</td>\n",
       "      <td>4259.765137</td>\n",
       "      <td>195352.0</td>\n",
       "      <td>NaN</td>\n",
       "      <td>0.000000</td>\n",
       "    </tr>\n",
       "    <tr>\n",
       "      <th>193</th>\n",
       "      <td>Yemen</td>\n",
       "      <td>YEM</td>\n",
       "      <td>3</td>\n",
       "      <td>960.528503</td>\n",
       "      <td>27834820.0</td>\n",
       "      <td>0.0</td>\n",
       "      <td>0.791113</td>\n",
       "    </tr>\n",
       "    <tr>\n",
       "      <th>194</th>\n",
       "      <td>Zambia</td>\n",
       "      <td>ZMB</td>\n",
       "      <td>4</td>\n",
       "      <td>1534.866699</td>\n",
       "      <td>16853688.0</td>\n",
       "      <td>6.0</td>\n",
       "      <td>0.000000</td>\n",
       "    </tr>\n",
       "  </tbody>\n",
       "</table>\n",
       "</div>"
      ],
      "text/plain": [
       "          cname ccodealp  ht_region  wdi_gdpcapcur     wdi_pop  p_polity2  \\\n",
       "190  Uzbekistan      UZB          1    1826.566895  32388600.0       -9.0   \n",
       "191   Venezuela      VEN          2   16054.490234  29390408.0       -3.0   \n",
       "192       Samoa      WSM          9    4259.765137    195352.0        NaN   \n",
       "193       Yemen      YEM          3     960.528503  27834820.0        0.0   \n",
       "194      Zambia      ZMB          4    1534.866699  16853688.0        6.0   \n",
       "\n",
       "     wdi_oilrent  \n",
       "190     0.721004  \n",
       "191     9.832438  \n",
       "192     0.000000  \n",
       "193     0.791113  \n",
       "194     0.000000  "
      ]
     },
     "execution_count": 9,
     "metadata": {},
     "output_type": "execute_result"
    }
   ],
   "source": [
    "wb_data.tail()"
   ]
  },
  {
   "cell_type": "markdown",
   "metadata": {},
   "source": [
    "Other basic commands:"
   ]
  },
  {
   "cell_type": "code",
   "execution_count": 10,
   "metadata": {},
   "outputs": [
    {
     "name": "stdout",
     "output_type": "stream",
     "text": [
      "<class 'pandas.core.frame.DataFrame'>\n",
      "Int64Index: 194 entries, 1 to 194\n",
      "Data columns (total 7 columns):\n",
      " #   Column         Non-Null Count  Dtype  \n",
      "---  ------         --------------  -----  \n",
      " 0   cname          194 non-null    object \n",
      " 1   ccodealp       194 non-null    object \n",
      " 2   ht_region      194 non-null    int64  \n",
      " 3   wdi_gdpcapcur  189 non-null    float64\n",
      " 4   wdi_pop        192 non-null    float64\n",
      " 5   p_polity2      165 non-null    float64\n",
      " 6   wdi_oilrent    183 non-null    float64\n",
      "dtypes: float64(4), int64(1), object(2)\n",
      "memory usage: 12.1+ KB\n"
     ]
    }
   ],
   "source": [
    "wb_data.info() # method (narrow function, uses parentheses)"
   ]
  },
  {
   "cell_type": "code",
   "execution_count": 11,
   "metadata": {},
   "outputs": [
    {
     "data": {
      "text/plain": [
       "cname             object\n",
       "ccodealp          object\n",
       "ht_region          int64\n",
       "wdi_gdpcapcur    float64\n",
       "wdi_pop          float64\n",
       "p_polity2        float64\n",
       "wdi_oilrent      float64\n",
       "dtype: object"
      ]
     },
     "execution_count": 11,
     "metadata": {},
     "output_type": "execute_result"
    }
   ],
   "source": [
    "wb_data.dtypes # attribute (just information, no parentheses)"
   ]
  },
  {
   "cell_type": "code",
   "execution_count": 12,
   "metadata": {},
   "outputs": [
    {
     "data": {
      "text/html": [
       "<div>\n",
       "<style scoped>\n",
       "    .dataframe tbody tr th:only-of-type {\n",
       "        vertical-align: middle;\n",
       "    }\n",
       "\n",
       "    .dataframe tbody tr th {\n",
       "        vertical-align: top;\n",
       "    }\n",
       "\n",
       "    .dataframe thead th {\n",
       "        text-align: right;\n",
       "    }\n",
       "</style>\n",
       "<table border=\"1\" class=\"dataframe\">\n",
       "  <thead>\n",
       "    <tr style=\"text-align: right;\">\n",
       "      <th></th>\n",
       "      <th>cname</th>\n",
       "      <th>ccodealp</th>\n",
       "      <th>ht_region</th>\n",
       "      <th>wdi_gdpcapcur</th>\n",
       "      <th>wdi_pop</th>\n",
       "      <th>p_polity2</th>\n",
       "      <th>wdi_oilrent</th>\n",
       "    </tr>\n",
       "  </thead>\n",
       "  <tbody>\n",
       "    <tr>\n",
       "      <th>1</th>\n",
       "      <td>Afghanistan</td>\n",
       "      <td>AFG</td>\n",
       "      <td>8</td>\n",
       "      <td>519.884766</td>\n",
       "      <td>36296400.0</td>\n",
       "      <td>-1.0</td>\n",
       "      <td>0.001213</td>\n",
       "    </tr>\n",
       "    <tr>\n",
       "      <th>2</th>\n",
       "      <td>Albania</td>\n",
       "      <td>ALB</td>\n",
       "      <td>1</td>\n",
       "      <td>4531.020996</td>\n",
       "      <td>2873457.0</td>\n",
       "      <td>9.0</td>\n",
       "      <td>1.367729</td>\n",
       "    </tr>\n",
       "    <tr>\n",
       "      <th>3</th>\n",
       "      <td>Algeria</td>\n",
       "      <td>DZA</td>\n",
       "      <td>3</td>\n",
       "      <td>4111.293945</td>\n",
       "      <td>41389200.0</td>\n",
       "      <td>2.0</td>\n",
       "      <td>12.361850</td>\n",
       "    </tr>\n",
       "    <tr>\n",
       "      <th>4</th>\n",
       "      <td>Andorra</td>\n",
       "      <td>AND</td>\n",
       "      <td>5</td>\n",
       "      <td>38962.878906</td>\n",
       "      <td>77001.0</td>\n",
       "      <td>NaN</td>\n",
       "      <td>NaN</td>\n",
       "    </tr>\n",
       "    <tr>\n",
       "      <th>5</th>\n",
       "      <td>Angola</td>\n",
       "      <td>AGO</td>\n",
       "      <td>4</td>\n",
       "      <td>4095.812988</td>\n",
       "      <td>29816748.0</td>\n",
       "      <td>-2.0</td>\n",
       "      <td>15.443859</td>\n",
       "    </tr>\n",
       "  </tbody>\n",
       "</table>\n",
       "</div>"
      ],
      "text/plain": [
       "         cname ccodealp  ht_region  wdi_gdpcapcur     wdi_pop  p_polity2  \\\n",
       "1  Afghanistan      AFG          8     519.884766  36296400.0       -1.0   \n",
       "2      Albania      ALB          1    4531.020996   2873457.0        9.0   \n",
       "3      Algeria      DZA          3    4111.293945  41389200.0        2.0   \n",
       "4      Andorra      AND          5   38962.878906     77001.0        NaN   \n",
       "5       Angola      AGO          4    4095.812988  29816748.0       -2.0   \n",
       "\n",
       "   wdi_oilrent  \n",
       "1     0.001213  \n",
       "2     1.367729  \n",
       "3    12.361850  \n",
       "4          NaN  \n",
       "5    15.443859  "
      ]
     },
     "execution_count": 12,
     "metadata": {},
     "output_type": "execute_result"
    }
   ],
   "source": [
    "wb_data.head()"
   ]
  },
  {
   "cell_type": "code",
   "execution_count": 13,
   "metadata": {},
   "outputs": [
    {
     "data": {
      "text/plain": [
       "194"
      ]
     },
     "execution_count": 13,
     "metadata": {},
     "output_type": "execute_result"
    }
   ],
   "source": [
    "len(wb_data)"
   ]
  },
  {
   "cell_type": "code",
   "execution_count": 14,
   "metadata": {},
   "outputs": [
    {
     "data": {
      "text/plain": [
       "(194, 7)"
      ]
     },
     "execution_count": 14,
     "metadata": {},
     "output_type": "execute_result"
    }
   ],
   "source": [
    "wb_data.shape"
   ]
  },
  {
   "cell_type": "code",
   "execution_count": 15,
   "metadata": {},
   "outputs": [
    {
     "data": {
      "text/plain": [
       "Index(['cname', 'ccodealp', 'ht_region', 'wdi_gdpcapcur', 'wdi_pop',\n",
       "       'p_polity2', 'wdi_oilrent'],\n",
       "      dtype='object')"
      ]
     },
     "execution_count": 15,
     "metadata": {},
     "output_type": "execute_result"
    }
   ],
   "source": [
    "wb_data.columns"
   ]
  },
  {
   "cell_type": "code",
   "execution_count": null,
   "metadata": {},
   "outputs": [],
   "source": [
    "# How many rows?\n",
    "print(len(wb_data))\n",
    "# How many rows and columns - returned as a tuple\n",
    "print(wb_data.shape)\n",
    "#How many 'cells' in the table\n",
    "print(wb_data.size)\n",
    "# What are the column names\n",
    "print(wb_data.columns)\n",
    "# what are the data types of the columns?\n",
    "print(wb_data.dtypes)"
   ]
  },
  {
   "cell_type": "markdown",
   "metadata": {},
   "source": [
    "#### Selecting rows and columns in pandas"
   ]
  },
  {
   "cell_type": "code",
   "execution_count": 16,
   "metadata": {},
   "outputs": [
    {
     "data": {
      "text/html": [
       "<div>\n",
       "<style scoped>\n",
       "    .dataframe tbody tr th:only-of-type {\n",
       "        vertical-align: middle;\n",
       "    }\n",
       "\n",
       "    .dataframe tbody tr th {\n",
       "        vertical-align: top;\n",
       "    }\n",
       "\n",
       "    .dataframe thead th {\n",
       "        text-align: right;\n",
       "    }\n",
       "</style>\n",
       "<table border=\"1\" class=\"dataframe\">\n",
       "  <thead>\n",
       "    <tr style=\"text-align: right;\">\n",
       "      <th></th>\n",
       "      <th>cname</th>\n",
       "      <th>ccodealp</th>\n",
       "      <th>ht_region</th>\n",
       "      <th>wdi_gdpcapcur</th>\n",
       "      <th>wdi_pop</th>\n",
       "      <th>p_polity2</th>\n",
       "      <th>wdi_oilrent</th>\n",
       "    </tr>\n",
       "  </thead>\n",
       "  <tbody>\n",
       "    <tr>\n",
       "      <th>1</th>\n",
       "      <td>Afghanistan</td>\n",
       "      <td>AFG</td>\n",
       "      <td>8</td>\n",
       "      <td>519.884766</td>\n",
       "      <td>36296400.0</td>\n",
       "      <td>-1.0</td>\n",
       "      <td>0.001213</td>\n",
       "    </tr>\n",
       "    <tr>\n",
       "      <th>2</th>\n",
       "      <td>Albania</td>\n",
       "      <td>ALB</td>\n",
       "      <td>1</td>\n",
       "      <td>4531.020996</td>\n",
       "      <td>2873457.0</td>\n",
       "      <td>9.0</td>\n",
       "      <td>1.367729</td>\n",
       "    </tr>\n",
       "    <tr>\n",
       "      <th>3</th>\n",
       "      <td>Algeria</td>\n",
       "      <td>DZA</td>\n",
       "      <td>3</td>\n",
       "      <td>4111.293945</td>\n",
       "      <td>41389200.0</td>\n",
       "      <td>2.0</td>\n",
       "      <td>12.361850</td>\n",
       "    </tr>\n",
       "    <tr>\n",
       "      <th>4</th>\n",
       "      <td>Andorra</td>\n",
       "      <td>AND</td>\n",
       "      <td>5</td>\n",
       "      <td>38962.878906</td>\n",
       "      <td>77001.0</td>\n",
       "      <td>NaN</td>\n",
       "      <td>NaN</td>\n",
       "    </tr>\n",
       "    <tr>\n",
       "      <th>5</th>\n",
       "      <td>Angola</td>\n",
       "      <td>AGO</td>\n",
       "      <td>4</td>\n",
       "      <td>4095.812988</td>\n",
       "      <td>29816748.0</td>\n",
       "      <td>-2.0</td>\n",
       "      <td>15.443859</td>\n",
       "    </tr>\n",
       "  </tbody>\n",
       "</table>\n",
       "</div>"
      ],
      "text/plain": [
       "         cname ccodealp  ht_region  wdi_gdpcapcur     wdi_pop  p_polity2  \\\n",
       "1  Afghanistan      AFG          8     519.884766  36296400.0       -1.0   \n",
       "2      Albania      ALB          1    4531.020996   2873457.0        9.0   \n",
       "3      Algeria      DZA          3    4111.293945  41389200.0        2.0   \n",
       "4      Andorra      AND          5   38962.878906     77001.0        NaN   \n",
       "5       Angola      AGO          4    4095.812988  29816748.0       -2.0   \n",
       "\n",
       "   wdi_oilrent  \n",
       "1     0.001213  \n",
       "2     1.367729  \n",
       "3    12.361850  \n",
       "4          NaN  \n",
       "5    15.443859  "
      ]
     },
     "execution_count": 16,
     "metadata": {},
     "output_type": "execute_result"
    }
   ],
   "source": [
    "wb_data.head()"
   ]
  },
  {
   "cell_type": "code",
   "execution_count": 17,
   "metadata": {},
   "outputs": [
    {
     "data": {
      "text/plain": [
       "1      Afghanistan\n",
       "2          Albania\n",
       "3          Algeria\n",
       "4          Andorra\n",
       "5           Angola\n",
       "          ...     \n",
       "190     Uzbekistan\n",
       "191      Venezuela\n",
       "192          Samoa\n",
       "193          Yemen\n",
       "194         Zambia\n",
       "Name: cname, Length: 194, dtype: object"
      ]
     },
     "execution_count": 17,
     "metadata": {},
     "output_type": "execute_result"
    }
   ],
   "source": [
    "wb_data['cname']"
   ]
  },
  {
   "cell_type": "code",
   "execution_count": null,
   "metadata": {},
   "outputs": [],
   "source": [
    "wb_data[['cname']]"
   ]
  },
  {
   "cell_type": "code",
   "execution_count": 18,
   "metadata": {},
   "outputs": [
    {
     "data": {
      "text/html": [
       "<div>\n",
       "<style scoped>\n",
       "    .dataframe tbody tr th:only-of-type {\n",
       "        vertical-align: middle;\n",
       "    }\n",
       "\n",
       "    .dataframe tbody tr th {\n",
       "        vertical-align: top;\n",
       "    }\n",
       "\n",
       "    .dataframe thead th {\n",
       "        text-align: right;\n",
       "    }\n",
       "</style>\n",
       "<table border=\"1\" class=\"dataframe\">\n",
       "  <thead>\n",
       "    <tr style=\"text-align: right;\">\n",
       "      <th></th>\n",
       "      <th>cname</th>\n",
       "      <th>p_polity2</th>\n",
       "      <th>wdi_oilrent</th>\n",
       "    </tr>\n",
       "  </thead>\n",
       "  <tbody>\n",
       "    <tr>\n",
       "      <th>1</th>\n",
       "      <td>Afghanistan</td>\n",
       "      <td>-1.0</td>\n",
       "      <td>0.001213</td>\n",
       "    </tr>\n",
       "    <tr>\n",
       "      <th>2</th>\n",
       "      <td>Albania</td>\n",
       "      <td>9.0</td>\n",
       "      <td>1.367729</td>\n",
       "    </tr>\n",
       "    <tr>\n",
       "      <th>3</th>\n",
       "      <td>Algeria</td>\n",
       "      <td>2.0</td>\n",
       "      <td>12.361850</td>\n",
       "    </tr>\n",
       "    <tr>\n",
       "      <th>4</th>\n",
       "      <td>Andorra</td>\n",
       "      <td>NaN</td>\n",
       "      <td>NaN</td>\n",
       "    </tr>\n",
       "    <tr>\n",
       "      <th>5</th>\n",
       "      <td>Angola</td>\n",
       "      <td>-2.0</td>\n",
       "      <td>15.443859</td>\n",
       "    </tr>\n",
       "    <tr>\n",
       "      <th>...</th>\n",
       "      <td>...</td>\n",
       "      <td>...</td>\n",
       "      <td>...</td>\n",
       "    </tr>\n",
       "    <tr>\n",
       "      <th>190</th>\n",
       "      <td>Uzbekistan</td>\n",
       "      <td>-9.0</td>\n",
       "      <td>0.721004</td>\n",
       "    </tr>\n",
       "    <tr>\n",
       "      <th>191</th>\n",
       "      <td>Venezuela</td>\n",
       "      <td>-3.0</td>\n",
       "      <td>9.832438</td>\n",
       "    </tr>\n",
       "    <tr>\n",
       "      <th>192</th>\n",
       "      <td>Samoa</td>\n",
       "      <td>NaN</td>\n",
       "      <td>0.000000</td>\n",
       "    </tr>\n",
       "    <tr>\n",
       "      <th>193</th>\n",
       "      <td>Yemen</td>\n",
       "      <td>0.0</td>\n",
       "      <td>0.791113</td>\n",
       "    </tr>\n",
       "    <tr>\n",
       "      <th>194</th>\n",
       "      <td>Zambia</td>\n",
       "      <td>6.0</td>\n",
       "      <td>0.000000</td>\n",
       "    </tr>\n",
       "  </tbody>\n",
       "</table>\n",
       "<p>194 rows × 3 columns</p>\n",
       "</div>"
      ],
      "text/plain": [
       "           cname  p_polity2  wdi_oilrent\n",
       "1    Afghanistan       -1.0     0.001213\n",
       "2        Albania        9.0     1.367729\n",
       "3        Algeria        2.0    12.361850\n",
       "4        Andorra        NaN          NaN\n",
       "5         Angola       -2.0    15.443859\n",
       "..           ...        ...          ...\n",
       "190   Uzbekistan       -9.0     0.721004\n",
       "191    Venezuela       -3.0     9.832438\n",
       "192        Samoa        NaN     0.000000\n",
       "193        Yemen        0.0     0.791113\n",
       "194       Zambia        6.0     0.000000\n",
       "\n",
       "[194 rows x 3 columns]"
      ]
     },
     "execution_count": 18,
     "metadata": {},
     "output_type": "execute_result"
    }
   ],
   "source": [
    "columns_to_choose = ['cname', 'p_polity2', 'wdi_oilrent']\n",
    "\n",
    "wb_data[columns_to_choose]"
   ]
  },
  {
   "cell_type": "code",
   "execution_count": 21,
   "metadata": {},
   "outputs": [
    {
     "data": {
      "text/html": [
       "<div>\n",
       "<style scoped>\n",
       "    .dataframe tbody tr th:only-of-type {\n",
       "        vertical-align: middle;\n",
       "    }\n",
       "\n",
       "    .dataframe tbody tr th {\n",
       "        vertical-align: top;\n",
       "    }\n",
       "\n",
       "    .dataframe thead th {\n",
       "        text-align: right;\n",
       "    }\n",
       "</style>\n",
       "<table border=\"1\" class=\"dataframe\">\n",
       "  <thead>\n",
       "    <tr style=\"text-align: right;\">\n",
       "      <th></th>\n",
       "      <th>cname</th>\n",
       "      <th>ccodealp</th>\n",
       "      <th>ht_region</th>\n",
       "      <th>wdi_gdpcapcur</th>\n",
       "      <th>wdi_pop</th>\n",
       "      <th>p_polity2</th>\n",
       "      <th>wdi_oilrent</th>\n",
       "    </tr>\n",
       "  </thead>\n",
       "  <tbody>\n",
       "    <tr>\n",
       "      <th>5</th>\n",
       "      <td>Angola</td>\n",
       "      <td>AGO</td>\n",
       "      <td>4</td>\n",
       "      <td>4095.812988</td>\n",
       "      <td>29816748.0</td>\n",
       "      <td>-2.0</td>\n",
       "      <td>15.443859</td>\n",
       "    </tr>\n",
       "    <tr>\n",
       "      <th>7</th>\n",
       "      <td>Azerbaijan</td>\n",
       "      <td>AZE</td>\n",
       "      <td>1</td>\n",
       "      <td>4147.089844</td>\n",
       "      <td>9854033.0</td>\n",
       "      <td>-7.0</td>\n",
       "      <td>17.816431</td>\n",
       "    </tr>\n",
       "    <tr>\n",
       "      <th>9</th>\n",
       "      <td>Australia</td>\n",
       "      <td>AUS</td>\n",
       "      <td>5</td>\n",
       "      <td>54027.968750</td>\n",
       "      <td>24601860.0</td>\n",
       "      <td>10.0</td>\n",
       "      <td>0.210424</td>\n",
       "    </tr>\n",
       "  </tbody>\n",
       "</table>\n",
       "</div>"
      ],
      "text/plain": [
       "        cname ccodealp  ht_region  wdi_gdpcapcur     wdi_pop  p_polity2  \\\n",
       "5      Angola      AGO          4    4095.812988  29816748.0       -2.0   \n",
       "7  Azerbaijan      AZE          1    4147.089844   9854033.0       -7.0   \n",
       "9   Australia      AUS          5   54027.968750  24601860.0       10.0   \n",
       "\n",
       "   wdi_oilrent  \n",
       "5    15.443859  \n",
       "7    17.816431  \n",
       "9     0.210424  "
      ]
     },
     "execution_count": 21,
     "metadata": {},
     "output_type": "execute_result"
    }
   ],
   "source": [
    "wb_data[4:9:2]"
   ]
  },
  {
   "cell_type": "code",
   "execution_count": null,
   "metadata": {},
   "outputs": [],
   "source": [
    "wb_data[4:9:2]"
   ]
  },
  {
   "cell_type": "code",
   "execution_count": null,
   "metadata": {},
   "outputs": [],
   "source": [
    "# Both of these statements are the same\n",
    "print(wb_data['cname'])\n",
    "# and\n",
    "print(wb_data.cname)"
   ]
  },
  {
   "cell_type": "code",
   "execution_count": 22,
   "metadata": {},
   "outputs": [
    {
     "data": {
      "text/html": [
       "<div>\n",
       "<style scoped>\n",
       "    .dataframe tbody tr th:only-of-type {\n",
       "        vertical-align: middle;\n",
       "    }\n",
       "\n",
       "    .dataframe tbody tr th {\n",
       "        vertical-align: top;\n",
       "    }\n",
       "\n",
       "    .dataframe thead th {\n",
       "        text-align: right;\n",
       "    }\n",
       "</style>\n",
       "<table border=\"1\" class=\"dataframe\">\n",
       "  <thead>\n",
       "    <tr style=\"text-align: right;\">\n",
       "      <th></th>\n",
       "      <th>cname</th>\n",
       "      <th>ccodealp</th>\n",
       "    </tr>\n",
       "  </thead>\n",
       "  <tbody>\n",
       "    <tr>\n",
       "      <th>1</th>\n",
       "      <td>Afghanistan</td>\n",
       "      <td>AFG</td>\n",
       "    </tr>\n",
       "    <tr>\n",
       "      <th>2</th>\n",
       "      <td>Albania</td>\n",
       "      <td>ALB</td>\n",
       "    </tr>\n",
       "    <tr>\n",
       "      <th>3</th>\n",
       "      <td>Algeria</td>\n",
       "      <td>DZA</td>\n",
       "    </tr>\n",
       "    <tr>\n",
       "      <th>4</th>\n",
       "      <td>Andorra</td>\n",
       "      <td>AND</td>\n",
       "    </tr>\n",
       "    <tr>\n",
       "      <th>5</th>\n",
       "      <td>Angola</td>\n",
       "      <td>AGO</td>\n",
       "    </tr>\n",
       "    <tr>\n",
       "      <th>6</th>\n",
       "      <td>Antigua and Barbuda</td>\n",
       "      <td>ATG</td>\n",
       "    </tr>\n",
       "  </tbody>\n",
       "</table>\n",
       "</div>"
      ],
      "text/plain": [
       "                 cname ccodealp\n",
       "1          Afghanistan      AFG\n",
       "2              Albania      ALB\n",
       "3              Algeria      DZA\n",
       "4              Andorra      AND\n",
       "5               Angola      AGO\n",
       "6  Antigua and Barbuda      ATG"
      ]
     },
     "execution_count": 22,
     "metadata": {},
     "output_type": "execute_result"
    }
   ],
   "source": [
    "wb_data.loc[1:6, ['cname', 'ccodealp']]"
   ]
  },
  {
   "cell_type": "code",
   "execution_count": 23,
   "metadata": {},
   "outputs": [
    {
     "data": {
      "text/html": [
       "<div>\n",
       "<style scoped>\n",
       "    .dataframe tbody tr th:only-of-type {\n",
       "        vertical-align: middle;\n",
       "    }\n",
       "\n",
       "    .dataframe tbody tr th {\n",
       "        vertical-align: top;\n",
       "    }\n",
       "\n",
       "    .dataframe thead th {\n",
       "        text-align: right;\n",
       "    }\n",
       "</style>\n",
       "<table border=\"1\" class=\"dataframe\">\n",
       "  <thead>\n",
       "    <tr style=\"text-align: right;\">\n",
       "      <th></th>\n",
       "      <th>cname</th>\n",
       "      <th>ccodealp</th>\n",
       "      <th>ht_region</th>\n",
       "      <th>wdi_gdpcapcur</th>\n",
       "      <th>wdi_pop</th>\n",
       "      <th>p_polity2</th>\n",
       "      <th>wdi_oilrent</th>\n",
       "    </tr>\n",
       "  </thead>\n",
       "  <tbody>\n",
       "    <tr>\n",
       "      <th>1</th>\n",
       "      <td>Afghanistan</td>\n",
       "      <td>AFG</td>\n",
       "      <td>8</td>\n",
       "      <td>519.884766</td>\n",
       "      <td>36296400.0</td>\n",
       "      <td>-1.0</td>\n",
       "      <td>0.001213</td>\n",
       "    </tr>\n",
       "    <tr>\n",
       "      <th>2</th>\n",
       "      <td>Albania</td>\n",
       "      <td>ALB</td>\n",
       "      <td>1</td>\n",
       "      <td>4531.020996</td>\n",
       "      <td>2873457.0</td>\n",
       "      <td>9.0</td>\n",
       "      <td>1.367729</td>\n",
       "    </tr>\n",
       "    <tr>\n",
       "      <th>3</th>\n",
       "      <td>Algeria</td>\n",
       "      <td>DZA</td>\n",
       "      <td>3</td>\n",
       "      <td>4111.293945</td>\n",
       "      <td>41389200.0</td>\n",
       "      <td>2.0</td>\n",
       "      <td>12.361850</td>\n",
       "    </tr>\n",
       "    <tr>\n",
       "      <th>4</th>\n",
       "      <td>Andorra</td>\n",
       "      <td>AND</td>\n",
       "      <td>5</td>\n",
       "      <td>38962.878906</td>\n",
       "      <td>77001.0</td>\n",
       "      <td>NaN</td>\n",
       "      <td>NaN</td>\n",
       "    </tr>\n",
       "    <tr>\n",
       "      <th>5</th>\n",
       "      <td>Angola</td>\n",
       "      <td>AGO</td>\n",
       "      <td>4</td>\n",
       "      <td>4095.812988</td>\n",
       "      <td>29816748.0</td>\n",
       "      <td>-2.0</td>\n",
       "      <td>15.443859</td>\n",
       "    </tr>\n",
       "  </tbody>\n",
       "</table>\n",
       "</div>"
      ],
      "text/plain": [
       "         cname ccodealp  ht_region  wdi_gdpcapcur     wdi_pop  p_polity2  \\\n",
       "1  Afghanistan      AFG          8     519.884766  36296400.0       -1.0   \n",
       "2      Albania      ALB          1    4531.020996   2873457.0        9.0   \n",
       "3      Algeria      DZA          3    4111.293945  41389200.0        2.0   \n",
       "4      Andorra      AND          5   38962.878906     77001.0        NaN   \n",
       "5       Angola      AGO          4    4095.812988  29816748.0       -2.0   \n",
       "\n",
       "   wdi_oilrent  \n",
       "1     0.001213  \n",
       "2     1.367729  \n",
       "3    12.361850  \n",
       "4          NaN  \n",
       "5    15.443859  "
      ]
     },
     "execution_count": 23,
     "metadata": {},
     "output_type": "execute_result"
    }
   ],
   "source": [
    "wb_data.head()"
   ]
  },
  {
   "cell_type": "code",
   "execution_count": 24,
   "metadata": {},
   "outputs": [
    {
     "data": {
      "text/html": [
       "<div>\n",
       "<style scoped>\n",
       "    .dataframe tbody tr th:only-of-type {\n",
       "        vertical-align: middle;\n",
       "    }\n",
       "\n",
       "    .dataframe tbody tr th {\n",
       "        vertical-align: top;\n",
       "    }\n",
       "\n",
       "    .dataframe thead th {\n",
       "        text-align: right;\n",
       "    }\n",
       "</style>\n",
       "<table border=\"1\" class=\"dataframe\">\n",
       "  <thead>\n",
       "    <tr style=\"text-align: right;\">\n",
       "      <th></th>\n",
       "      <th>ht_region</th>\n",
       "      <th>wdi_gdpcapcur</th>\n",
       "    </tr>\n",
       "  </thead>\n",
       "  <tbody>\n",
       "    <tr>\n",
       "      <th>1</th>\n",
       "      <td>8</td>\n",
       "      <td>519.884766</td>\n",
       "    </tr>\n",
       "    <tr>\n",
       "      <th>2</th>\n",
       "      <td>1</td>\n",
       "      <td>4531.020996</td>\n",
       "    </tr>\n",
       "  </tbody>\n",
       "</table>\n",
       "</div>"
      ],
      "text/plain": [
       "   ht_region  wdi_gdpcapcur\n",
       "1          8     519.884766\n",
       "2          1    4531.020996"
      ]
     },
     "execution_count": 24,
     "metadata": {},
     "output_type": "execute_result"
    }
   ],
   "source": [
    "wb_data.loc[1:2, ['ht_region', 'wdi_gdpcapcur']]"
   ]
  },
  {
   "cell_type": "code",
   "execution_count": 25,
   "metadata": {},
   "outputs": [
    {
     "data": {
      "text/html": [
       "<div>\n",
       "<style scoped>\n",
       "    .dataframe tbody tr th:only-of-type {\n",
       "        vertical-align: middle;\n",
       "    }\n",
       "\n",
       "    .dataframe tbody tr th {\n",
       "        vertical-align: top;\n",
       "    }\n",
       "\n",
       "    .dataframe thead th {\n",
       "        text-align: right;\n",
       "    }\n",
       "</style>\n",
       "<table border=\"1\" class=\"dataframe\">\n",
       "  <thead>\n",
       "    <tr style=\"text-align: right;\">\n",
       "      <th></th>\n",
       "      <th>cname</th>\n",
       "      <th>ccodealp</th>\n",
       "      <th>ht_region</th>\n",
       "      <th>wdi_gdpcapcur</th>\n",
       "      <th>wdi_pop</th>\n",
       "      <th>p_polity2</th>\n",
       "      <th>wdi_oilrent</th>\n",
       "    </tr>\n",
       "  </thead>\n",
       "  <tbody>\n",
       "    <tr>\n",
       "      <th>190</th>\n",
       "      <td>Uzbekistan</td>\n",
       "      <td>UZB</td>\n",
       "      <td>1</td>\n",
       "      <td>1826.566895</td>\n",
       "      <td>32388600.0</td>\n",
       "      <td>-9.0</td>\n",
       "      <td>0.721004</td>\n",
       "    </tr>\n",
       "    <tr>\n",
       "      <th>191</th>\n",
       "      <td>Venezuela</td>\n",
       "      <td>VEN</td>\n",
       "      <td>2</td>\n",
       "      <td>16054.490234</td>\n",
       "      <td>29390408.0</td>\n",
       "      <td>-3.0</td>\n",
       "      <td>9.832438</td>\n",
       "    </tr>\n",
       "    <tr>\n",
       "      <th>192</th>\n",
       "      <td>Samoa</td>\n",
       "      <td>WSM</td>\n",
       "      <td>9</td>\n",
       "      <td>4259.765137</td>\n",
       "      <td>195352.0</td>\n",
       "      <td>NaN</td>\n",
       "      <td>0.000000</td>\n",
       "    </tr>\n",
       "    <tr>\n",
       "      <th>193</th>\n",
       "      <td>Yemen</td>\n",
       "      <td>YEM</td>\n",
       "      <td>3</td>\n",
       "      <td>960.528503</td>\n",
       "      <td>27834820.0</td>\n",
       "      <td>0.0</td>\n",
       "      <td>0.791113</td>\n",
       "    </tr>\n",
       "    <tr>\n",
       "      <th>194</th>\n",
       "      <td>Zambia</td>\n",
       "      <td>ZMB</td>\n",
       "      <td>4</td>\n",
       "      <td>1534.866699</td>\n",
       "      <td>16853688.0</td>\n",
       "      <td>6.0</td>\n",
       "      <td>0.000000</td>\n",
       "    </tr>\n",
       "  </tbody>\n",
       "</table>\n",
       "</div>"
      ],
      "text/plain": [
       "          cname ccodealp  ht_region  wdi_gdpcapcur     wdi_pop  p_polity2  \\\n",
       "190  Uzbekistan      UZB          1    1826.566895  32388600.0       -9.0   \n",
       "191   Venezuela      VEN          2   16054.490234  29390408.0       -3.0   \n",
       "192       Samoa      WSM          9    4259.765137    195352.0        NaN   \n",
       "193       Yemen      YEM          3     960.528503  27834820.0        0.0   \n",
       "194      Zambia      ZMB          4    1534.866699  16853688.0        6.0   \n",
       "\n",
       "     wdi_oilrent  \n",
       "190     0.721004  \n",
       "191     9.832438  \n",
       "192     0.000000  \n",
       "193     0.791113  \n",
       "194     0.000000  "
      ]
     },
     "execution_count": 25,
     "metadata": {},
     "output_type": "execute_result"
    }
   ],
   "source": [
    "wb_data.tail()"
   ]
  },
  {
   "cell_type": "code",
   "execution_count": 26,
   "metadata": {},
   "outputs": [
    {
     "data": {
      "text/html": [
       "<div>\n",
       "<style scoped>\n",
       "    .dataframe tbody tr th:only-of-type {\n",
       "        vertical-align: middle;\n",
       "    }\n",
       "\n",
       "    .dataframe tbody tr th {\n",
       "        vertical-align: top;\n",
       "    }\n",
       "\n",
       "    .dataframe thead th {\n",
       "        text-align: right;\n",
       "    }\n",
       "</style>\n",
       "<table border=\"1\" class=\"dataframe\">\n",
       "  <thead>\n",
       "    <tr style=\"text-align: right;\">\n",
       "      <th></th>\n",
       "      <th>cname</th>\n",
       "      <th>ccodealp</th>\n",
       "    </tr>\n",
       "  </thead>\n",
       "  <tbody>\n",
       "    <tr>\n",
       "      <th>190</th>\n",
       "      <td>Uzbekistan</td>\n",
       "      <td>UZB</td>\n",
       "    </tr>\n",
       "    <tr>\n",
       "      <th>191</th>\n",
       "      <td>Venezuela</td>\n",
       "      <td>VEN</td>\n",
       "    </tr>\n",
       "    <tr>\n",
       "      <th>192</th>\n",
       "      <td>Samoa</td>\n",
       "      <td>WSM</td>\n",
       "    </tr>\n",
       "    <tr>\n",
       "      <th>193</th>\n",
       "      <td>Yemen</td>\n",
       "      <td>YEM</td>\n",
       "    </tr>\n",
       "    <tr>\n",
       "      <th>194</th>\n",
       "      <td>Zambia</td>\n",
       "      <td>ZMB</td>\n",
       "    </tr>\n",
       "  </tbody>\n",
       "</table>\n",
       "</div>"
      ],
      "text/plain": [
       "          cname ccodealp\n",
       "190  Uzbekistan      UZB\n",
       "191   Venezuela      VEN\n",
       "192       Samoa      WSM\n",
       "193       Yemen      YEM\n",
       "194      Zambia      ZMB"
      ]
     },
     "execution_count": 26,
     "metadata": {},
     "output_type": "execute_result"
    }
   ],
   "source": [
    "wb_data.iloc[-5::1, :2]"
   ]
  },
  {
   "cell_type": "markdown",
   "metadata": {},
   "source": [
    "Selecting multiple columns:"
   ]
  },
  {
   "cell_type": "code",
   "execution_count": null,
   "metadata": {},
   "outputs": [],
   "source": [
    "print(wb_data[['cname', 'ccodealp', 'wdi_pop']])"
   ]
  },
  {
   "cell_type": "markdown",
   "metadata": {},
   "source": [
    "`iloc` method allows to slice the dataframe:"
   ]
  },
  {
   "cell_type": "code",
   "execution_count": null,
   "metadata": {},
   "outputs": [],
   "source": [
    "wb_data.iloc[0:9, 0:3] #range of rows before comma, range of column after comma"
   ]
  },
  {
   "cell_type": "markdown",
   "metadata": {},
   "source": [
    "Use `rename` method to rename your columns:"
   ]
  },
  {
   "cell_type": "code",
   "execution_count": null,
   "metadata": {},
   "outputs": [],
   "source": [
    "wb_data.rename(columns={'wdi_pop': 'popul'}) #name changed from 'wdi_pop' to 'popul'"
   ]
  },
  {
   "cell_type": "markdown",
   "metadata": {},
   "source": [
    "Basics of sorting can be done through `sort_values` method: "
   ]
  },
  {
   "cell_type": "code",
   "execution_count": null,
   "metadata": {},
   "outputs": [],
   "source": [
    "# Sorting\n",
    "wb_data.sort_values(by='wdi_gdpcapcur', ascending=False, na_position='last')"
   ]
  },
  {
   "cell_type": "markdown",
   "metadata": {},
   "source": [
    "Aggregating data by groups:"
   ]
  },
  {
   "cell_type": "code",
   "execution_count": null,
   "metadata": {},
   "outputs": [],
   "source": [
    "wb_data.groupby('ht_region').mean()['p_polity2'].sort_values()"
   ]
  },
  {
   "cell_type": "code",
   "execution_count": null,
   "metadata": {},
   "outputs": [],
   "source": [
    "wb_data_rich_dem = wb_data[(wb_data.p_polity2 >= 4) & (wb_data.wdi_gdpcapcur > 30000)]\n",
    "wb_data_rich_dem"
   ]
  },
  {
   "cell_type": "code",
   "execution_count": null,
   "metadata": {},
   "outputs": [],
   "source": [
    "#From exponentiated to normal values\n",
    "pd.set_option('display.float_format', '{:.2f}'.format)"
   ]
  },
  {
   "cell_type": "code",
   "execution_count": 27,
   "metadata": {},
   "outputs": [
    {
     "data": {
      "text/html": [
       "<div>\n",
       "<style scoped>\n",
       "    .dataframe tbody tr th:only-of-type {\n",
       "        vertical-align: middle;\n",
       "    }\n",
       "\n",
       "    .dataframe tbody tr th {\n",
       "        vertical-align: top;\n",
       "    }\n",
       "\n",
       "    .dataframe thead th {\n",
       "        text-align: right;\n",
       "    }\n",
       "</style>\n",
       "<table border=\"1\" class=\"dataframe\">\n",
       "  <thead>\n",
       "    <tr style=\"text-align: right;\">\n",
       "      <th></th>\n",
       "      <th>cname</th>\n",
       "      <th>ccodealp</th>\n",
       "      <th>ht_region</th>\n",
       "      <th>wdi_gdpcapcur</th>\n",
       "      <th>wdi_pop</th>\n",
       "      <th>p_polity2</th>\n",
       "      <th>wdi_oilrent</th>\n",
       "    </tr>\n",
       "  </thead>\n",
       "  <tbody>\n",
       "    <tr>\n",
       "      <th>1</th>\n",
       "      <td>Afghanistan</td>\n",
       "      <td>AFG</td>\n",
       "      <td>8</td>\n",
       "      <td>519.884766</td>\n",
       "      <td>36296400.0</td>\n",
       "      <td>-1.0</td>\n",
       "      <td>0.001213</td>\n",
       "    </tr>\n",
       "    <tr>\n",
       "      <th>2</th>\n",
       "      <td>Albania</td>\n",
       "      <td>ALB</td>\n",
       "      <td>1</td>\n",
       "      <td>4531.020996</td>\n",
       "      <td>2873457.0</td>\n",
       "      <td>9.0</td>\n",
       "      <td>1.367729</td>\n",
       "    </tr>\n",
       "    <tr>\n",
       "      <th>3</th>\n",
       "      <td>Algeria</td>\n",
       "      <td>DZA</td>\n",
       "      <td>3</td>\n",
       "      <td>4111.293945</td>\n",
       "      <td>41389200.0</td>\n",
       "      <td>2.0</td>\n",
       "      <td>12.361850</td>\n",
       "    </tr>\n",
       "    <tr>\n",
       "      <th>4</th>\n",
       "      <td>Andorra</td>\n",
       "      <td>AND</td>\n",
       "      <td>5</td>\n",
       "      <td>38962.878906</td>\n",
       "      <td>77001.0</td>\n",
       "      <td>NaN</td>\n",
       "      <td>NaN</td>\n",
       "    </tr>\n",
       "    <tr>\n",
       "      <th>5</th>\n",
       "      <td>Angola</td>\n",
       "      <td>AGO</td>\n",
       "      <td>4</td>\n",
       "      <td>4095.812988</td>\n",
       "      <td>29816748.0</td>\n",
       "      <td>-2.0</td>\n",
       "      <td>15.443859</td>\n",
       "    </tr>\n",
       "  </tbody>\n",
       "</table>\n",
       "</div>"
      ],
      "text/plain": [
       "         cname ccodealp  ht_region  wdi_gdpcapcur     wdi_pop  p_polity2  \\\n",
       "1  Afghanistan      AFG          8     519.884766  36296400.0       -1.0   \n",
       "2      Albania      ALB          1    4531.020996   2873457.0        9.0   \n",
       "3      Algeria      DZA          3    4111.293945  41389200.0        2.0   \n",
       "4      Andorra      AND          5   38962.878906     77001.0        NaN   \n",
       "5       Angola      AGO          4    4095.812988  29816748.0       -2.0   \n",
       "\n",
       "   wdi_oilrent  \n",
       "1     0.001213  \n",
       "2     1.367729  \n",
       "3    12.361850  \n",
       "4          NaN  \n",
       "5    15.443859  "
      ]
     },
     "execution_count": 27,
     "metadata": {},
     "output_type": "execute_result"
    }
   ],
   "source": [
    "wb_data.head()"
   ]
  },
  {
   "cell_type": "code",
   "execution_count": 29,
   "metadata": {},
   "outputs": [
    {
     "data": {
      "text/html": [
       "<div>\n",
       "<style scoped>\n",
       "    .dataframe tbody tr th:only-of-type {\n",
       "        vertical-align: middle;\n",
       "    }\n",
       "\n",
       "    .dataframe tbody tr th {\n",
       "        vertical-align: top;\n",
       "    }\n",
       "\n",
       "    .dataframe thead th {\n",
       "        text-align: right;\n",
       "    }\n",
       "</style>\n",
       "<table border=\"1\" class=\"dataframe\">\n",
       "  <thead>\n",
       "    <tr style=\"text-align: right;\">\n",
       "      <th></th>\n",
       "      <th>country_name</th>\n",
       "      <th>country_code</th>\n",
       "      <th>ht_region</th>\n",
       "      <th>wdi_gdpcapcur</th>\n",
       "      <th>wdi_pop</th>\n",
       "      <th>p_polity2</th>\n",
       "      <th>wdi_oilrent</th>\n",
       "    </tr>\n",
       "  </thead>\n",
       "  <tbody>\n",
       "    <tr>\n",
       "      <th>1</th>\n",
       "      <td>Afghanistan</td>\n",
       "      <td>AFG</td>\n",
       "      <td>8</td>\n",
       "      <td>519.884766</td>\n",
       "      <td>36296400.0</td>\n",
       "      <td>-1.0</td>\n",
       "      <td>0.001213</td>\n",
       "    </tr>\n",
       "    <tr>\n",
       "      <th>2</th>\n",
       "      <td>Albania</td>\n",
       "      <td>ALB</td>\n",
       "      <td>1</td>\n",
       "      <td>4531.020996</td>\n",
       "      <td>2873457.0</td>\n",
       "      <td>9.0</td>\n",
       "      <td>1.367729</td>\n",
       "    </tr>\n",
       "    <tr>\n",
       "      <th>3</th>\n",
       "      <td>Algeria</td>\n",
       "      <td>DZA</td>\n",
       "      <td>3</td>\n",
       "      <td>4111.293945</td>\n",
       "      <td>41389200.0</td>\n",
       "      <td>2.0</td>\n",
       "      <td>12.361850</td>\n",
       "    </tr>\n",
       "    <tr>\n",
       "      <th>4</th>\n",
       "      <td>Andorra</td>\n",
       "      <td>AND</td>\n",
       "      <td>5</td>\n",
       "      <td>38962.878906</td>\n",
       "      <td>77001.0</td>\n",
       "      <td>NaN</td>\n",
       "      <td>NaN</td>\n",
       "    </tr>\n",
       "    <tr>\n",
       "      <th>5</th>\n",
       "      <td>Angola</td>\n",
       "      <td>AGO</td>\n",
       "      <td>4</td>\n",
       "      <td>4095.812988</td>\n",
       "      <td>29816748.0</td>\n",
       "      <td>-2.0</td>\n",
       "      <td>15.443859</td>\n",
       "    </tr>\n",
       "    <tr>\n",
       "      <th>...</th>\n",
       "      <td>...</td>\n",
       "      <td>...</td>\n",
       "      <td>...</td>\n",
       "      <td>...</td>\n",
       "      <td>...</td>\n",
       "      <td>...</td>\n",
       "      <td>...</td>\n",
       "    </tr>\n",
       "    <tr>\n",
       "      <th>190</th>\n",
       "      <td>Uzbekistan</td>\n",
       "      <td>UZB</td>\n",
       "      <td>1</td>\n",
       "      <td>1826.566895</td>\n",
       "      <td>32388600.0</td>\n",
       "      <td>-9.0</td>\n",
       "      <td>0.721004</td>\n",
       "    </tr>\n",
       "    <tr>\n",
       "      <th>191</th>\n",
       "      <td>Venezuela</td>\n",
       "      <td>VEN</td>\n",
       "      <td>2</td>\n",
       "      <td>16054.490234</td>\n",
       "      <td>29390408.0</td>\n",
       "      <td>-3.0</td>\n",
       "      <td>9.832438</td>\n",
       "    </tr>\n",
       "    <tr>\n",
       "      <th>192</th>\n",
       "      <td>Samoa</td>\n",
       "      <td>WSM</td>\n",
       "      <td>9</td>\n",
       "      <td>4259.765137</td>\n",
       "      <td>195352.0</td>\n",
       "      <td>NaN</td>\n",
       "      <td>0.000000</td>\n",
       "    </tr>\n",
       "    <tr>\n",
       "      <th>193</th>\n",
       "      <td>Yemen</td>\n",
       "      <td>YEM</td>\n",
       "      <td>3</td>\n",
       "      <td>960.528503</td>\n",
       "      <td>27834820.0</td>\n",
       "      <td>0.0</td>\n",
       "      <td>0.791113</td>\n",
       "    </tr>\n",
       "    <tr>\n",
       "      <th>194</th>\n",
       "      <td>Zambia</td>\n",
       "      <td>ZMB</td>\n",
       "      <td>4</td>\n",
       "      <td>1534.866699</td>\n",
       "      <td>16853688.0</td>\n",
       "      <td>6.0</td>\n",
       "      <td>0.000000</td>\n",
       "    </tr>\n",
       "  </tbody>\n",
       "</table>\n",
       "<p>194 rows × 7 columns</p>\n",
       "</div>"
      ],
      "text/plain": [
       "    country_name country_code  ht_region  wdi_gdpcapcur     wdi_pop  \\\n",
       "1    Afghanistan          AFG          8     519.884766  36296400.0   \n",
       "2        Albania          ALB          1    4531.020996   2873457.0   \n",
       "3        Algeria          DZA          3    4111.293945  41389200.0   \n",
       "4        Andorra          AND          5   38962.878906     77001.0   \n",
       "5         Angola          AGO          4    4095.812988  29816748.0   \n",
       "..           ...          ...        ...            ...         ...   \n",
       "190   Uzbekistan          UZB          1    1826.566895  32388600.0   \n",
       "191    Venezuela          VEN          2   16054.490234  29390408.0   \n",
       "192        Samoa          WSM          9    4259.765137    195352.0   \n",
       "193        Yemen          YEM          3     960.528503  27834820.0   \n",
       "194       Zambia          ZMB          4    1534.866699  16853688.0   \n",
       "\n",
       "     p_polity2  wdi_oilrent  \n",
       "1         -1.0     0.001213  \n",
       "2          9.0     1.367729  \n",
       "3          2.0    12.361850  \n",
       "4          NaN          NaN  \n",
       "5         -2.0    15.443859  \n",
       "..         ...          ...  \n",
       "190       -9.0     0.721004  \n",
       "191       -3.0     9.832438  \n",
       "192        NaN     0.000000  \n",
       "193        0.0     0.791113  \n",
       "194        6.0     0.000000  \n",
       "\n",
       "[194 rows x 7 columns]"
      ]
     },
     "execution_count": 29,
     "metadata": {},
     "output_type": "execute_result"
    }
   ],
   "source": [
    "wb_data.rename(columns={'ccodealp': 'country_code', 'cname': 'country_name'})"
   ]
  },
  {
   "cell_type": "code",
   "execution_count": null,
   "metadata": {},
   "outputs": [],
   "source": [
    "wb_data.head()"
   ]
  },
  {
   "cell_type": "code",
   "execution_count": 30,
   "metadata": {},
   "outputs": [
    {
     "data": {
      "text/html": [
       "<div>\n",
       "<style scoped>\n",
       "    .dataframe tbody tr th:only-of-type {\n",
       "        vertical-align: middle;\n",
       "    }\n",
       "\n",
       "    .dataframe tbody tr th {\n",
       "        vertical-align: top;\n",
       "    }\n",
       "\n",
       "    .dataframe thead th {\n",
       "        text-align: right;\n",
       "    }\n",
       "</style>\n",
       "<table border=\"1\" class=\"dataframe\">\n",
       "  <thead>\n",
       "    <tr style=\"text-align: right;\">\n",
       "      <th></th>\n",
       "      <th>cname</th>\n",
       "      <th>ccodealp</th>\n",
       "      <th>ht_region</th>\n",
       "      <th>wdi_gdpcapcur</th>\n",
       "      <th>wdi_pop</th>\n",
       "      <th>p_polity2</th>\n",
       "      <th>wdi_oilrent</th>\n",
       "    </tr>\n",
       "  </thead>\n",
       "  <tbody>\n",
       "    <tr>\n",
       "      <th>27</th>\n",
       "      <td>Burundi</td>\n",
       "      <td>BDI</td>\n",
       "      <td>4</td>\n",
       "      <td>292.997620</td>\n",
       "      <td>10827024.0</td>\n",
       "      <td>-1.0</td>\n",
       "      <td>0.000000</td>\n",
       "    </tr>\n",
       "    <tr>\n",
       "      <th>104</th>\n",
       "      <td>Malawi</td>\n",
       "      <td>MWI</td>\n",
       "      <td>4</td>\n",
       "      <td>356.717560</td>\n",
       "      <td>17670260.0</td>\n",
       "      <td>6.0</td>\n",
       "      <td>0.000000</td>\n",
       "    </tr>\n",
       "    <tr>\n",
       "      <th>33</th>\n",
       "      <td>Central African Republic</td>\n",
       "      <td>CAF</td>\n",
       "      <td>4</td>\n",
       "      <td>450.900238</td>\n",
       "      <td>4596028.0</td>\n",
       "      <td>6.0</td>\n",
       "      <td>0.000000</td>\n",
       "    </tr>\n",
       "    <tr>\n",
       "      <th>117</th>\n",
       "      <td>Mozambique</td>\n",
       "      <td>MOZ</td>\n",
       "      <td>4</td>\n",
       "      <td>461.415100</td>\n",
       "      <td>28649008.0</td>\n",
       "      <td>5.0</td>\n",
       "      <td>0.096506</td>\n",
       "    </tr>\n",
       "    <tr>\n",
       "      <th>42</th>\n",
       "      <td>Congo, Democratic Republic</td>\n",
       "      <td>COD</td>\n",
       "      <td>4</td>\n",
       "      <td>467.074249</td>\n",
       "      <td>81398768.0</td>\n",
       "      <td>-3.0</td>\n",
       "      <td>0.565558</td>\n",
       "    </tr>\n",
       "    <tr>\n",
       "      <th>...</th>\n",
       "      <td>...</td>\n",
       "      <td>...</td>\n",
       "      <td>...</td>\n",
       "      <td>...</td>\n",
       "      <td>...</td>\n",
       "      <td>...</td>\n",
       "      <td>...</td>\n",
       "    </tr>\n",
       "    <tr>\n",
       "      <th>38</th>\n",
       "      <td>Taiwan</td>\n",
       "      <td>TWN</td>\n",
       "      <td>6</td>\n",
       "      <td>NaN</td>\n",
       "      <td>NaN</td>\n",
       "      <td>10.0</td>\n",
       "      <td>NaN</td>\n",
       "    </tr>\n",
       "    <tr>\n",
       "      <th>56</th>\n",
       "      <td>Eritrea</td>\n",
       "      <td>ERI</td>\n",
       "      <td>4</td>\n",
       "      <td>NaN</td>\n",
       "      <td>NaN</td>\n",
       "      <td>-7.0</td>\n",
       "      <td>NaN</td>\n",
       "    </tr>\n",
       "    <tr>\n",
       "      <th>90</th>\n",
       "      <td>Korea, North</td>\n",
       "      <td>PRK</td>\n",
       "      <td>6</td>\n",
       "      <td>NaN</td>\n",
       "      <td>25429984.0</td>\n",
       "      <td>-10.0</td>\n",
       "      <td>NaN</td>\n",
       "    </tr>\n",
       "    <tr>\n",
       "      <th>160</th>\n",
       "      <td>Somalia</td>\n",
       "      <td>SOM</td>\n",
       "      <td>4</td>\n",
       "      <td>NaN</td>\n",
       "      <td>14589119.0</td>\n",
       "      <td>5.0</td>\n",
       "      <td>NaN</td>\n",
       "    </tr>\n",
       "    <tr>\n",
       "      <th>170</th>\n",
       "      <td>Syria</td>\n",
       "      <td>SYR</td>\n",
       "      <td>3</td>\n",
       "      <td>NaN</td>\n",
       "      <td>17068002.0</td>\n",
       "      <td>-9.0</td>\n",
       "      <td>NaN</td>\n",
       "    </tr>\n",
       "  </tbody>\n",
       "</table>\n",
       "<p>194 rows × 7 columns</p>\n",
       "</div>"
      ],
      "text/plain": [
       "                          cname ccodealp  ht_region  wdi_gdpcapcur  \\\n",
       "27                      Burundi      BDI          4     292.997620   \n",
       "104                      Malawi      MWI          4     356.717560   \n",
       "33     Central African Republic      CAF          4     450.900238   \n",
       "117                  Mozambique      MOZ          4     461.415100   \n",
       "42   Congo, Democratic Republic      COD          4     467.074249   \n",
       "..                          ...      ...        ...            ...   \n",
       "38                       Taiwan      TWN          6            NaN   \n",
       "56                      Eritrea      ERI          4            NaN   \n",
       "90                 Korea, North      PRK          6            NaN   \n",
       "160                     Somalia      SOM          4            NaN   \n",
       "170                       Syria      SYR          3            NaN   \n",
       "\n",
       "        wdi_pop  p_polity2  wdi_oilrent  \n",
       "27   10827024.0       -1.0     0.000000  \n",
       "104  17670260.0        6.0     0.000000  \n",
       "33    4596028.0        6.0     0.000000  \n",
       "117  28649008.0        5.0     0.096506  \n",
       "42   81398768.0       -3.0     0.565558  \n",
       "..          ...        ...          ...  \n",
       "38          NaN       10.0          NaN  \n",
       "56          NaN       -7.0          NaN  \n",
       "90   25429984.0      -10.0          NaN  \n",
       "160  14589119.0        5.0          NaN  \n",
       "170  17068002.0       -9.0          NaN  \n",
       "\n",
       "[194 rows x 7 columns]"
      ]
     },
     "execution_count": 30,
     "metadata": {},
     "output_type": "execute_result"
    }
   ],
   "source": [
    "wb_data.sort_values(by=['wdi_gdpcapcur'])"
   ]
  },
  {
   "cell_type": "code",
   "execution_count": 31,
   "metadata": {},
   "outputs": [
    {
     "data": {
      "text/html": [
       "<div>\n",
       "<style scoped>\n",
       "    .dataframe tbody tr th:only-of-type {\n",
       "        vertical-align: middle;\n",
       "    }\n",
       "\n",
       "    .dataframe tbody tr th {\n",
       "        vertical-align: top;\n",
       "    }\n",
       "\n",
       "    .dataframe thead th {\n",
       "        text-align: right;\n",
       "    }\n",
       "</style>\n",
       "<table border=\"1\" class=\"dataframe\">\n",
       "  <thead>\n",
       "    <tr style=\"text-align: right;\">\n",
       "      <th></th>\n",
       "      <th>cname</th>\n",
       "      <th>ccodealp</th>\n",
       "      <th>ht_region</th>\n",
       "      <th>wdi_gdpcapcur</th>\n",
       "      <th>wdi_pop</th>\n",
       "      <th>p_polity2</th>\n",
       "      <th>wdi_oilrent</th>\n",
       "    </tr>\n",
       "  </thead>\n",
       "  <tbody>\n",
       "    <tr>\n",
       "      <th>12</th>\n",
       "      <td>Bahrain</td>\n",
       "      <td>BHR</td>\n",
       "      <td>3</td>\n",
       "      <td>23742.984375</td>\n",
       "      <td>1494074.0</td>\n",
       "      <td>-10.0</td>\n",
       "      <td>2.013305</td>\n",
       "    </tr>\n",
       "    <tr>\n",
       "      <th>151</th>\n",
       "      <td>Saudi Arabia</td>\n",
       "      <td>SAU</td>\n",
       "      <td>3</td>\n",
       "      <td>20803.746094</td>\n",
       "      <td>33099148.0</td>\n",
       "      <td>-10.0</td>\n",
       "      <td>23.053974</td>\n",
       "    </tr>\n",
       "    <tr>\n",
       "      <th>142</th>\n",
       "      <td>Qatar</td>\n",
       "      <td>QAT</td>\n",
       "      <td>3</td>\n",
       "      <td>59124.933594</td>\n",
       "      <td>2724724.0</td>\n",
       "      <td>-10.0</td>\n",
       "      <td>14.241599</td>\n",
       "    </tr>\n",
       "    <tr>\n",
       "      <th>90</th>\n",
       "      <td>Korea, North</td>\n",
       "      <td>PRK</td>\n",
       "      <td>6</td>\n",
       "      <td>NaN</td>\n",
       "      <td>25429984.0</td>\n",
       "      <td>-10.0</td>\n",
       "      <td>NaN</td>\n",
       "    </tr>\n",
       "    <tr>\n",
       "      <th>170</th>\n",
       "      <td>Syria</td>\n",
       "      <td>SYR</td>\n",
       "      <td>3</td>\n",
       "      <td>NaN</td>\n",
       "      <td>17068002.0</td>\n",
       "      <td>-9.0</td>\n",
       "      <td>NaN</td>\n",
       "    </tr>\n",
       "    <tr>\n",
       "      <th>...</th>\n",
       "      <td>...</td>\n",
       "      <td>...</td>\n",
       "      <td>...</td>\n",
       "      <td>...</td>\n",
       "      <td>...</td>\n",
       "      <td>...</td>\n",
       "      <td>...</td>\n",
       "    </tr>\n",
       "    <tr>\n",
       "      <th>150</th>\n",
       "      <td>Sao Tome and Principe</td>\n",
       "      <td>STP</td>\n",
       "      <td>4</td>\n",
       "      <td>1813.783203</td>\n",
       "      <td>207089.0</td>\n",
       "      <td>NaN</td>\n",
       "      <td>0.000000</td>\n",
       "    </tr>\n",
       "    <tr>\n",
       "      <th>154</th>\n",
       "      <td>Seychelles</td>\n",
       "      <td>SYC</td>\n",
       "      <td>4</td>\n",
       "      <td>15906.083984</td>\n",
       "      <td>95843.0</td>\n",
       "      <td>NaN</td>\n",
       "      <td>0.000000</td>\n",
       "    </tr>\n",
       "    <tr>\n",
       "      <th>174</th>\n",
       "      <td>Tonga</td>\n",
       "      <td>TON</td>\n",
       "      <td>9</td>\n",
       "      <td>4513.609375</td>\n",
       "      <td>101998.0</td>\n",
       "      <td>NaN</td>\n",
       "      <td>0.000000</td>\n",
       "    </tr>\n",
       "    <tr>\n",
       "      <th>180</th>\n",
       "      <td>Tuvalu</td>\n",
       "      <td>TUV</td>\n",
       "      <td>9</td>\n",
       "      <td>3572.493652</td>\n",
       "      <td>11370.0</td>\n",
       "      <td>NaN</td>\n",
       "      <td>0.000000</td>\n",
       "    </tr>\n",
       "    <tr>\n",
       "      <th>192</th>\n",
       "      <td>Samoa</td>\n",
       "      <td>WSM</td>\n",
       "      <td>9</td>\n",
       "      <td>4259.765137</td>\n",
       "      <td>195352.0</td>\n",
       "      <td>NaN</td>\n",
       "      <td>0.000000</td>\n",
       "    </tr>\n",
       "  </tbody>\n",
       "</table>\n",
       "<p>194 rows × 7 columns</p>\n",
       "</div>"
      ],
      "text/plain": [
       "                     cname ccodealp  ht_region  wdi_gdpcapcur     wdi_pop  \\\n",
       "12                 Bahrain      BHR          3   23742.984375   1494074.0   \n",
       "151           Saudi Arabia      SAU          3   20803.746094  33099148.0   \n",
       "142                  Qatar      QAT          3   59124.933594   2724724.0   \n",
       "90            Korea, North      PRK          6            NaN  25429984.0   \n",
       "170                  Syria      SYR          3            NaN  17068002.0   \n",
       "..                     ...      ...        ...            ...         ...   \n",
       "150  Sao Tome and Principe      STP          4    1813.783203    207089.0   \n",
       "154             Seychelles      SYC          4   15906.083984     95843.0   \n",
       "174                  Tonga      TON          9    4513.609375    101998.0   \n",
       "180                 Tuvalu      TUV          9    3572.493652     11370.0   \n",
       "192                  Samoa      WSM          9    4259.765137    195352.0   \n",
       "\n",
       "     p_polity2  wdi_oilrent  \n",
       "12       -10.0     2.013305  \n",
       "151      -10.0    23.053974  \n",
       "142      -10.0    14.241599  \n",
       "90       -10.0          NaN  \n",
       "170       -9.0          NaN  \n",
       "..         ...          ...  \n",
       "150        NaN     0.000000  \n",
       "154        NaN     0.000000  \n",
       "174        NaN     0.000000  \n",
       "180        NaN     0.000000  \n",
       "192        NaN     0.000000  \n",
       "\n",
       "[194 rows x 7 columns]"
      ]
     },
     "execution_count": 31,
     "metadata": {},
     "output_type": "execute_result"
    }
   ],
   "source": [
    "wb_data.sort_values(by=['p_polity2'])"
   ]
  },
  {
   "cell_type": "markdown",
   "metadata": {},
   "source": [
    "#### Basic characteristics of your data:"
   ]
  },
  {
   "cell_type": "code",
   "execution_count": 32,
   "metadata": {},
   "outputs": [
    {
     "data": {
      "text/plain": [
       "1      36296400.0\n",
       "2       2873457.0\n",
       "3      41389200.0\n",
       "4         77001.0\n",
       "5      29816748.0\n",
       "          ...    \n",
       "190    32388600.0\n",
       "191    29390408.0\n",
       "192      195352.0\n",
       "193    27834820.0\n",
       "194    16853688.0\n",
       "Name: wdi_pop, Length: 194, dtype: float64"
      ]
     },
     "execution_count": 32,
     "metadata": {},
     "output_type": "execute_result"
    }
   ],
   "source": [
    "wb_data['wdi_pop']"
   ]
  },
  {
   "cell_type": "code",
   "execution_count": 33,
   "metadata": {},
   "outputs": [
    {
     "data": {
      "text/plain": [
       "38868002.166666664"
      ]
     },
     "execution_count": 33,
     "metadata": {},
     "output_type": "execute_result"
    }
   ],
   "source": [
    "wb_data['wdi_pop'].mean()\n"
   ]
  },
  {
   "cell_type": "code",
   "execution_count": null,
   "metadata": {},
   "outputs": [],
   "source": [
    "wb_data['wdi_oilrent'].median()\n"
   ]
  },
  {
   "cell_type": "code",
   "execution_count": null,
   "metadata": {},
   "outputs": [],
   "source": [
    "wb_data['wdi_gdpcapcur'].min()"
   ]
  },
  {
   "cell_type": "code",
   "execution_count": null,
   "metadata": {},
   "outputs": [],
   "source": [
    "groups.get_group(1)['wdi_gdpcapcur'].min()"
   ]
  },
  {
   "cell_type": "code",
   "execution_count": null,
   "metadata": {},
   "outputs": [],
   "source": [
    "wb_data['ht_region'].value_counts()"
   ]
  },
  {
   "cell_type": "markdown",
   "metadata": {},
   "source": [
    "### Practice \n",
    "\n",
    "We will us the same dataset for the practice"
   ]
  },
  {
   "cell_type": "markdown",
   "metadata": {},
   "source": [
    "##### 1 Rename your regions using the following structure and information from the data decription. The format of naming is on you.\n",
    "\n",
    "The structure:"
   ]
  },
  {
   "cell_type": "markdown",
   "metadata": {},
   "source": [
    "```df['column name'] = df['column name'].replace(['1st old value','2nd old value',...],'new value')```"
   ]
  },
  {
   "cell_type": "code",
   "execution_count": null,
   "metadata": {},
   "outputs": [],
   "source": [
    "#your code here"
   ]
  },
  {
   "cell_type": "markdown",
   "metadata": {},
   "source": [
    "##### 2 Print countries with the share of oil_rents is higher than 1% of GDP, and Polity Index of Democracy above 1. Then, display these countries only for Latin America"
   ]
  },
  {
   "cell_type": "code",
   "execution_count": null,
   "metadata": {},
   "outputs": [],
   "source": [
    "#your code here"
   ]
  },
  {
   "cell_type": "markdown",
   "metadata": {},
   "source": [
    "##### 3 Using `get_group()` method calculate the mean gdp per capita in Sub Saharan Africa and Western Europe / North America. Using sorting to identify which country is economically poorest in Latin America."
   ]
  },
  {
   "cell_type": "code",
   "execution_count": null,
   "metadata": {},
   "outputs": [],
   "source": [
    "#your code here"
   ]
  },
  {
   "cell_type": "code",
   "execution_count": 34,
   "metadata": {},
   "outputs": [
    {
     "data": {
      "text/html": [
       "<div>\n",
       "<style scoped>\n",
       "    .dataframe tbody tr th:only-of-type {\n",
       "        vertical-align: middle;\n",
       "    }\n",
       "\n",
       "    .dataframe tbody tr th {\n",
       "        vertical-align: top;\n",
       "    }\n",
       "\n",
       "    .dataframe thead th {\n",
       "        text-align: right;\n",
       "    }\n",
       "</style>\n",
       "<table border=\"1\" class=\"dataframe\">\n",
       "  <thead>\n",
       "    <tr style=\"text-align: right;\">\n",
       "      <th></th>\n",
       "      <th>cname</th>\n",
       "      <th>ccodealp</th>\n",
       "      <th>ht_region</th>\n",
       "      <th>wdi_gdpcapcur</th>\n",
       "      <th>wdi_pop</th>\n",
       "      <th>p_polity2</th>\n",
       "      <th>wdi_oilrent</th>\n",
       "    </tr>\n",
       "  </thead>\n",
       "  <tbody>\n",
       "    <tr>\n",
       "      <th>1</th>\n",
       "      <td>Afghanistan</td>\n",
       "      <td>AFG</td>\n",
       "      <td>8</td>\n",
       "      <td>519.884766</td>\n",
       "      <td>36296400.0</td>\n",
       "      <td>-1.0</td>\n",
       "      <td>0.001213</td>\n",
       "    </tr>\n",
       "    <tr>\n",
       "      <th>2</th>\n",
       "      <td>Albania</td>\n",
       "      <td>ALB</td>\n",
       "      <td>1</td>\n",
       "      <td>4531.020996</td>\n",
       "      <td>2873457.0</td>\n",
       "      <td>9.0</td>\n",
       "      <td>1.367729</td>\n",
       "    </tr>\n",
       "    <tr>\n",
       "      <th>3</th>\n",
       "      <td>Algeria</td>\n",
       "      <td>DZA</td>\n",
       "      <td>3</td>\n",
       "      <td>4111.293945</td>\n",
       "      <td>41389200.0</td>\n",
       "      <td>2.0</td>\n",
       "      <td>12.361850</td>\n",
       "    </tr>\n",
       "    <tr>\n",
       "      <th>4</th>\n",
       "      <td>Andorra</td>\n",
       "      <td>AND</td>\n",
       "      <td>5</td>\n",
       "      <td>38962.878906</td>\n",
       "      <td>77001.0</td>\n",
       "      <td>NaN</td>\n",
       "      <td>NaN</td>\n",
       "    </tr>\n",
       "    <tr>\n",
       "      <th>5</th>\n",
       "      <td>Angola</td>\n",
       "      <td>AGO</td>\n",
       "      <td>4</td>\n",
       "      <td>4095.812988</td>\n",
       "      <td>29816748.0</td>\n",
       "      <td>-2.0</td>\n",
       "      <td>15.443859</td>\n",
       "    </tr>\n",
       "  </tbody>\n",
       "</table>\n",
       "</div>"
      ],
      "text/plain": [
       "         cname ccodealp  ht_region  wdi_gdpcapcur     wdi_pop  p_polity2  \\\n",
       "1  Afghanistan      AFG          8     519.884766  36296400.0       -1.0   \n",
       "2      Albania      ALB          1    4531.020996   2873457.0        9.0   \n",
       "3      Algeria      DZA          3    4111.293945  41389200.0        2.0   \n",
       "4      Andorra      AND          5   38962.878906     77001.0        NaN   \n",
       "5       Angola      AGO          4    4095.812988  29816748.0       -2.0   \n",
       "\n",
       "   wdi_oilrent  \n",
       "1     0.001213  \n",
       "2     1.367729  \n",
       "3    12.361850  \n",
       "4          NaN  \n",
       "5    15.443859  "
      ]
     },
     "execution_count": 34,
     "metadata": {},
     "output_type": "execute_result"
    }
   ],
   "source": [
    "wb_data.head()"
   ]
  },
  {
   "cell_type": "markdown",
   "metadata": {},
   "source": [
    "**Mean value of wdi_gdpcapcur for last 10 countries.**"
   ]
  },
  {
   "cell_type": "code",
   "execution_count": 37,
   "metadata": {},
   "outputs": [
    {
     "data": {
      "text/plain": [
       "14412.184014892578"
      ]
     },
     "execution_count": 37,
     "metadata": {},
     "output_type": "execute_result"
    }
   ],
   "source": [
    "wb_data['wdi_gdpcapcur'][-10::1].mean()"
   ]
  },
  {
   "cell_type": "markdown",
   "metadata": {},
   "source": [
    "**Find 5 most democratic countries.**"
   ]
  },
  {
   "cell_type": "code",
   "execution_count": 42,
   "metadata": {},
   "outputs": [
    {
     "data": {
      "text/plain": [
       "169    Switzerland\n",
       "124    New Zealand\n",
       "157       Slovakia\n",
       "31          Canada\n",
       "32      Cape Verde\n",
       "Name: cname, dtype: object"
      ]
     },
     "execution_count": 42,
     "metadata": {},
     "output_type": "execute_result"
    }
   ],
   "source": [
    "wb_data.sort_values(by=['p_polity2'], ascending=False)[:5]['cname']"
   ]
  }
 ],
 "metadata": {
  "kernelspec": {
   "display_name": "Python 3 (ipykernel)",
   "language": "python",
   "name": "python3"
  },
  "language_info": {
   "codemirror_mode": {
    "name": "ipython",
    "version": 3
   },
   "file_extension": ".py",
   "mimetype": "text/x-python",
   "name": "python",
   "nbconvert_exporter": "python",
   "pygments_lexer": "ipython3",
   "version": "3.10.0"
  }
 },
 "nbformat": 4,
 "nbformat_minor": 4
}
