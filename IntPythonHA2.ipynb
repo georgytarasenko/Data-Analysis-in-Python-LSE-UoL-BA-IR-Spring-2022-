{
 "cells": [
  {
   "cell_type": "markdown",
   "metadata": {},
   "source": [
    "# HOME ASSIGNMENT 2\n",
    "\n",
    "All the code for this assignmnet should be written here in blank chunks. The assignmnet should be submitted via Dropbox in a folder with your group's number ([201](https://www.dropbox.com/request/YClB4vVGmCWmbiIL6HVe), [202](https://www.dropbox.com/request/KOS2Zau8kxxcRIHutEOS), [203](https://www.dropbox.com/request/qJc20mEtxE1PWyBtNNxv), [204](https://www.dropbox.com/request/sL1qneQIOxMIshAM02OF), [205](https://www.dropbox.com/request/vBfpXpuojdzceobu0lO5), [206](https://www.dropbox.com/request/gyp1TU4lSOzLd4lmzO4D)). File name's format 'LastName_FirstName_HA2.ipynb'. We do not accept any files via e-mail or Telegram.\n",
    "\n",
    "The format of the submission file is .ipynb, all other formats (.py, .pdf, .docx etc) are not accepted; the submission of the wrong format will be graded as zero. \n",
    "\n",
    "### DEADLINE: February, 11th, 23:59 MSC\n",
    "\n",
    "**Late submission policy:** you can submit the assignment after the deadline, but the penalty of **2 points** (out of 10) **per late day** will be applied."
   ]
  },
  {
   "cell_type": "markdown",
   "metadata": {},
   "source": [
    "### Task 1 (0.5)\n",
    "\n",
    "Write a program that reads two integers A and B and prints on the screen the largest of them. If two numbers are equal, the program is supposed to print the number.\n",
    "\n",
    "**I​nput**\n",
    "\n",
    "Two integers A and B  in a range from 1 to 1000 are entered. It is assumed that a user inputs data properly, so the program does not need to check whether the input is correct.\n",
    "\n",
    "**O​utput**\n",
    "\n",
    "Print the solution of the problem.\n",
    "\n",
    "**E​xample**\n",
    "```\n",
    "### Test 1\n",
    "Input:\n",
    "7\n",
    "90\n",
    "\n",
    "Output:\n",
    "90\n",
    "\n",
    "### Test 2\n",
    "Input:\n",
    "3\n",
    "3\n",
    "\n",
    "Output:\n",
    "3\n",
    "```"
   ]
  },
  {
   "cell_type": "markdown",
   "metadata": {},
   "source": [
    "### Task 2 (0.5)\n",
    "\n",
    "Write a program that takes as an input a string and a string pattern (substring). The program should return number of occurences of the given substring in the given string.\n",
    "\n",
    "**I​nput**\n",
    "\n",
    "Two strings are entered.\n",
    "\n",
    "**O​utput**\n",
    "\n",
    "Print the solution of the problem.\n",
    "\n",
    "**E​xample**\n",
    "```\n",
    "### Test 1\n",
    "Input:\n",
    "'Never gonna give you up'\n",
    "'e'\n",
    "\n",
    "Output:\n",
    "3\n",
    "\n",
    "### Test 2\n",
    "Input:\n",
    "'Never gonna let you down'\n",
    "'gonna'\n",
    "\n",
    "Output:\n",
    "1\n",
    "```"
   ]
  },
  {
   "cell_type": "code",
   "execution_count": null,
   "metadata": {},
   "outputs": [],
   "source": []
  },
  {
   "cell_type": "markdown",
   "metadata": {},
   "source": [
    "### Task 3 (0.5)\n",
    "\n",
    "Write a program that takes as an input a string of some fruit. If the given fruit is in `fruits` list (pre-defined), the program should print 'The /fruitname/ is in our list.', otherwise 'I cannot find the /fruitname/.'\n",
    "\n",
    "**I​nput**\n",
    "\n",
    "One string is entered.\n",
    "\n",
    "**O​utput**\n",
    "\n",
    "Print the solution of the problem.\n",
    "\n",
    "**E​xample**\n",
    "```\n",
    "### Test 1\n",
    "Input:\n",
    "'apple'\n",
    "\n",
    "Output:\n",
    "The apple is in our list.\n",
    "\n",
    "### Test 2\n",
    "Input:\n",
    "'watermelon'\n",
    "\n",
    "Output:\n",
    "I cannot find the watermelon.\n",
    "```"
   ]
  },
  {
   "cell_type": "code",
   "execution_count": null,
   "metadata": {},
   "outputs": [],
   "source": [
    "fruits = ['apple', 'banana', 'orange', 'mango', 'pineapple', 'papaya']\n",
    "# your code here"
   ]
  },
  {
   "cell_type": "markdown",
   "metadata": {},
   "source": [
    "### Task 4 (0.5)\n",
    "\n",
    "You have a predefined `countries` list. Proceed the next steps in a provided order (using only list methods):\n",
    "\n",
    "* remove the countries that do not exist now or exist in fantasy books;\n",
    "* extend the list with the next countries: Albania, Croatia, Sweden;\n",
    "* insert Belarus on position with index 1;\n",
    "* sort the list in the alphabetical order.\n",
    "\n",
    "**I​nput**\n",
    "\n",
    "No input is anticipated.\n",
    "\n",
    "**O​utput**\n",
    "\n",
    "`['Albania', 'Belarus', 'Canada', 'China', 'Croatia', 'Germany', 'Russia', 'Sweden', 'Ukraine']`\n",
    "\n",
    "**E​xample**\n",
    "```\n",
    "No example can be provided.\n",
    "```"
   ]
  },
  {
   "cell_type": "code",
   "execution_count": null,
   "metadata": {},
   "outputs": [],
   "source": [
    "countries = ['Ukraine', 'Canada', 'Germany', 'Narnia', 'China', 'Gondor', 'Roman Empire', 'Russia']\n",
    "# your code here"
   ]
  },
  {
   "cell_type": "markdown",
   "metadata": {},
   "source": [
    "## IF YOU PROCEED TASKS 1-4, YOU ALREADY HAVE 2/10"
   ]
  },
  {
   "cell_type": "markdown",
   "metadata": {},
   "source": [
    "### Task 5 (1)\n",
    "\n",
    "Write a program that determines whether the year is a leap year. The program reads a natural number and prints on the screen YES if the year is a leap year, and NO otherwise. According to the Gregorian calendar, a year is a leap year if its number is a multiple of 4 but not a multiple of 100, or if it is a multiple of 400.\n",
    "\n",
    "**I​nput**\n",
    "\n",
    "A positive integer ​is entered. It is assumed that a user inputs data properly, so the program does not need to check whether the input is correct.\n",
    "\n",
    "**O​utput**\n",
    "\n",
    "Print the solution of the problem.\n",
    "\n",
    "**E​xample**\n",
    "```\n",
    "### Test 1\n",
    "Input:\n",
    "2020\n",
    "\n",
    "Output:\n",
    "YES\n",
    "\n",
    "### Test 2\n",
    "Input:\n",
    "2019\n",
    "\n",
    "Output:\n",
    "NO\n",
    "```"
   ]
  },
  {
   "cell_type": "code",
   "execution_count": null,
   "metadata": {},
   "outputs": [],
   "source": []
  },
  {
   "cell_type": "markdown",
   "metadata": {},
   "source": [
    "### Task 6 (1)\n",
    "\n",
    "Write a program which prints the first element of a string in the first line; from 2nd to 5th elements of the given string in the second line; all the elements in the reverse order in the third line; every third element of the given string in the fourth line.\n",
    "\n",
    "**I​nput**\n",
    "\n",
    "The program reads a​ string from the keyboard as input. It is assumed that a user inputs data properly, so the program does not need to check whether the input is correct.\n",
    "\n",
    "**O​utput**\n",
    "\n",
    "Print the solution of the problem.\n",
    "\n",
    "**E​xample**\n",
    "\n",
    "```\n",
    "### Test 1\n",
    "Input: \n",
    "I LOVE PYTHON\n",
    "\n",
    "Output:\n",
    "I\n",
    " LOV\n",
    "NOHTYP EVOL I\n",
    "LEYO\n",
    "```"
   ]
  },
  {
   "cell_type": "code",
   "execution_count": null,
   "metadata": {},
   "outputs": [],
   "source": []
  },
  {
   "cell_type": "markdown",
   "metadata": {},
   "source": [
    "## IF YOU PROCEED TASKS 1-6, YOU ALREADY HAVE 4/10"
   ]
  },
  {
   "cell_type": "markdown",
   "metadata": {},
   "source": [
    "### Task 7 (2)\n",
    "\n",
    "A word which consists only of uppercase and lowercase Latin letters is given. Check if it is true that this word is read the same way both from right to left and from left to right, i.e. if it is a palindrome. Uppercase and lowercase letters are considered indistinguishable. Print the word YES if the word is a palindrome and the word NO if it is not.\n",
    "\n",
    "**I​nput**\n",
    "\n",
    "A string is entered. It is assumed that a user inputs data properly, so the program does not need to check whether the input is correct.\n",
    "\n",
    "**O​utput**\n",
    "\n",
    "Print the solution of the problem.\n",
    "\n",
    "**E​xample**\n",
    "```\n",
    "### Test 1\n",
    "Input:\n",
    "Radar\n",
    "\n",
    "Output:\n",
    "YES\n",
    "\n",
    "### Test 2\n",
    "Input:\n",
    "Hello\n",
    "\n",
    "Output:\n",
    "NO\n",
    "```\n",
    "\n",
    "NB! If you want your number sequence to be treated as a list with each number as a separate integer element, read [here](https://colab.research.google.com/drive/1VGJ9Zl9RQm6X_kHc9u9NhCh4Isubx2pB#scrollTo=UOtkdQZ5UAqT&line=30&uniqifier=1) on the ```map()``` and ```split()``` functions."
   ]
  },
  {
   "cell_type": "code",
   "execution_count": null,
   "metadata": {},
   "outputs": [],
   "source": []
  },
  {
   "cell_type": "markdown",
   "metadata": {},
   "source": [
    "### Task 8 (2)\n",
    "\n",
    "A string of exactly two words separated by a space is given. Write a program which rearranges these words and prints the result on the screen.\n",
    "\n",
    "**I​nput**\n",
    "\n",
    "A string is entered. It is assumed that a user inputs data properly, so the program does not need to check whether the input is correct.\n",
    "\n",
    "**O​utput**\n",
    "\n",
    "Print the solution of the problem.\n",
    "\n",
    "**E​xample**\n",
    "```\n",
    "### Test 1\n",
    "Input:\n",
    "Hello HSE\n",
    "\n",
    "Output:\n",
    "HSE Hello\n",
    "\n",
    "```"
   ]
  },
  {
   "cell_type": "code",
   "execution_count": null,
   "metadata": {},
   "outputs": [],
   "source": []
  },
  {
   "cell_type": "markdown",
   "metadata": {},
   "source": [
    "## IF YOU PROCEED TASKS 1-8, YOU ALREADY HAVE 8/10"
   ]
  },
  {
   "cell_type": "markdown",
   "metadata": {},
   "source": [
    "### Task 9 (4)\n",
    "\n",
    "The program should take the string with some sentence (words divided with whitespaces or whitespaces with special characters) as an input. Proceed the next steps in the following order:\n",
    "\n",
    "* if the string have some left or right extraspaces, they should be removed (0.25);\n",
    "* remove any special characters from a string (`,`, `;`, `-`, `.` etc) (0.25);\n",
    "* every word in the sentence should be mirrored around its center. If the word contains even number of letters, its left part should become its mirrored right part. If the word contains uneven number of letters, the center letter should be immutable. For instance: 'Georgy' - 'GeooeG', 'Ioann' - 'IoaoI' (2.5);\n",
    "* print this new sentence in the reverse order (by words, not by letters) in such a way as to every single word should be on separate string, and words should be separated (vertically) by `'he-he'` string (1).\n",
    "\n",
    "**I​nput**\n",
    "\n",
    "A string is entered. It is assumed that a user inputs data properly, so the program does not need to check whether the input is correct.\n",
    "\n",
    "**O​utput**\n",
    "\n",
    "Print the solution of the problem.\n",
    "\n",
    "**E​xample**\n",
    "```\n",
    "### Test 1\n",
    "Input:\n",
    "This task is probably difficult.\n",
    "\n",
    "Output:\n",
    "diffiffid\n",
    "he-he\n",
    "probborp\n",
    "he-he\n",
    "ii\n",
    "he-he\n",
    "taat\n",
    "he-he\n",
    "ThhT\n",
    "\n",
    "```\n",
    "NB! You will probably be interested in list comprehensions or `map` function doing this task."
   ]
  },
  {
   "cell_type": "markdown",
   "metadata": {},
   "source": [
    "## IF YOU PROCEED TASKS 1-9, YOU ALREADY HAVE 10/10 AND 2 BONUS SCORES"
   ]
  }
 ],
 "metadata": {
  "kernelspec": {
   "display_name": "Python 3",
   "language": "python",
   "name": "python3"
  },
  "language_info": {
   "codemirror_mode": {
    "name": "ipython",
    "version": 3
   },
   "file_extension": ".py",
   "mimetype": "text/x-python",
   "name": "python",
   "nbconvert_exporter": "python",
   "pygments_lexer": "ipython3",
   "version": "3.8.3"
  }
 },
 "nbformat": 4,
 "nbformat_minor": 5
}
